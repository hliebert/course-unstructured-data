{
 "cells": [
  {
   "cell_type": "markdown",
   "metadata": {},
   "source": [
    "# PC Session 1"
   ]
  },
  {
   "cell_type": "markdown",
   "metadata": {},
   "source": [
    "**Author:**\n",
    "[Helge Liebert](https://hliebert.github.io/)"
   ]
  },
  {
   "cell_type": "markdown",
   "metadata": {},
   "source": [
    "# Reading the pdf files content as data"
   ]
  },
  {
   "cell_type": "markdown",
   "metadata": {},
   "source": [
    "### Libraries"
   ]
  },
  {
   "cell_type": "code",
   "execution_count": null,
   "metadata": {},
   "outputs": [],
   "source": [
    "library(stringr)\n",
    "library(readr)"
   ]
  },
  {
   "cell_type": "markdown",
   "metadata": {},
   "source": [
    "### Get file names, w/ and w/o paths"
   ]
  },
  {
   "cell_type": "code",
   "execution_count": null,
   "metadata": {},
   "outputs": [],
   "source": [
    "files <- list.files(path = \"txt/\", pattern = \"*.txt\", full.names = TRUE)\n",
    "names <- list.files(path = \"txt/\", pattern = \"*.txt\")\n",
    "head(files)"
   ]
  },
  {
   "cell_type": "markdown",
   "metadata": {},
   "source": [
    "### Read files"
   ]
  },
  {
   "cell_type": "code",
   "execution_count": null,
   "metadata": {},
   "outputs": [],
   "source": [
    "## read only first 100 bytes, to preserve memory\n",
    "content <- lapply(files, function(f) readChar(f, nchars = 100))\n",
    "\n",
    "## read all\n",
    "## content <- lapply(files, readr::read_file)\n",
    "## content <- lapply(files, function(f) readChar(f, nchars = file.info(f)$size))\n",
    "                  \n",
    "head(content)"
   ]
  },
  {
   "cell_type": "markdown",
   "metadata": {},
   "source": [
    "### Read as data"
   ]
  },
  {
   "cell_type": "code",
   "execution_count": null,
   "metadata": {},
   "outputs": [],
   "source": [
    "data <- as.data.frame(cbind(names, content))\n",
    "head(data)"
   ]
  },
  {
   "cell_type": "markdown",
   "metadata": {},
   "source": [
    "### Extract more info from file name"
   ]
  },
  {
   "cell_type": "code",
   "execution_count": null,
   "metadata": {},
   "outputs": [],
   "source": [
    "## regex to get author names\n",
    "data$names <- gsub(\"\\\\.txt$\", \"\", data$names)\n",
    "data$author <- gsub(\" - .*$\", \"\", data$names)\n",
    "head(data)"
   ]
  },
  {
   "cell_type": "code",
   "execution_count": null,
   "metadata": {},
   "outputs": [],
   "source": [
    "## cleaner, no false positives (check first obs)\n",
    "data$author <- str_extract(data$names, \"^.*?( - )\")\n",
    "data$author <- gsub(\" - \", \"\", data$author)\n",
    "head(data)"
   ]
  },
  {
   "cell_type": "code",
   "execution_count": null,
   "metadata": {},
   "outputs": [],
   "source": [
    "## same for year\n",
    "data$year <- str_extract(data$names, \" - (20|19)[0-9][0-9] - \")\n",
    "data$year <- gsub(\" - \", \"\", data$year)\n",
    "head(data)"
   ]
  },
  {
   "cell_type": "code",
   "execution_count": null,
   "metadata": {},
   "outputs": [],
   "source": [
    "## same for title\n",
    "data$title <- str_extract(data$names, \" - .*$\") ## not good, title may contain hyphen\n",
    "data$title <- str_extract(data$names, \" - (20|19)[0-9][0-9] - .*$\")\n",
    "data$title <- gsub(\"^ - (20|19)[0-9][0-9] - \", \"\", data$title)\n",
    "head(data)"
   ]
  },
  {
   "cell_type": "code",
   "execution_count": null,
   "metadata": {},
   "outputs": [],
   "source": [
    "## trim whitespace everywhere\n",
    "data$author <- trimws(data$author)\n",
    "data$year <- trimws(data$year)\n",
    "data$title <- trimws(data$title)\n",
    "head(data)"
   ]
  },
  {
   "cell_type": "markdown",
   "metadata": {},
   "source": [
    "# Read csv-converted example file "
   ]
  },
  {
   "cell_type": "markdown",
   "metadata": {},
   "source": [
    "### Read file"
   ]
  },
  {
   "cell_type": "code",
   "execution_count": null,
   "metadata": {},
   "outputs": [],
   "source": [
    "example <- read.table(\"example.csv\", sep =\";\") \n",
    "options(scipen = 9999)\n",
    "stopifnot(is.na(example$V3))\n",
    "example$V3 <- NULL\n",
    "\n",
    "names(example) <- c(\"id\", \"ad\")\n",
    "example$ad <- trimws(example$ad)\n",
    "head(example)"
   ]
  },
  {
   "cell_type": "markdown",
   "metadata": {},
   "source": [
    "### Fix character encoding"
   ]
  },
  {
   "cell_type": "code",
   "execution_count": null,
   "metadata": {},
   "outputs": [],
   "source": [
    "Encoding(example$ad) <- \"UTF-8\" \n",
    "head(example)"
   ]
  }
 ],
 "metadata": {
  "kernelspec": {
   "display_name": "R",
   "language": "R",
   "name": "ir"
  },
  "language_info": {
   "codemirror_mode": "r",
   "file_extension": ".r",
   "mimetype": "text/x-r-source",
   "name": "R",
   "pygments_lexer": "r",
   "version": "4.0.2"
  }
 },
 "nbformat": 4,
 "nbformat_minor": 4
}
