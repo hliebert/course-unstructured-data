{
 "cells": [
  {
   "cell_type": "markdown",
   "metadata": {},
   "source": [
    "# PC Session 2"
   ]
  },
  {
   "cell_type": "markdown",
   "metadata": {},
   "source": [
    "**Author:**\n",
    "[Helge Liebert](https://hliebert.github.io/)"
   ]
  },
  {
   "cell_type": "markdown",
   "metadata": {},
   "source": [
    "# Web APIs"
   ]
  },
  {
   "cell_type": "markdown",
   "metadata": {},
   "source": [
    "## Requirements"
   ]
  },
  {
   "cell_type": "code",
   "execution_count": null,
   "metadata": {},
   "outputs": [],
   "source": [
    "## Libraries\n",
    "library(xml2)\n",
    "library(jsonlite)\n",
    "library(httr)\n",
    "library(rvest)"
   ]
  },
  {
   "cell_type": "markdown",
   "metadata": {},
   "source": [
    "## Examples"
   ]
  },
  {
   "cell_type": "markdown",
   "metadata": {},
   "source": [
    "You query APIs by sending a HTTP GET request for the data you desire. The request is specified using a *unique resource identifier* (URI) string. The process is similiar to how you specify a URL (*uniform resource locator*) when visiting a website using your computer's browser. For specific information on how to construct the API query, consult the documentation of the specific API you want to use. \n",
    "\n",
    "This tutorial mostly relies on the `kiva.org` API, a crowdfunding site for small business loans for entrepreneurs in developing countries. The link to the API documentation is given below."
   ]
  },
  {
   "cell_type": "code",
   "execution_count": null,
   "metadata": {
    "scrolled": true
   },
   "outputs": [],
   "source": [
    "## Request specific info from KIVA API\n",
    "\n",
    "## Examples\n",
    "## https://build.kiva.org/api\n",
    "## https://build.kiva.org/docs/getting_started\n",
    "## https://web.archive.org/web/20181110112914/http://build.kiva.org/\n",
    "\n",
    "## Get the 20 most recent loans\n",
    "newloans <- fromJSON(\"https://api.kivaws.org/v1/loans/newest.json\", flatten = TRUE)\n",
    "newloans"
   ]
  },
  {
   "cell_type": "markdown",
   "metadata": {},
   "source": [
    "Simple queries can be immediately passed to the `jsonlite::fromJSON()` function. You can vary the method of your request and specify additional parameters to narrow down your request. Methods and parameters are listed in the documentation. "
   ]
  },
  {
   "cell_type": "code",
   "execution_count": null,
   "metadata": {},
   "outputs": [],
   "source": [
    "## Only (sector==Agriculture), returned in html, look at in your browswer\n",
    "## https://api.kivaws.org/v1/loans/search.html?sector=Agriculture\n",
    "\n",
    "## Only (sector == Agriculture) & (country == Vietnam)\n",
    "vnagsectorloans <- fromJSON(\"https://api.kivaws.org/v1/loans/search.json?sector=Agriculture&country_code=VN\", flatten = TRUE)\n",
    "head(vnagsectorloans)"
   ]
  },
  {
   "cell_type": "code",
   "execution_count": null,
   "metadata": {},
   "outputs": [],
   "source": [
    "## All lenders for a particular loan id\n",
    "loans <- fromJSON(\"http://api.kivaws.org/v1/loans/38239/lenders.json\")\n",
    "str(loans)"
   ]
  },
  {
   "cell_type": "markdown",
   "metadata": {},
   "source": [
    "JSON (*Java Script Object Notation*), like XML (*Extended Markup Language*), is a tree-like nested data format. Both data types are popular response formats for APIs. JSON was explicitly developed for this purpose. "
   ]
  },
  {
   "cell_type": "code",
   "execution_count": null,
   "metadata": {},
   "outputs": [],
   "source": [
    "toJSON(loans, pretty = TRUE)"
   ]
  },
  {
   "cell_type": "markdown",
   "metadata": {},
   "source": [
    "Using the `flatten = TRUE` option, or the `jsonlite::flatten()` function will simplify the structure of some nested elements."
   ]
  },
  {
   "cell_type": "code",
   "execution_count": null,
   "metadata": {},
   "outputs": [],
   "source": [
    "## Simplify structure\n",
    "loans <- fromJSON(\"http://api.kivaws.org/v1/loans/38239/lenders.json\",\n",
    "                  flatten = TRUE)\n",
    "str(loans)\n",
    "loans <- as.data.frame(loans$loans)\n",
    "toJSON(loans, pretty = TRUE)"
   ]
  },
  {
   "cell_type": "markdown",
   "metadata": {},
   "source": [
    "The Kiva API also has a method that lists all available methods. The API is well documented on their website. "
   ]
  },
  {
   "cell_type": "code",
   "execution_count": null,
   "metadata": {},
   "outputs": [],
   "source": [
    "## List of all API methods\n",
    "methods <- fromJSON(\"https://api.kivaws.org/v1/methods.json\", flatten = TRUE)\n",
    "methods"
   ]
  },
  {
   "cell_type": "markdown",
   "metadata": {},
   "source": [
    "## Request specific info from KIVA API"
   ]
  },
  {
   "cell_type": "markdown",
   "metadata": {},
   "source": [
    "The code in the next block constructs a query string from different string variables as the base components."
   ]
  },
  {
   "cell_type": "code",
   "execution_count": null,
   "metadata": {},
   "outputs": [],
   "source": [
    "## Parameters\n",
    "baseurl <- \"https://api.kivaws.org/v1/\"\n",
    "method <- \"loans/search.json?\"\n",
    "## method <- \"loans/search.xml?\"\n",
    "## method <- \"loans/search.html?\"\n",
    "country <- \"VN,KH\"\n",
    "sector <- \"Agriculture\"\n",
    "type <- \"individuals\"\n",
    "status <- \"funded\"\n",
    "sortby <- \"newest\"\n",
    "\n",
    "## Construct URL\n",
    "query <- paste0(\"country_code=\", country, \"&\",\n",
    "                \"sector=\", sector, \"&\",\n",
    "                \"borrower_type=\", type, \"&\",\n",
    "                \"status=\", status, \"&\",\n",
    "                \"sort_by=\", sortby)\n",
    "query\n",
    "uri <- paste0(baseurl, method, query )\n",
    "uri"
   ]
  },
  {
   "cell_type": "markdown",
   "metadata": {},
   "source": [
    "Sometimes you may need to construct the request more explicitly. This is also useful for catchig errors when embedding your requests in a program."
   ]
  },
  {
   "cell_type": "code",
   "execution_count": null,
   "metadata": {},
   "outputs": [],
   "source": [
    "## Send HTTP GET request, handle response content, library(httr)\n",
    "response <- GET(uri)\n",
    "response\n",
    "if (response$status_code == 200) {\n",
    "    jsontable <- content(response, as = \"text\")\n",
    "} else {\n",
    "    stop(\"HTTP response not OK!\")\n",
    "}\n",
    "jsontable"
   ]
  },
  {
   "cell_type": "markdown",
   "metadata": {},
   "source": [
    "The API only returns a single page consisting of 20 loans per request. To get more, you need to request additional pages. The metadata is returned in the `paging` list of the returned object. The loans are contained in the `loans` element."
   ]
  },
  {
   "cell_type": "code",
   "execution_count": null,
   "metadata": {},
   "outputs": [],
   "source": [
    "## Parse json data\n",
    "data <- fromJSON(jsontable, flatten = TRUE)\n",
    "#str(data)\n",
    "#names(data)\n",
    "data$paging\n",
    "data <- data$loans\n",
    "head(data)\n",
    "dim(data)"
   ]
  },
  {
   "cell_type": "markdown",
   "metadata": {},
   "source": [
    "Again, we can also simply pass the URI directly."
   ]
  },
  {
   "cell_type": "code",
   "execution_count": null,
   "metadata": {},
   "outputs": [],
   "source": [
    "## Even more simple, pass URI directly\n",
    "data <- fromJSON(uri, flatten = TRUE)\n",
    "data <- data$loans\n",
    "#str(data)\n",
    "names(data)\n",
    "dim(data)\n",
    "head(data[, c(\"tags\", \"themes\", \"description.languages\")])\n"
   ]
  },
  {
   "cell_type": "markdown",
   "metadata": {},
   "source": [
    "There are a few nested list elements in the returned data.table that we need to flatten. This lambda function transforms them to simple string columns."
   ]
  },
  {
   "cell_type": "code",
   "execution_count": null,
   "metadata": {},
   "outputs": [],
   "source": [
    "## Nested elements need to be flattened\n",
    "data$tags <- sapply(data$tags, function(x) paste(unlist(x), collapse = \", \"))\n",
    "data$themes <- sapply(data$themes, function(x) paste(unlist(x), collapse = \", \"))\n",
    "data$description.languages <- sapply(data$description.languages, function(x) paste(unlist(x), collapse = \", \"))\n",
    "head(data)    \n",
    "head(data[, c(\"tags\", \"themes\", \"description.languages\")])"
   ]
  },
  {
   "cell_type": "markdown",
   "metadata": {},
   "source": [
    "## Simple script to collect more information"
   ]
  },
  {
   "cell_type": "markdown",
   "metadata": {},
   "source": [
    "This script reads the metadata and interates over all pages to get all data for a specific search query.\n",
    "\n",
    "We first set the parameters, then request info. Response tables have a fixed pagelength, so you need to send multiple requests, iterating over the page numbers you request. "
   ]
  },
  {
   "cell_type": "code",
   "execution_count": null,
   "metadata": {},
   "outputs": [],
   "source": [
    "## Get all data, multiple requests, iterate over pages\n",
    "\n",
    "## Note: very simple proof of concept\n",
    "## (should check http response for error and have better tests)\n",
    "## (more efficient to large queries to file immediately)\n",
    "\n",
    "## Parameters\n",
    "baseurl <- \"https://api.kivaws.org/v1/\"\n",
    "method  <- \"loans/search.json?\"\n",
    "country <- \"VN\"\n",
    "sector  <- \"Agriculture\"\n",
    "type    <- \"individuals\"\n",
    "status  <- \"funded\"\n",
    "sortby  <- \"oldest\" # (o/w duplicates may occur when new entries are added)\n",
    "pagelength <- 20 # max page length allowed is 500\n",
    "\n",
    "## Construct URL\n",
    "query <- paste0(\"country_code=\", country, \"&\",\n",
    "                \"sector=\", sector, \"&\",\n",
    "                \"borrower_type=\", type, \"&\",\n",
    "                \"status=\", status, \"&\",\n",
    "                ## \"per_page=\", pagelength, \"&\"\n",
    "                \"sort_by=\", sortby)\n",
    "uri <- paste0(baseurl, method, query)\n",
    "\n",
    "## Get maxpagenumber and other information for iteration\n",
    "response <- fromJSON(uri, flatten = TRUE)\n",
    "#response$paging\n",
    "maxpages <- response$paging$pages\n",
    "records  <- response$paging$total\n",
    "columns  <- ncol(response$loans)\n",
    "\n",
    "## Open csv, write header\n",
    "header <- names(response$loans)\n",
    "write.table(t(header), file = \"Data/kiva.csv\", sep = \";\",\n",
    "            col.names = FALSE, row.names = FALSE)\n",
    "\n",
    "# Or collect in data frame (don't do this for large jobs)\n",
    "## data <- data.frame(matrix(nrow = 0, ncol = columns))\n",
    "## names(data) <- header\n",
    "header\n",
    "maxpages "
   ]
  },
  {
   "cell_type": "code",
   "execution_count": null,
   "metadata": {},
   "outputs": [],
   "source": [
    "## Simple helper function to flatten columns\n",
    "unnest <- function(col) paste(unlist(col), collapse = \", \")"
   ]
  },
  {
   "cell_type": "code",
   "execution_count": null,
   "metadata": {},
   "outputs": [],
   "source": [
    "## Iterate over pages, limit to first three for test\n",
    "for (p in seq(1, maxpages, by = 1)[1:3]) {\n",
    "\n",
    "    ## Info\n",
    "    print(paste0(p, \"/\", maxpages))\n",
    "\n",
    "    ## Append page to uri\n",
    "    pquery <- paste0(uri, \"&page=\", p)\n",
    "\n",
    "    ## Get data, assert completeness\n",
    "    loans <- fromJSON(pquery, flatten = TRUE)$loans\n",
    "    stopifnot(nrow(loans) == pagelength)\n",
    "    stopifnot(ncol(loans) == columns)\n",
    "\n",
    "    ## Fix nested list columns\n",
    "    loans$tags <- sapply(loans$tags, unnest)\n",
    "    ## loans$themes <- sapply(loans$themes, unnest) # missing for older records\n",
    "    loans$description.languages <- sapply(loans$description.languages, unnest)\n",
    " \n",
    "    ## Collect loans in data frame\n",
    "    ## data <- rbind(data, loans)\n",
    "\n",
    "    ## Better to append to file\n",
    "    write.table(loans, \"Data/kiva.csv\", sep = \";\", append = TRUE,\n",
    "                col.names = FALSE, row.names = FALSE)\n",
    "\n",
    "}\n",
    "\n",
    "head(data)\n",
    "dim(data)"
   ]
  },
  {
   "cell_type": "markdown",
   "metadata": {},
   "source": [
    "## Kiva GraphQL API"
   ]
  },
  {
   "cell_type": "markdown",
   "metadata": {},
   "source": [
    "### Simple request using the new Kiva API"
   ]
  },
  {
   "cell_type": "code",
   "execution_count": null,
   "metadata": {},
   "outputs": [],
   "source": [
    "baseurl <- \"https://api.kivaws.org/graphql?query=\"\n",
    "query <- \"{lend {loan (id: 1568001){id name}}}\"\n",
    "q <- URLencode(paste0(baseurl, query))"
   ]
  },
  {
   "cell_type": "code",
   "execution_count": null,
   "metadata": {},
   "outputs": [],
   "source": [
    "response <- GET(q)\n",
    "response <- fromJSON(content(response, as = \"text\"))\n",
    "response"
   ]
  },
  {
   "cell_type": "code",
   "execution_count": null,
   "metadata": {},
   "outputs": [],
   "source": [
    "## more elaborate query, nicer formatting.\n",
    "query <- \"{\n",
    "  lend {\n",
    "    loans(sortBy: newest) {\n",
    "      values {\n",
    "        id\n",
    "        name\n",
    "        loanAmount\n",
    "      }\n",
    "    }\n",
    "  }\n",
    "}\"\n",
    "q <- URLencode(paste0(baseurl, query))\n",
    "q"
   ]
  },
  {
   "cell_type": "code",
   "execution_count": null,
   "metadata": {},
   "outputs": [],
   "source": [
    "response <- GET(q)\n",
    "response <- fromJSON(content(response, as = \"text\"))\n",
    "response"
   ]
  },
  {
   "cell_type": "markdown",
   "metadata": {},
   "source": [
    "### Using a dedicated GHQL library"
   ]
  },
  {
   "cell_type": "code",
   "execution_count": null,
   "metadata": {},
   "outputs": [],
   "source": [
    "library(\"ghql\")"
   ]
  },
  {
   "cell_type": "code",
   "execution_count": null,
   "metadata": {},
   "outputs": [],
   "source": [
    "## Link to the GraphQL schema api\n",
    "link <- \"https://api.kivaws.org/graphql?query=\""
   ]
  },
  {
   "cell_type": "code",
   "execution_count": null,
   "metadata": {},
   "outputs": [],
   "source": [
    "## Connection\n",
    "conn <- GraphqlClient$new(url = link)"
   ]
  },
  {
   "cell_type": "code",
   "execution_count": null,
   "metadata": {},
   "outputs": [],
   "source": [
    "## Define a Graphql Query\n",
    "query <- '{\n",
    "  lend {\n",
    "    loans(sortBy: newest) {\n",
    "      values {\n",
    "        id\n",
    "        name\n",
    "        loanAmount\n",
    "      }\n",
    "    }\n",
    "  }\n",
    "}'"
   ]
  },
  {
   "cell_type": "code",
   "execution_count": null,
   "metadata": {},
   "outputs": [],
   "source": [
    "## The ghql query class and define query in a character string\n",
    "new <- Query$new()$query(\"link\", query)"
   ]
  },
  {
   "cell_type": "code",
   "execution_count": null,
   "metadata": {},
   "outputs": [],
   "source": [
    "## Inspecting the schema\n",
    "str(new)\n",
    "new$link"
   ]
  },
  {
   "cell_type": "code",
   "execution_count": null,
   "metadata": {},
   "outputs": [],
   "source": [
    "# Execute query\n",
    "result <- conn$exec(new$link)\n",
    "result"
   ]
  },
  {
   "cell_type": "code",
   "execution_count": null,
   "metadata": {},
   "outputs": [],
   "source": [
    "# Transform result to JSON\n",
    "result.injson <- fromJSON(result, flatten = F)\n",
    "result.injson"
   ]
  },
  {
   "cell_type": "code",
   "execution_count": null,
   "metadata": {},
   "outputs": [],
   "source": [
    "## more elaborate query\n",
    "query <- '{\n",
    "  lend {\n",
    "    loans (filters: {gender: female, country: [\"KE\", \"US\"]}, limit: 5) {\n",
    "      totalCount\n",
    "      values {\n",
    "        name\n",
    "        loanAmount\n",
    "        image {\n",
    "          url(presetSize: small)\n",
    "        }\n",
    "        activity {\n",
    "          name\n",
    "        }\n",
    "        geocode {\n",
    "          country {\n",
    "            isoCode\n",
    "            name\n",
    "          }\n",
    "        }\n",
    "        lenders (limit: 0) {\n",
    "          totalCount\n",
    "        }\n",
    "        ... on LoanPartner {\n",
    "          partnerName\n",
    "        }\n",
    "        ... on LoanDirect {\n",
    "          trusteeName\n",
    "        }\n",
    "      }\n",
    "    }\n",
    "  }\n",
    "}'"
   ]
  },
  {
   "cell_type": "code",
   "execution_count": null,
   "metadata": {},
   "outputs": [],
   "source": [
    "# set up new query and get JSON result\n",
    "new <- Query$new()$query(\"link\", query)\n",
    "result.injson <- fromJSON(conn$exec(new$link), flatten = F)\n",
    "result.injson"
   ]
  },
  {
   "cell_type": "markdown",
   "metadata": {},
   "source": [
    "## More examples: UK Parliament info"
   ]
  },
  {
   "cell_type": "markdown",
   "metadata": {},
   "source": [
    "This is an example using another API from the `theyworkforyou.com` API. The website provides data about UK politics and parliament. You need to request an API key for authorization to use their site. The basic plan is free for educational or charitable purposes."
   ]
  },
  {
   "cell_type": "code",
   "execution_count": null,
   "metadata": {},
   "outputs": [],
   "source": [
    "## TheyWorkForYou.com Example\n",
    "apikey <- \"G3WVqtBtKAbdGVqrd8BKajm8\"\n",
    "base <- \"https://www.theyworkforyou.com/api/\"\n",
    "format <- \"js\"\n",
    "func <- \"getMPs?\"\n",
    "query <- paste0(\"&\", \"key=\", apikey, \"&\", \"output=\", format)\n",
    "uri <- paste0(base, func, query)\n",
    "uri"
   ]
  },
  {
   "cell_type": "code",
   "execution_count": null,
   "metadata": {},
   "outputs": [],
   "source": [
    "## listofmps <- fromJSON(uri) # problem with encoding, maybe xml is better\n",
    "response <- GET(uri)\n",
    "response <- content(response, as = \"raw\")\n",
    "listofmps <- fromJSON(rawToChar(response))\n",
    "head(listofmps)\n"
   ]
  },
  {
   "cell_type": "code",
   "execution_count": null,
   "metadata": {},
   "outputs": [],
   "source": []
  },
  {
   "cell_type": "code",
   "execution_count": null,
   "metadata": {},
   "outputs": [],
   "source": []
  }
 ],
 "metadata": {
  "kernelspec": {
   "display_name": "R",
   "language": "R",
   "name": "ir"
  },
  "language_info": {
   "codemirror_mode": "r",
   "file_extension": ".r",
   "mimetype": "text/x-r-source",
   "name": "R",
   "pygments_lexer": "r",
   "version": "4.1.1"
  }
 },
 "nbformat": 4,
 "nbformat_minor": 2
}
