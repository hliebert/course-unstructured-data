{
 "cells": [
  {
   "cell_type": "markdown",
   "metadata": {},
   "source": [
    "# PC Session 2"
   ]
  },
  {
   "cell_type": "markdown",
   "metadata": {},
   "source": [
    "**Author:**\n",
    "[Helge Liebert](https://hliebert.github.io/)"
   ]
  },
  {
   "cell_type": "markdown",
   "metadata": {},
   "source": [
    "# Using Selenium"
   ]
  },
  {
   "cell_type": "markdown",
   "metadata": {},
   "source": [
    "## Libraries"
   ]
  },
  {
   "cell_type": "code",
   "execution_count": null,
   "metadata": {},
   "outputs": [],
   "source": [
    "library(\"RSelenium\")\n",
    "library(\"wdman\")"
   ]
  },
  {
   "cell_type": "markdown",
   "metadata": {},
   "source": [
    "### Connect to Selenium (using docker)"
   ]
  },
  {
   "cell_type": "code",
   "execution_count": null,
   "metadata": {},
   "outputs": [],
   "source": [
    "## Variant 1: Connect to browser running in docker container. This is the preferred option.\n",
    "\n",
    "## Run selenium in a docker container\n",
    "## docker run -d -p 4445:4444 selenium/standalone-chrome\n",
    "## docker run -d -p 4445:4444 selenium/standalone-firefox\n",
    "## to see the browser\n",
    "## docker run -d -p 5901:5900 -p 127.0.0.1:4445:4444 --link http-server selenium/standalone-firefox-debug:2.53.1\n",
    "## provides info\n",
    "## docker ps\n",
    "\n",
    "## Connect to server\n",
    "remDr <- RSelenium::remoteDriver(\n",
    "  remoteServerAddr = \"localhost\",\n",
    "  port = 4445L,\n",
    "  browserName = \"firefox\"\n",
    ")\n",
    "remDr$open()"
   ]
  },
  {
   "cell_type": "markdown",
   "metadata": {},
   "source": [
    "### Connect to Selenium (using `library(wdman)`, Windows on Lab PCs)"
   ]
  },
  {
   "cell_type": "code",
   "execution_count": null,
   "metadata": {},
   "outputs": [],
   "source": [
    "## Variant 2: Initiate binary (ff, chrome, phantomjs) provided by library(wdman) using\n",
    "## rsDriver(). Could also run this headless using the appropriate options,\n",
    "## faster as it does not show the browser window.\n",
    "\n",
    "rD <- RSelenium::rsDriver(browser = \"firefox\", port = 4567L)\n",
    "remDr <- rD$client"
   ]
  },
  {
   "cell_type": "markdown",
   "metadata": {},
   "source": [
    "### Connect to Selenium, Binder only"
   ]
  },
  {
   "cell_type": "code",
   "execution_count": null,
   "metadata": {},
   "outputs": [],
   "source": [
    "## Variant 3: Download and run Selenium binary directly, not recommended\n",
    "## (but unlike the others, this works on binder, only relevant for teaching)\n",
    "\n",
    "## Run in terminal:\n",
    "## curl -O https://selenium-release.storage.googleapis.com/3.141/selenium-server-standalone-3.141.59.jar\n",
    "## java -jar selenium-server-standalone-3.141.59.jar -port 4445\n",
    "\n",
    "## And connect, headless variant required on binder\n",
    "remDr <- RSelenium::remoteDriver(\n",
    "  remoteServerAddr = \"localhost\",\n",
    "  port = 4445L,\n",
    "  browserName = \"firefox\",\n",
    "  extraCapabilities = list(\n",
    "    \"moz:firefoxOptions\" = list(\n",
    "      args = list(\n",
    "        \"--headless\",\n",
    "        \"--window-size=1920x1080\"\n",
    "      )\n",
    "    )\n",
    "  )\n",
    ")\n",
    "remDr$open()"
   ]
  },
  {
   "cell_type": "markdown",
   "metadata": {},
   "source": [
    "### Navigate to site, print title"
   ]
  },
  {
   "cell_type": "code",
   "execution_count": null,
   "metadata": {},
   "outputs": [],
   "source": [
    "site <- \"https://www.unibas.ch\"\n",
    "remDr$navigate(site)\n",
    "remDr$getTitle()"
   ]
  },
  {
   "cell_type": "markdown",
   "metadata": {},
   "source": [
    "### Print screenshot"
   ]
  },
  {
   "cell_type": "code",
   "execution_count": null,
   "metadata": {},
   "outputs": [],
   "source": [
    "remDr$screenshot(display = TRUE)"
   ]
  },
  {
   "cell_type": "markdown",
   "metadata": {},
   "source": [
    "### Find link and click it"
   ]
  },
  {
   "cell_type": "code",
   "execution_count": null,
   "metadata": {},
   "outputs": [],
   "source": [
    "link <- remDr$findElement(using = \"link text\", \"Studium\")\n",
    "link$clickElement()\n",
    "\n",
    "remDr$getTitle()\n",
    "remDr$screenshot(display = TRUE)"
   ]
  },
  {
   "cell_type": "markdown",
   "metadata": {},
   "source": [
    "### Close session"
   ]
  },
  {
   "cell_type": "code",
   "execution_count": null,
   "metadata": {},
   "outputs": [],
   "source": [
    "remDr$close()"
   ]
  },
  {
   "cell_type": "code",
   "execution_count": null,
   "metadata": {},
   "outputs": [],
   "source": [
    "## Stop selenium server (docker or jar) by ending the terminal process\n",
    "## (using CTRL + c)."
   ]
  },
  {
   "cell_type": "code",
   "execution_count": null,
   "metadata": {},
   "outputs": [],
   "source": [
    "## If using rsDriver(), stop selenium server from R.\n",
    "rD$server$stop()"
   ]
  },
  {
   "cell_type": "markdown",
   "metadata": {},
   "source": [
    "## Apply to WHO site"
   ]
  },
  {
   "cell_type": "code",
   "execution_count": null,
   "metadata": {},
   "outputs": [],
   "source": [
    "site <- \"http://apps.who.int/bloodproducts/snakeantivenoms/database/SearchFrm.aspx\"\n",
    "remDr$navigate(site)\n",
    "remDr$getTitle()"
   ]
  },
  {
   "cell_type": "code",
   "execution_count": null,
   "metadata": {},
   "outputs": [],
   "source": [
    "# Get all country options\n",
    "options <- remDr$findElements(using = 'css selector', \"#ddlCountry > option\")\n",
    "options"
   ]
  },
  {
   "cell_type": "code",
   "execution_count": null,
   "metadata": {},
   "outputs": [],
   "source": [
    "options <- options[-1]\n",
    "countries <- unlist(lapply(options, function(x) {x$getElementText()}))\n",
    "countries"
   ]
  }
 ],
 "metadata": {
  "kernelspec": {
   "display_name": "R",
   "language": "R",
   "name": "ir"
  },
  "language_info": {
   "codemirror_mode": "r",
   "file_extension": ".r",
   "mimetype": "text/x-r-source",
   "name": "R",
   "pygments_lexer": "r",
   "version": "4.1.1"
  }
 },
 "nbformat": 4,
 "nbformat_minor": 4
}
