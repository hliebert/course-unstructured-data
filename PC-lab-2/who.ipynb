{
 "cells": [
  {
   "cell_type": "markdown",
   "metadata": {},
   "source": [
    "# PC Session 2"
   ]
  },
  {
   "cell_type": "markdown",
   "metadata": {},
   "source": [
    "**Author:**\n",
    "[Helge Liebert](https://hliebert.github.io/)"
   ]
  },
  {
   "cell_type": "markdown",
   "metadata": {},
   "source": [
    "## Scraping WHO snake database"
   ]
  },
  {
   "cell_type": "markdown",
   "metadata": {},
   "source": [
    "## Requirements"
   ]
  },
  {
   "cell_type": "code",
   "execution_count": 1,
   "metadata": {},
   "outputs": [
    {
     "name": "stderr",
     "output_type": "stream",
     "text": [
      "Loading required package: xml2\n",
      "\n"
     ]
    }
   ],
   "source": [
    "## Load libraries\n",
    "library(rvest)\n",
    "library(xml2)"
   ]
  },
  {
   "cell_type": "markdown",
   "metadata": {},
   "source": [
    "## Simple approach"
   ]
  },
  {
   "cell_type": "markdown",
   "metadata": {},
   "source": [
    "Collect form values, submit each of them and collect the required information from the resulting page. Collect all information in a data frame."
   ]
  },
  {
   "cell_type": "code",
   "execution_count": null,
   "metadata": {},
   "outputs": [],
   "source": [
    "## The site\n",
    "site <- \"http://apps.who.int/bloodproducts/snakeantivenoms/database/SearchFrm.aspx\""
   ]
  },
  {
   "cell_type": "code",
   "execution_count": null,
   "metadata": {},
   "outputs": [],
   "source": [
    "## Initiate session on site\n",
    "session <- html_session(site)"
   ]
  },
  {
   "cell_type": "code",
   "execution_count": null,
   "metadata": {},
   "outputs": [],
   "source": [
    "## Get all drop down options, value for submission and text\n",
    "options <- html_nodes(session, css = \"#ddlCountry > option\")\n",
    "countries <- data.frame(\n",
    "  value  = html_attr(options, \"value\"),\n",
    "  option = html_text(options)\n",
    ")\n",
    "countries <- countries[-1, ] # Trim first line"
   ]
  },
  {
   "cell_type": "code",
   "execution_count": null,
   "metadata": {},
   "outputs": [],
   "source": [
    "## Empty data frame to be filled\n",
    "data <- data.frame(matrix(nrow = 0, ncol = 5))"
   ]
  },
  {
   "cell_type": "code",
   "execution_count": null,
   "metadata": {},
   "outputs": [],
   "source": [
    "## Get snake venom data for all countries in the list\n",
    "for (opt in countries$value[1:2]) {\n",
    "\n",
    "  ## display some information\n",
    "  print(paste0(which(opt == countries$value), \"/\",\n",
    "               nrow(countries), \" \",\n",
    "               countries[countries$value == opt, \"option\"]))\n",
    "\n",
    "  ## set option and submit form\n",
    "  form <- html_form(html_node(session, \"#form1\"))\n",
    "  form <- set_values(form, \"ddlCountry\" = opt)\n",
    "  newpage <- submit_form(session, form)\n",
    "\n",
    "  ## Collect mortality statistics table\n",
    "  snakeinfo <- html_node(newpage, css = \"#SnakesGridView\")\n",
    "  snakeinfo <- html_table(snakeinfo, fill = TRUE, header = TRUE)\n",
    "  snakeinfo$country <- countries[countries$value == opt, \"option\"]\n",
    "\n",
    "  ## Append to data\n",
    "  data <- rbind(data, snakeinfo[-1, ])\n",
    "}\n",
    "\n",
    "## Build header, add to data frame, write to file\n",
    "header <- c(\"link\", \"category\", \"common name\", \"species name\", \"country\")\n",
    "names(data) <- header\n",
    "write.table(t(header), \"Data/who.csv\", sep = \";\",\n",
    "            col.names = FALSE, row.names = FALSE)\n"
   ]
  },
  {
   "cell_type": "code",
   "execution_count": null,
   "metadata": {},
   "outputs": [],
   "source": [
    "## Look at data\n",
    "head(data)"
   ]
  },
  {
   "cell_type": "markdown",
   "metadata": {},
   "source": [
    "## Variant: write to data to disk immediately"
   ]
  },
  {
   "cell_type": "markdown",
   "metadata": {},
   "source": [
    "Better alternative to collecting data in a data.frame (or any internal object): Write to disk immediately. Mitigates the risk of exhausting memory. CSV sufficient for small data, otherwise use a database."
   ]
  },
  {
   "cell_type": "code",
   "execution_count": 2,
   "metadata": {},
   "outputs": [],
   "source": [
    "## The site, main info: \"http://apps.who.int/bloodproducts/snakeantivenoms/database/\"\n",
    "site <- \"http://apps.who.int/bloodproducts/snakeantivenoms/database/SearchFrm.aspx\"\n",
    "\n",
    "## Initiate session on site\n",
    "session <- html_session(site)\n",
    "\n",
    "## Get all drop down options, value for submission and text\n",
    "options <- html_nodes(session, css = \"#ddlCountry > option\")\n",
    "countries <- data.frame(\n",
    "  value  = html_attr(options, \"value\"),\n",
    "  option = html_text(options)\n",
    ")\n",
    "countries <- countries[-1, ] # Trim first line"
   ]
  },
  {
   "cell_type": "code",
   "execution_count": null,
   "metadata": {},
   "outputs": [],
   "source": [
    "## Build header and write to file\n",
    "header <- c(\"link\", \"category\", \"common name\", \"species name\", \"country\")\n",
    "write.table(t(header), \"Data/who.csv\", sep = \";\",\n",
    "            col.names = FALSE, row.names = FALSE)"
   ]
  },
  {
   "cell_type": "code",
   "execution_count": null,
   "metadata": {},
   "outputs": [],
   "source": [
    "## Get snake venom data for all countries in the list\n",
    "for (opt in countries$value) {\n",
    "## for (opt in countries$value[1:2]) {\n",
    "\n",
    "  ## display some information\n",
    "  print(paste0(which(opt == countries$value), \"/\",\n",
    "               nrow(countries), \" \",\n",
    "               countries[countries$value == opt, \"option\"]))\n",
    "\n",
    "  ## set option and submit form\n",
    "  form <- html_form(html_node(session, \"#form1\"))\n",
    "  form <- set_values(form, \"ddlCountry\" = opt)\n",
    "  newpage <- submit_form(session, form)\n",
    "\n",
    "  ## Collect mortality statistics table\n",
    "  snakeinfo <- html_node(newpage, css = \"#SnakesGridView\")\n",
    "  snakeinfo <- html_table(snakeinfo, fill = TRUE, header = TRUE)\n",
    "  snakeinfo$country <- countries[countries$value == opt, \"option\"]\n",
    "  snakeinfo\n",
    "\n",
    "  ## append to file\n",
    "  write.table(snakeinfo, \"Data/who.csv\", sep = \";\", append = TRUE,\n",
    "              col.names = FALSE, row.names = FALSE)\n",
    "\n",
    "}"
   ]
  },
  {
   "cell_type": "markdown",
   "metadata": {},
   "source": [
    "## Alternative: construct query URL directly"
   ]
  },
  {
   "cell_type": "markdown",
   "metadata": {},
   "source": [
    "Alternative to form submission: Construct request URL in the following form. Check network monitoring in Browser developer tools to see.\n",
    "\n",
    "https://apps.who.int/bloodproducts/snakeantivenoms/database/SnakeAntivenomListFrm.aspx?@CountryID=2\n"
   ]
  },
  {
   "cell_type": "markdown",
   "metadata": {},
   "source": [
    "## Problem: Embedded javascript"
   ]
  },
  {
   "cell_type": "markdown",
   "metadata": {},
   "source": [
    "Collect form values, submit each of them and collect the required information from the resulting page. Collect all information in a data frame."
   ]
  },
  {
   "cell_type": "code",
   "execution_count": null,
   "metadata": {},
   "outputs": [],
   "source": [
    "## Wait, what is this? Data as they should be vs. data as they are\n",
    "system(\"head -n 20 Data/who-complete.csv\")\n",
    "system(\"head -n 20 Data/who-not-complete.csv\")\n",
    "system(\"tail -n 20 Data/who-complete.csv\")\n",
    "system(\"tail -n 20 Data/who-not-complete.csv\")"
   ]
  },
  {
   "cell_type": "code",
   "execution_count": null,
   "metadata": {},
   "outputs": [],
   "source": [
    "##  Check for Zimbabwe/check link in Browser\n",
    "form <- html_form(html_node(session, \"#form1\"))\n",
    "form <- set_values(form, \"ddlCountry\" = 211)\n",
    "zbpage <- submit_form(session, form)\n",
    "snakeinfo <- html_node(zbpage, css = \"#SnakesGridView\")"
   ]
  },
  {
   "cell_type": "code",
   "execution_count": null,
   "metadata": {},
   "outputs": [],
   "source": [
    "## These links contain Javascript and can't be followed\n",
    "p2link <- html_node(zbpage, css = \"#SnakesGridView a\") %>% html_text()\n",
    "zbpage2 <- follow_link(zbpage, p2link)"
   ]
  },
  {
   "cell_type": "code",
   "execution_count": null,
   "metadata": {},
   "outputs": [],
   "source": [
    "p2link <- html_node(zbpage, css = \"#SnakesGridView a\") %>% html_attr(\"href\")\n",
    "zbpage2 <- jump_to(zbpage, p2link)"
   ]
  },
  {
   "cell_type": "code",
   "execution_count": 3,
   "metadata": {},
   "outputs": [],
   "source": [
    "## Solutions:\n",
    "## -- Reverse engineer the internal API and construct a specific POST? Patch the forms?\n",
    "## -- Or use Selenium."
   ]
  }
 ],
 "metadata": {
  "kernelspec": {
   "display_name": "R",
   "language": "R",
   "name": "ir"
  },
  "language_info": {
   "codemirror_mode": "r",
   "file_extension": ".r",
   "mimetype": "text/x-r-source",
   "name": "R",
   "pygments_lexer": "r",
   "version": "4.0.2"
  }
 },
 "nbformat": 4,
 "nbformat_minor": 4
}
