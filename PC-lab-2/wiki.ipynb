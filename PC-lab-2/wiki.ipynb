{
 "cells": [
  {
   "cell_type": "markdown",
   "metadata": {},
   "source": [
    "# PC Session 2"
   ]
  },
  {
   "cell_type": "markdown",
   "metadata": {},
   "source": [
    "**Author:**\n",
    "[Helge Liebert](https://hliebert.github.io/)"
   ]
  },
  {
   "cell_type": "markdown",
   "metadata": {},
   "source": [
    "#  Web Scraping: Wikipedia examples\n"
   ]
  },
  {
   "cell_type": "markdown",
   "metadata": {},
   "source": [
    "## Requirements"
   ]
  },
  {
   "cell_type": "code",
   "execution_count": null,
   "metadata": {},
   "outputs": [],
   "source": [
    "## install and load required library\n",
    "## install.packages(\"rvest\", dependencies = TRUE)\n",
    "library(rvest)"
   ]
  },
  {
   "cell_type": "markdown",
   "metadata": {},
   "source": [
    "## Scraping a wiki table"
   ]
  },
  {
   "cell_type": "code",
   "execution_count": null,
   "metadata": {},
   "outputs": [],
   "source": [
    "## 1) fetch and parse the website\n",
    "page <- read_html(\"https://en.wikipedia.org/wiki/Infant_mortality\")\n",
    "## 2) extract the html node containing the table\n",
    "table <- html_node(page, css = \"table.wikitable:nth-child(133)\")\n",
    "## 3) extract the table as a data frame\n",
    "mrates <- html_table(table)\n",
    "mrates"
   ]
  },
  {
   "cell_type": "markdown",
   "metadata": {},
   "source": [
    "## Investigating page elements and navigation"
   ]
  },
  {
   "cell_type": "code",
   "execution_count": null,
   "metadata": {},
   "outputs": [],
   "source": [
    "## using css or xpath selectors is equivalent\n",
    "##table <- html_node(page, xpath = \"//*[@id='mw-content-text']/div/table[3]\")\n",
    "table <- html_node(page, css = \"table.wikitable:nth-child(133)\")\n",
    "mrates <- html_table(table)\n",
    "mrates"
   ]
  },
  {
   "cell_type": "code",
   "execution_count": null,
   "metadata": {},
   "outputs": [],
   "source": [
    "## list table nodes\n",
    "html_nodes(page, \"table\")"
   ]
  },
  {
   "cell_type": "code",
   "execution_count": null,
   "metadata": {
    "scrolled": true
   },
   "outputs": [],
   "source": [
    "## check out links in the table\n",
    "html_nodes(table, \"a\")\n",
    "html_nodes(table, \"a\") %>% html_attr(\"href\")\n",
    "## html_attr(html_nodes(table, \"a\"), \"href\") ## this is the same as the piping syntax\n",
    "tablelinks <- html_attr(html_nodes(table, \"a\"), \"href\")"
   ]
  },
  {
   "cell_type": "code",
   "execution_count": null,
   "metadata": {},
   "outputs": [],
   "source": [
    "## filtering for Somalia\n",
    "link <- grep(\"Somalia\", tablelinks, value = TRUE)\n",
    "link"
   ]
  },
  {
   "cell_type": "code",
   "execution_count": null,
   "metadata": {},
   "outputs": [],
   "source": [
    "## looking at html elements and their attributes\n",
    "# html_nodes(page, \"link\")\n",
    "# html_nodes(page, \"a\") %>% html_attr(\"href\")\n",
    "html_nodes(page, \"a\")\n",
    "html_attr(html_nodes(table, \"a\"), \"href\")"
   ]
  },
  {
   "cell_type": "code",
   "execution_count": null,
   "metadata": {},
   "outputs": [],
   "source": [
    "## follwing a link to another page, fetching another table\n",
    "session <- html_session(\"https://en.wikipedia.org/wiki/Infant_mortality\")\n",
    "session <- follow_link(session, \"Somalia\")\n",
    "session"
   ]
  },
  {
   "cell_type": "code",
   "execution_count": null,
   "metadata": {},
   "outputs": [],
   "source": [
    "page <- read_html(session)\n",
    "html_nodes(page, \"title\")\n",
    "table <- html_node(page, css = \"table.wikitable:nth-child(128)\")\n",
    "regions <- html_table(table)\n",
    "regions"
   ]
  },
  {
   "cell_type": "markdown",
   "metadata": {},
   "source": [
    "## Regex filtering"
   ]
  },
  {
   "cell_type": "code",
   "execution_count": null,
   "metadata": {},
   "outputs": [],
   "source": [
    "## filtering links\n",
    "page <- read_html(\"https://en.wikipedia.org/wiki/Infant_mortality\")\n",
    "wikilinks <- html_attr(html_nodes(page, \"a\"), \"href\")\n",
    "wikilinks"
   ]
  },
  {
   "cell_type": "code",
   "execution_count": null,
   "metadata": {},
   "outputs": [],
   "source": [
    "## regex examples\n",
    "#grep(\"^/wiki\", wikilinks, value = TRUE)\n",
    "#grep(\"^/wiki.*[0-9][0-9]$\", wikilinks, value = TRUE)\n",
    "#grep(\"^/wiki.*File:.*\", wikilinks, value = TRUE)\n",
    "#grep(\"^(?!.*:)/wiki/.*Mortality\", wikilinks, value = TRUE, perl = TRUE)\n",
    "#grep(\"^(?!.*:)/wiki/.*[Mm]ortality\", wikilinks, value = TRUE, perl = TRUE)"
   ]
  },
  {
   "cell_type": "code",
   "execution_count": null,
   "metadata": {},
   "outputs": [],
   "source": [
    "# compound expression\n",
    "links <- grep(\"^(?!.*:)(/wiki/.*Mortality)\", wikilinks, value = TRUE, perl = TRUE)\n",
    "links"
   ]
  },
  {
   "cell_type": "code",
   "execution_count": null,
   "metadata": {},
   "outputs": [],
   "source": [
    "# sometimes easier to do it in multiple steps for readability\n",
    "links <- grep(\"^/wiki/\", wikilinks, value = TRUE)\n",
    "links <- grep(\"Mortality|Somalia\", links, value = TRUE)\n",
    "links <- grep(\":\", links, value = TRUE, invert = TRUE)\n",
    "links"
   ]
  },
  {
   "cell_type": "code",
   "execution_count": null,
   "metadata": {},
   "outputs": [],
   "source": [
    "# select only internal links matching with mortality or somalia, no files or category pages\n",
    "links <- grep(\"^(?!.*:)(/wiki/.*Mortality)|(/wiki/.*Somalia)\", wikilinks,\n",
    "              ignore.case = TRUE, value = TRUE, perl = TRUE)\n",
    "links <- unique(links)\n",
    "links"
   ]
  },
  {
   "cell_type": "code",
   "execution_count": null,
   "metadata": {},
   "outputs": [],
   "source": [
    "# navigate to linked page\n",
    "session <- jump_to(session, links[1])\n",
    "page <- read_html(session)\n",
    "html_nodes(page, \"title\")"
   ]
  },
  {
   "cell_type": "code",
   "execution_count": null,
   "metadata": {},
   "outputs": [],
   "source": [
    "# navigate to linked page\n",
    "session <- jump_to(session, links[5])\n",
    "page <- read_html(session)\n",
    "html_nodes(page, \"title\")"
   ]
  }
 ],
 "metadata": {
  "kernelspec": {
   "display_name": "R",
   "language": "R",
   "name": "ir"
  },
  "language_info": {
   "codemirror_mode": "r",
   "file_extension": ".r",
   "mimetype": "text/x-r-source",
   "name": "R",
   "pygments_lexer": "r",
   "version": "4.1.1"
  }
 },
 "nbformat": 4,
 "nbformat_minor": 2
}
