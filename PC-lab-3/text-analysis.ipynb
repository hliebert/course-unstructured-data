{
 "cells": [
  {
   "cell_type": "markdown",
   "metadata": {},
   "source": [
    "# PC Session 3"
   ]
  },
  {
   "cell_type": "markdown",
   "metadata": {},
   "source": [
    "**Author:**\n",
    "[Helge Liebert](https://hliebert.github.io/)"
   ]
  },
  {
   "cell_type": "markdown",
   "metadata": {},
   "source": [
    "# **Text analysis**: Kiva loans"
   ]
  },
  {
   "cell_type": "markdown",
   "metadata": {},
   "source": [
    "## Dependencies"
   ]
  },
  {
   "cell_type": "code",
   "execution_count": 1,
   "metadata": {},
   "outputs": [
    {
     "name": "stderr",
     "output_type": "stream",
     "text": [
      "Loading required package: NLP\n",
      "\n",
      "Warning message:\n",
      "\"replacing previous import 'vctrs::data_frame' by 'tibble::data_frame' when loading 'dplyr'\"\n",
      "\n",
      "Attaching package: 'ggplot2'\n",
      "\n",
      "\n",
      "The following object is masked from 'package:NLP':\n",
      "\n",
      "    annotate\n",
      "\n",
      "\n",
      "\n",
      "Attaching package: 'dplyr'\n",
      "\n",
      "\n",
      "The following objects are masked from 'package:data.table':\n",
      "\n",
      "    between, first, last\n",
      "\n",
      "\n",
      "The following objects are masked from 'package:stats':\n",
      "\n",
      "    filter, lag\n",
      "\n",
      "\n",
      "The following objects are masked from 'package:base':\n",
      "\n",
      "    intersect, setdiff, setequal, union\n",
      "\n",
      "\n",
      "Loading required package: RColorBrewer\n",
      "\n",
      "\n",
      "Attaching package: 'SentimentAnalysis'\n",
      "\n",
      "\n",
      "The following object is masked from 'package:base':\n",
      "\n",
      "    write\n",
      "\n",
      "\n",
      "naivebayes 0.9.7 loaded\n",
      "\n",
      "\n",
      "Attaching package: 'naivebayes'\n",
      "\n",
      "\n",
      "The following object is masked from 'package:data.table':\n",
      "\n",
      "    tables\n",
      "\n",
      "\n",
      "\n",
      "Attaching package: 'slam'\n",
      "\n",
      "\n",
      "The following object is masked from 'package:data.table':\n",
      "\n",
      "    rollup\n",
      "\n",
      "\n",
      "Loading required package: Matrix\n",
      "\n",
      "Loaded glmnet 4.0-2\n",
      "\n",
      "Loading required package: lattice\n",
      "\n"
     ]
    }
   ],
   "source": [
    "## Libraries\n",
    "library(tm)\n",
    "library(data.table)\n",
    "library(ggplot2)\n",
    "library(tidytext)\n",
    "library(dplyr)\n",
    "library(topicmodels)\n",
    "library(wordcloud)\n",
    "library(SentimentAnalysis)\n",
    "library(naivebayes)\n",
    "library(slam)\n",
    "library(glmnet)\n",
    "library(lexicon)\n",
    "library(fastNaiveBayes)\n",
    "library(caret)"
   ]
  },
  {
   "cell_type": "code",
   "execution_count": 2,
   "metadata": {},
   "outputs": [],
   "source": [
    "## Simple helper function to view first copora elements, only for illustration in lecture\n",
    "chead <- function(c) lapply(c[1:2], as.character)"
   ]
  },
  {
   "cell_type": "markdown",
   "metadata": {},
   "source": [
    "## Setting up a corpus and applying transformations"
   ]
  },
  {
   "cell_type": "markdown",
   "metadata": {},
   "source": [
    "This tutorial relies on the Kiva data from the last lecture. The text analyses are based on the loan description and to a limited extent the loan purpose statement as well. The data is based on a csv database dump provided on their site. To ease computation we just use a limited sample of 10,000 observations. Using the csv file from the Kiva Homepage and the file `prep-kiva.r`, you can clean the data yourself and use a larger sample. The full sample is close to one million observations. (You might need to delete a few nested parentheses in the loan description using a text editor which lead to errors reading the csv file.) If you look at the script, you can also see that I spent some time pre-processing the data, filtering HTML tags and similar things, to get mostly clean loan descriptions. This type of pre-processing is common, but also very application specific."
   ]
  },
  {
   "cell_type": "markdown",
   "metadata": {},
   "source": [
    "In case you are using Windows, or any other OS not using UTF-8 encoding as default, setting the encoding when reading data files is good practice. When working with text data, take care to ensure you are using the correct encoding and that transformations between files and encodings do not lead to broken characters."
   ]
  },
  {
   "cell_type": "code",
   "execution_count": 3,
   "metadata": {},
   "outputs": [
    {
     "data": {
      "text/html": [
       "<style>\n",
       ".list-inline {list-style: none; margin:0; padding: 0}\n",
       ".list-inline>li {display: inline-block}\n",
       ".list-inline>li:not(:last-child)::after {content: \"\\00b7\"; padding: 0 .5ex}\n",
       "</style>\n",
       "<ol class=list-inline><li>'loanid'</li><li>'description'</li><li>'fundedamount'</li><li>'loanamount'</li><li>'activityname'</li><li>'sectorname'</li><li>'loanuse'</li><li>'countryname'</li><li>'repaymentinterval'</li></ol>\n"
      ],
      "text/latex": [
       "\\begin{enumerate*}\n",
       "\\item 'loanid'\n",
       "\\item 'description'\n",
       "\\item 'fundedamount'\n",
       "\\item 'loanamount'\n",
       "\\item 'activityname'\n",
       "\\item 'sectorname'\n",
       "\\item 'loanuse'\n",
       "\\item 'countryname'\n",
       "\\item 'repaymentinterval'\n",
       "\\end{enumerate*}\n"
      ],
      "text/markdown": [
       "1. 'loanid'\n",
       "2. 'description'\n",
       "3. 'fundedamount'\n",
       "4. 'loanamount'\n",
       "5. 'activityname'\n",
       "6. 'sectorname'\n",
       "7. 'loanuse'\n",
       "8. 'countryname'\n",
       "9. 'repaymentinterval'\n",
       "\n",
       "\n"
      ],
      "text/plain": [
       "[1] \"loanid\"            \"description\"       \"fundedamount\"     \n",
       "[4] \"loanamount\"        \"activityname\"      \"sectorname\"       \n",
       "[7] \"loanuse\"           \"countryname\"       \"repaymentinterval\""
      ]
     },
     "metadata": {},
     "output_type": "display_data"
    }
   ],
   "source": [
    "## Read data\n",
    "loans <- fread(\"Data/kiva-tiny.csv\", encoding = \"UTF-8\")\n",
    "names(loans)"
   ]
  },
  {
   "cell_type": "markdown",
   "metadata": {},
   "source": [
    "The first thing we are going to do is set up a corpus. We will focus on the loan description. For all transformations in the remainder of this tutorial, we are going to print the first two loans' descriptions for illustration."
   ]
  },
  {
   "cell_type": "code",
   "execution_count": 4,
   "metadata": {},
   "outputs": [
    {
     "data": {
      "text/plain": [
       "<<SimpleCorpus>>\n",
       "Metadata:  corpus specific: 1, document level (indexed): 7\n",
       "Content:  documents: 10000"
      ]
     },
     "metadata": {},
     "output_type": "display_data"
    },
    {
     "data": {
      "text/html": [
       "<dl>\n",
       "\t<dt>$`269894`</dt>\n",
       "\t\t<dd>'Esteban belongs to the “Las Margarita Ocongate” community bank and lives in the city of Ocongate, in Quispicanchis province, in Cusco department, Peru. He lives with his wife and his 5 year-old daughter Crisanta. The city of Ocongate is two hours from the city of Cusco. Esteban studied law at the National University of San Antonio Abad in Cusco but he was unable to complete his degree for financial reasons. He decided to start a new life. Esteban worked helping lawyers write documentation and then trained to become a legal counselor (someone who provides advice on legal matters including criminal issues, civil issues, labor issues, contracts, transfers, fees, and other cases). After working in different cities in Cusco department as a legal counselor, Esteban decided to set up in the city of Ocongate and opened a legal counseling office. Esteban requires this loan to buy stationery supplies such as paper, pens and many other products. Esteban is grateful for this opportunity and he pledges to make his repayments on time.'</dd>\n",
       "\t<dt>$`1247640`</dt>\n",
       "\t\t<dd>'Kosar is a married woman and entrepreneur and a new borrower through BRAC Pakistan. She has worked hard day-and-night to manage the household expenses. Kosar recently opened a salon and needs to decorate the interior and buy stock of cosmetics and beauty-related electronics. Kosar has requested for a loan from BRAC Pakistan to help establish her salon business by fixing up the interior, for which she needs to buy salon chairs and cosmetics to attract more customers. This is Kosar’s first loan, and she is very happy to have support from BRAC Pakistan and Kiva.'</dd>\n",
       "</dl>\n"
      ],
      "text/latex": [
       "\\begin{description}\n",
       "\\item[\\$`269894`] 'Esteban belongs to the “Las Margarita Ocongate” community bank and lives in the city of Ocongate, in Quispicanchis province, in Cusco department, Peru. He lives with his wife and his 5 year-old daughter Crisanta. The city of Ocongate is two hours from the city of Cusco. Esteban studied law at the National University of San Antonio Abad in Cusco but he was unable to complete his degree for financial reasons. He decided to start a new life. Esteban worked helping lawyers write documentation and then trained to become a legal counselor (someone who provides advice on legal matters including criminal issues, civil issues, labor issues, contracts, transfers, fees, and other cases). After working in different cities in Cusco department as a legal counselor, Esteban decided to set up in the city of Ocongate and opened a legal counseling office. Esteban requires this loan to buy stationery supplies such as paper, pens and many other products. Esteban is grateful for this opportunity and he pledges to make his repayments on time.'\n",
       "\\item[\\$`1247640`] 'Kosar is a married woman and entrepreneur and a new borrower through BRAC Pakistan. She has worked hard day-and-night to manage the household expenses. Kosar recently opened a salon and needs to decorate the interior and buy stock of cosmetics and beauty-related electronics. Kosar has requested for a loan from BRAC Pakistan to help establish her salon business by fixing up the interior, for which she needs to buy salon chairs and cosmetics to attract more customers. This is Kosar’s first loan, and she is very happy to have support from BRAC Pakistan and Kiva.'\n",
       "\\end{description}\n"
      ],
      "text/markdown": [
       "$`269894`\n",
       ":   'Esteban belongs to the “Las Margarita Ocongate” community bank and lives in the city of Ocongate, in Quispicanchis province, in Cusco department, Peru. He lives with his wife and his 5 year-old daughter Crisanta. The city of Ocongate is two hours from the city of Cusco. Esteban studied law at the National University of San Antonio Abad in Cusco but he was unable to complete his degree for financial reasons. He decided to start a new life. Esteban worked helping lawyers write documentation and then trained to become a legal counselor (someone who provides advice on legal matters including criminal issues, civil issues, labor issues, contracts, transfers, fees, and other cases). After working in different cities in Cusco department as a legal counselor, Esteban decided to set up in the city of Ocongate and opened a legal counseling office. Esteban requires this loan to buy stationery supplies such as paper, pens and many other products. Esteban is grateful for this opportunity and he pledges to make his repayments on time.'\n",
       "$`1247640`\n",
       ":   'Kosar is a married woman and entrepreneur and a new borrower through BRAC Pakistan. She has worked hard day-and-night to manage the household expenses. Kosar recently opened a salon and needs to decorate the interior and buy stock of cosmetics and beauty-related electronics. Kosar has requested for a loan from BRAC Pakistan to help establish her salon business by fixing up the interior, for which she needs to buy salon chairs and cosmetics to attract more customers. This is Kosar’s first loan, and she is very happy to have support from BRAC Pakistan and Kiva.'\n",
       "\n",
       "\n"
      ],
      "text/plain": [
       "$`269894`\n",
       "[1] \"Esteban belongs to the “Las Margarita Ocongate” community bank and lives in the city of Ocongate, in Quispicanchis province, in Cusco department, Peru. He lives with his wife and his 5 year-old daughter Crisanta. The city of Ocongate is two hours from the city of Cusco. Esteban studied law at the National University of San Antonio Abad in Cusco but he was unable to complete his degree for financial reasons. He decided to start a new life. Esteban worked helping lawyers write documentation and then trained to become a legal counselor (someone who provides advice on legal matters including criminal issues, civil issues, labor issues, contracts, transfers, fees, and other cases). After working in different cities in Cusco department as a legal counselor, Esteban decided to set up in the city of Ocongate and opened a legal counseling office. Esteban requires this loan to buy stationery supplies such as paper, pens and many other products. Esteban is grateful for this opportunity and he pledges to make his repayments on time.\"\n",
       "\n",
       "$`1247640`\n",
       "[1] \"Kosar is a married woman and entrepreneur and a new borrower through BRAC Pakistan. She has worked hard day-and-night to manage the household expenses. Kosar recently opened a salon and needs to decorate the interior and buy stock of cosmetics and beauty-related electronics. Kosar has requested for a loan from BRAC Pakistan to help establish her salon business by fixing up the interior, for which she needs to buy salon chairs and cosmetics to attract more customers. This is Kosar’s first loan, and she is very happy to have support from BRAC Pakistan and Kiva.\"\n"
      ]
     },
     "metadata": {},
     "output_type": "display_data"
    }
   ],
   "source": [
    "## Set up corpus\n",
    "setnames(loans, \"loanid\", \"doc_id\")\n",
    "setnames(loans, \"description\", \"text\")\n",
    "corp <- Corpus(DataframeSource(loans))\n",
    "\n",
    "## Inspect it\n",
    "corp\n",
    "lapply(corp[1:2], as.character)"
   ]
  },
  {
   "cell_type": "markdown",
   "metadata": {},
   "source": [
    "These are the main transformations available in the `tm` library, but any other customized transformation can be applied."
   ]
  },
  {
   "cell_type": "code",
   "execution_count": 5,
   "metadata": {},
   "outputs": [
    {
     "data": {
      "text/html": [
       "<style>\n",
       ".list-inline {list-style: none; margin:0; padding: 0}\n",
       ".list-inline>li {display: inline-block}\n",
       ".list-inline>li:not(:last-child)::after {content: \"\\00b7\"; padding: 0 .5ex}\n",
       "</style>\n",
       "<ol class=list-inline><li>'removeNumbers'</li><li>'removePunctuation'</li><li>'removeWords'</li><li>'stemDocument'</li><li>'stripWhitespace'</li></ol>\n"
      ],
      "text/latex": [
       "\\begin{enumerate*}\n",
       "\\item 'removeNumbers'\n",
       "\\item 'removePunctuation'\n",
       "\\item 'removeWords'\n",
       "\\item 'stemDocument'\n",
       "\\item 'stripWhitespace'\n",
       "\\end{enumerate*}\n"
      ],
      "text/markdown": [
       "1. 'removeNumbers'\n",
       "2. 'removePunctuation'\n",
       "3. 'removeWords'\n",
       "4. 'stemDocument'\n",
       "5. 'stripWhitespace'\n",
       "\n",
       "\n"
      ],
      "text/plain": [
       "[1] \"removeNumbers\"     \"removePunctuation\" \"removeWords\"      \n",
       "[4] \"stemDocument\"      \"stripWhitespace\"  "
      ]
     },
     "metadata": {},
     "output_type": "display_data"
    }
   ],
   "source": [
    "## Main corpus transformations, passed via tm_map()\n",
    "## Other transformations have to be wrapped in content_transformer()\n",
    "getTransformations()"
   ]
  },
  {
   "cell_type": "markdown",
   "metadata": {},
   "source": [
    "We apply the `base` string function `tolower()` to transform all strings to lower case."
   ]
  },
  {
   "cell_type": "code",
   "execution_count": 6,
   "metadata": {},
   "outputs": [
    {
     "data": {
      "text/html": [
       "<dl>\n",
       "\t<dt>$`269894`</dt>\n",
       "\t\t<dd>'esteban belongs to the “las margarita ocongate” community bank and lives in the city of ocongate, in quispicanchis province, in cusco department, peru. he lives with his wife and his 5 year-old daughter crisanta. the city of ocongate is two hours from the city of cusco. esteban studied law at the national university of san antonio abad in cusco but he was unable to complete his degree for financial reasons. he decided to start a new life. esteban worked helping lawyers write documentation and then trained to become a legal counselor (someone who provides advice on legal matters including criminal issues, civil issues, labor issues, contracts, transfers, fees, and other cases). after working in different cities in cusco department as a legal counselor, esteban decided to set up in the city of ocongate and opened a legal counseling office. esteban requires this loan to buy stationery supplies such as paper, pens and many other products. esteban is grateful for this opportunity and he pledges to make his repayments on time.'</dd>\n",
       "\t<dt>$`1247640`</dt>\n",
       "\t\t<dd>'kosar is a married woman and entrepreneur and a new borrower through brac pakistan. she has worked hard day-and-night to manage the household expenses. kosar recently opened a salon and needs to decorate the interior and buy stock of cosmetics and beauty-related electronics. kosar has requested for a loan from brac pakistan to help establish her salon business by fixing up the interior, for which she needs to buy salon chairs and cosmetics to attract more customers. this is kosar’s first loan, and she is very happy to have support from brac pakistan and kiva.'</dd>\n",
       "</dl>\n"
      ],
      "text/latex": [
       "\\begin{description}\n",
       "\\item[\\$`269894`] 'esteban belongs to the “las margarita ocongate” community bank and lives in the city of ocongate, in quispicanchis province, in cusco department, peru. he lives with his wife and his 5 year-old daughter crisanta. the city of ocongate is two hours from the city of cusco. esteban studied law at the national university of san antonio abad in cusco but he was unable to complete his degree for financial reasons. he decided to start a new life. esteban worked helping lawyers write documentation and then trained to become a legal counselor (someone who provides advice on legal matters including criminal issues, civil issues, labor issues, contracts, transfers, fees, and other cases). after working in different cities in cusco department as a legal counselor, esteban decided to set up in the city of ocongate and opened a legal counseling office. esteban requires this loan to buy stationery supplies such as paper, pens and many other products. esteban is grateful for this opportunity and he pledges to make his repayments on time.'\n",
       "\\item[\\$`1247640`] 'kosar is a married woman and entrepreneur and a new borrower through brac pakistan. she has worked hard day-and-night to manage the household expenses. kosar recently opened a salon and needs to decorate the interior and buy stock of cosmetics and beauty-related electronics. kosar has requested for a loan from brac pakistan to help establish her salon business by fixing up the interior, for which she needs to buy salon chairs and cosmetics to attract more customers. this is kosar’s first loan, and she is very happy to have support from brac pakistan and kiva.'\n",
       "\\end{description}\n"
      ],
      "text/markdown": [
       "$`269894`\n",
       ":   'esteban belongs to the “las margarita ocongate” community bank and lives in the city of ocongate, in quispicanchis province, in cusco department, peru. he lives with his wife and his 5 year-old daughter crisanta. the city of ocongate is two hours from the city of cusco. esteban studied law at the national university of san antonio abad in cusco but he was unable to complete his degree for financial reasons. he decided to start a new life. esteban worked helping lawyers write documentation and then trained to become a legal counselor (someone who provides advice on legal matters including criminal issues, civil issues, labor issues, contracts, transfers, fees, and other cases). after working in different cities in cusco department as a legal counselor, esteban decided to set up in the city of ocongate and opened a legal counseling office. esteban requires this loan to buy stationery supplies such as paper, pens and many other products. esteban is grateful for this opportunity and he pledges to make his repayments on time.'\n",
       "$`1247640`\n",
       ":   'kosar is a married woman and entrepreneur and a new borrower through brac pakistan. she has worked hard day-and-night to manage the household expenses. kosar recently opened a salon and needs to decorate the interior and buy stock of cosmetics and beauty-related electronics. kosar has requested for a loan from brac pakistan to help establish her salon business by fixing up the interior, for which she needs to buy salon chairs and cosmetics to attract more customers. this is kosar’s first loan, and she is very happy to have support from brac pakistan and kiva.'\n",
       "\n",
       "\n"
      ],
      "text/plain": [
       "$`269894`\n",
       "[1] \"esteban belongs to the “las margarita ocongate” community bank and lives in the city of ocongate, in quispicanchis province, in cusco department, peru. he lives with his wife and his 5 year-old daughter crisanta. the city of ocongate is two hours from the city of cusco. esteban studied law at the national university of san antonio abad in cusco but he was unable to complete his degree for financial reasons. he decided to start a new life. esteban worked helping lawyers write documentation and then trained to become a legal counselor (someone who provides advice on legal matters including criminal issues, civil issues, labor issues, contracts, transfers, fees, and other cases). after working in different cities in cusco department as a legal counselor, esteban decided to set up in the city of ocongate and opened a legal counseling office. esteban requires this loan to buy stationery supplies such as paper, pens and many other products. esteban is grateful for this opportunity and he pledges to make his repayments on time.\"\n",
       "\n",
       "$`1247640`\n",
       "[1] \"kosar is a married woman and entrepreneur and a new borrower through brac pakistan. she has worked hard day-and-night to manage the household expenses. kosar recently opened a salon and needs to decorate the interior and buy stock of cosmetics and beauty-related electronics. kosar has requested for a loan from brac pakistan to help establish her salon business by fixing up the interior, for which she needs to buy salon chairs and cosmetics to attract more customers. this is kosar’s first loan, and she is very happy to have support from brac pakistan and kiva.\"\n"
      ]
     },
     "metadata": {},
     "output_type": "display_data"
    }
   ],
   "source": [
    "## All chars to lower case\n",
    "corp <- tm_map(corp, content_transformer(tolower))\n",
    "chead(corp)"
   ]
  },
  {
   "cell_type": "markdown",
   "metadata": {},
   "source": [
    "Remove all punctuation as punctuation is unlikely to carry special meaning in the context of loans and we want to simplify the text input to get token counts. We need to set the unicode option to true to rid of all punctuation elements (eg. the quotation marks)."
   ]
  },
  {
   "cell_type": "code",
   "execution_count": 7,
   "metadata": {},
   "outputs": [
    {
     "data": {
      "text/html": [
       "<dl>\n",
       "\t<dt>$`269894`</dt>\n",
       "\t\t<dd>'esteban belongs to the “las margarita ocongate” community bank and lives in the city of ocongate in quispicanchis province in cusco department peru he lives with his wife and his 5 yearold daughter crisanta the city of ocongate is two hours from the city of cusco esteban studied law at the national university of san antonio abad in cusco but he was unable to complete his degree for financial reasons he decided to start a new life esteban worked helping lawyers write documentation and then trained to become a legal counselor someone who provides advice on legal matters including criminal issues civil issues labor issues contracts transfers fees and other cases after working in different cities in cusco department as a legal counselor esteban decided to set up in the city of ocongate and opened a legal counseling office esteban requires this loan to buy stationery supplies such as paper pens and many other products esteban is grateful for this opportunity and he pledges to make his repayments on time'</dd>\n",
       "\t<dt>$`1247640`</dt>\n",
       "\t\t<dd>'kosar is a married woman and entrepreneur and a new borrower through brac pakistan she has worked hard dayandnight to manage the household expenses kosar recently opened a salon and needs to decorate the interior and buy stock of cosmetics and beautyrelated electronics kosar has requested for a loan from brac pakistan to help establish her salon business by fixing up the interior for which she needs to buy salon chairs and cosmetics to attract more customers this is kosar’s first loan and she is very happy to have support from brac pakistan and kiva'</dd>\n",
       "</dl>\n"
      ],
      "text/latex": [
       "\\begin{description}\n",
       "\\item[\\$`269894`] 'esteban belongs to the “las margarita ocongate” community bank and lives in the city of ocongate in quispicanchis province in cusco department peru he lives with his wife and his 5 yearold daughter crisanta the city of ocongate is two hours from the city of cusco esteban studied law at the national university of san antonio abad in cusco but he was unable to complete his degree for financial reasons he decided to start a new life esteban worked helping lawyers write documentation and then trained to become a legal counselor someone who provides advice on legal matters including criminal issues civil issues labor issues contracts transfers fees and other cases after working in different cities in cusco department as a legal counselor esteban decided to set up in the city of ocongate and opened a legal counseling office esteban requires this loan to buy stationery supplies such as paper pens and many other products esteban is grateful for this opportunity and he pledges to make his repayments on time'\n",
       "\\item[\\$`1247640`] 'kosar is a married woman and entrepreneur and a new borrower through brac pakistan she has worked hard dayandnight to manage the household expenses kosar recently opened a salon and needs to decorate the interior and buy stock of cosmetics and beautyrelated electronics kosar has requested for a loan from brac pakistan to help establish her salon business by fixing up the interior for which she needs to buy salon chairs and cosmetics to attract more customers this is kosar’s first loan and she is very happy to have support from brac pakistan and kiva'\n",
       "\\end{description}\n"
      ],
      "text/markdown": [
       "$`269894`\n",
       ":   'esteban belongs to the “las margarita ocongate” community bank and lives in the city of ocongate in quispicanchis province in cusco department peru he lives with his wife and his 5 yearold daughter crisanta the city of ocongate is two hours from the city of cusco esteban studied law at the national university of san antonio abad in cusco but he was unable to complete his degree for financial reasons he decided to start a new life esteban worked helping lawyers write documentation and then trained to become a legal counselor someone who provides advice on legal matters including criminal issues civil issues labor issues contracts transfers fees and other cases after working in different cities in cusco department as a legal counselor esteban decided to set up in the city of ocongate and opened a legal counseling office esteban requires this loan to buy stationery supplies such as paper pens and many other products esteban is grateful for this opportunity and he pledges to make his repayments on time'\n",
       "$`1247640`\n",
       ":   'kosar is a married woman and entrepreneur and a new borrower through brac pakistan she has worked hard dayandnight to manage the household expenses kosar recently opened a salon and needs to decorate the interior and buy stock of cosmetics and beautyrelated electronics kosar has requested for a loan from brac pakistan to help establish her salon business by fixing up the interior for which she needs to buy salon chairs and cosmetics to attract more customers this is kosar’s first loan and she is very happy to have support from brac pakistan and kiva'\n",
       "\n",
       "\n"
      ],
      "text/plain": [
       "$`269894`\n",
       "[1] \"esteban belongs to the “las margarita ocongate” community bank and lives in the city of ocongate in quispicanchis province in cusco department peru he lives with his wife and his 5 yearold daughter crisanta the city of ocongate is two hours from the city of cusco esteban studied law at the national university of san antonio abad in cusco but he was unable to complete his degree for financial reasons he decided to start a new life esteban worked helping lawyers write documentation and then trained to become a legal counselor someone who provides advice on legal matters including criminal issues civil issues labor issues contracts transfers fees and other cases after working in different cities in cusco department as a legal counselor esteban decided to set up in the city of ocongate and opened a legal counseling office esteban requires this loan to buy stationery supplies such as paper pens and many other products esteban is grateful for this opportunity and he pledges to make his repayments on time\"\n",
       "\n",
       "$`1247640`\n",
       "[1] \"kosar is a married woman and entrepreneur and a new borrower through brac pakistan she has worked hard dayandnight to manage the household expenses kosar recently opened a salon and needs to decorate the interior and buy stock of cosmetics and beautyrelated electronics kosar has requested for a loan from brac pakistan to help establish her salon business by fixing up the interior for which she needs to buy salon chairs and cosmetics to attract more customers this is kosar’s first loan and she is very happy to have support from brac pakistan and kiva\"\n"
      ]
     },
     "metadata": {},
     "output_type": "display_data"
    }
   ],
   "source": [
    "## Remove punctuation\n",
    "corp <- tm_map(corp, removePunctuation)\n",
    "chead(corp)\n",
    "## corp <- tm_map(corp, removePunctuation, ucp = TRUE)\n",
    "## chead(corp)"
   ]
  },
  {
   "cell_type": "markdown",
   "metadata": {},
   "source": [
    "Now we remove all numbers. We observe the loan amount and the repayment schedule in other variables, so we can get rid of numbers. Extracting the meaning of numbers within their context is difficult. "
   ]
  },
  {
   "cell_type": "code",
   "execution_count": 8,
   "metadata": {},
   "outputs": [
    {
     "data": {
      "text/html": [
       "<dl>\n",
       "\t<dt>$`269894`</dt>\n",
       "\t\t<dd><span style=white-space:pre-wrap>'esteban belongs to the “las margarita ocongate” community bank and lives in the city of ocongate in quispicanchis province in cusco department peru he lives with his wife and his  yearold daughter crisanta the city of ocongate is two hours from the city of cusco esteban studied law at the national university of san antonio abad in cusco but he was unable to complete his degree for financial reasons he decided to start a new life esteban worked helping lawyers write documentation and then trained to become a legal counselor someone who provides advice on legal matters including criminal issues civil issues labor issues contracts transfers fees and other cases after working in different cities in cusco department as a legal counselor esteban decided to set up in the city of ocongate and opened a legal counseling office esteban requires this loan to buy stationery supplies such as paper pens and many other products esteban is grateful for this opportunity and he pledges to make his repayments on time'</span></dd>\n",
       "\t<dt>$`1247640`</dt>\n",
       "\t\t<dd>'kosar is a married woman and entrepreneur and a new borrower through brac pakistan she has worked hard dayandnight to manage the household expenses kosar recently opened a salon and needs to decorate the interior and buy stock of cosmetics and beautyrelated electronics kosar has requested for a loan from brac pakistan to help establish her salon business by fixing up the interior for which she needs to buy salon chairs and cosmetics to attract more customers this is kosar’s first loan and she is very happy to have support from brac pakistan and kiva'</dd>\n",
       "</dl>\n"
      ],
      "text/latex": [
       "\\begin{description}\n",
       "\\item[\\$`269894`] 'esteban belongs to the “las margarita ocongate” community bank and lives in the city of ocongate in quispicanchis province in cusco department peru he lives with his wife and his  yearold daughter crisanta the city of ocongate is two hours from the city of cusco esteban studied law at the national university of san antonio abad in cusco but he was unable to complete his degree for financial reasons he decided to start a new life esteban worked helping lawyers write documentation and then trained to become a legal counselor someone who provides advice on legal matters including criminal issues civil issues labor issues contracts transfers fees and other cases after working in different cities in cusco department as a legal counselor esteban decided to set up in the city of ocongate and opened a legal counseling office esteban requires this loan to buy stationery supplies such as paper pens and many other products esteban is grateful for this opportunity and he pledges to make his repayments on time'\n",
       "\\item[\\$`1247640`] 'kosar is a married woman and entrepreneur and a new borrower through brac pakistan she has worked hard dayandnight to manage the household expenses kosar recently opened a salon and needs to decorate the interior and buy stock of cosmetics and beautyrelated electronics kosar has requested for a loan from brac pakistan to help establish her salon business by fixing up the interior for which she needs to buy salon chairs and cosmetics to attract more customers this is kosar’s first loan and she is very happy to have support from brac pakistan and kiva'\n",
       "\\end{description}\n"
      ],
      "text/markdown": [
       "$`269894`\n",
       ":   <span style=white-space:pre-wrap>'esteban belongs to the “las margarita ocongate” community bank and lives in the city of ocongate in quispicanchis province in cusco department peru he lives with his wife and his  yearold daughter crisanta the city of ocongate is two hours from the city of cusco esteban studied law at the national university of san antonio abad in cusco but he was unable to complete his degree for financial reasons he decided to start a new life esteban worked helping lawyers write documentation and then trained to become a legal counselor someone who provides advice on legal matters including criminal issues civil issues labor issues contracts transfers fees and other cases after working in different cities in cusco department as a legal counselor esteban decided to set up in the city of ocongate and opened a legal counseling office esteban requires this loan to buy stationery supplies such as paper pens and many other products esteban is grateful for this opportunity and he pledges to make his repayments on time'</span>\n",
       "$`1247640`\n",
       ":   'kosar is a married woman and entrepreneur and a new borrower through brac pakistan she has worked hard dayandnight to manage the household expenses kosar recently opened a salon and needs to decorate the interior and buy stock of cosmetics and beautyrelated electronics kosar has requested for a loan from brac pakistan to help establish her salon business by fixing up the interior for which she needs to buy salon chairs and cosmetics to attract more customers this is kosar’s first loan and she is very happy to have support from brac pakistan and kiva'\n",
       "\n",
       "\n"
      ],
      "text/plain": [
       "$`269894`\n",
       "[1] \"esteban belongs to the “las margarita ocongate” community bank and lives in the city of ocongate in quispicanchis province in cusco department peru he lives with his wife and his  yearold daughter crisanta the city of ocongate is two hours from the city of cusco esteban studied law at the national university of san antonio abad in cusco but he was unable to complete his degree for financial reasons he decided to start a new life esteban worked helping lawyers write documentation and then trained to become a legal counselor someone who provides advice on legal matters including criminal issues civil issues labor issues contracts transfers fees and other cases after working in different cities in cusco department as a legal counselor esteban decided to set up in the city of ocongate and opened a legal counseling office esteban requires this loan to buy stationery supplies such as paper pens and many other products esteban is grateful for this opportunity and he pledges to make his repayments on time\"\n",
       "\n",
       "$`1247640`\n",
       "[1] \"kosar is a married woman and entrepreneur and a new borrower through brac pakistan she has worked hard dayandnight to manage the household expenses kosar recently opened a salon and needs to decorate the interior and buy stock of cosmetics and beautyrelated electronics kosar has requested for a loan from brac pakistan to help establish her salon business by fixing up the interior for which she needs to buy salon chairs and cosmetics to attract more customers this is kosar’s first loan and she is very happy to have support from brac pakistan and kiva\"\n"
      ]
     },
     "metadata": {},
     "output_type": "display_data"
    }
   ],
   "source": [
    "## Remove numbers\n",
    "corp <- tm_map(corp, removeNumbers)\n",
    "chead(corp)"
   ]
  },
  {
   "cell_type": "markdown",
   "metadata": {},
   "source": [
    "Any other transformation - like substituting specific patterns based on regular expressions - can be passed to `tm_map()` using a user-defined function."
   ]
  },
  {
   "cell_type": "code",
   "execution_count": 9,
   "metadata": {},
   "outputs": [],
   "source": [
    "## For specific transformations, you could also pass a lambda function to remove patterns based on a regex\n",
    "\n",
    "## Example:\n",
    "## toSpace <- content_transformer(function (x , pattern) gsub(pattern, \" \", x))\n",
    "## corp <- tm_map(corp, toSpace, \"patternhere\")"
   ]
  },
  {
   "cell_type": "markdown",
   "metadata": {},
   "source": [
    "Looking at a frequency plot of the token counts, there is still plenty of filtering to do to get meaningful token counts."
   ]
  },
  {
   "cell_type": "code",
   "execution_count": 10,
   "metadata": {},
   "outputs": [
    {
     "data": {
      "image/png": "[encoded data removed]",
      "text/plain": [
       "plot without title"
      ]
     },
     "metadata": {
      "image/png": {
       "height": 420,
       "width": 420
      }
     },
     "output_type": "display_data"
    }
   ],
   "source": [
    "## Look at the most frequent words in our text and see whether we should get rid of some\n",
    "frequent_terms <- qdap::freq_terms(corp, 30)\n",
    "plot(frequent_terms)"
   ]
  },
  {
   "cell_type": "markdown",
   "metadata": {},
   "source": [
    "Next, we remove stopwords and other generic words which do not carry special meaning in our context."
   ]
  },
  {
   "cell_type": "code",
   "execution_count": 11,
   "metadata": {},
   "outputs": [
    {
     "data": {
      "text/html": [
       "<dl>\n",
       "\t<dt>$`269894`</dt>\n",
       "\t\t<dd><span style=white-space:pre-wrap>'esteban belongs   “las margarita ocongate” community bank  lives   city  ocongate  quispicanchis province  cusco department peru  lives   wife    yearold daughter crisanta  city  ocongate  two hours   city  cusco esteban studied law   national university  san antonio abad  cusco    unable  complete  degree  financial reasons  decided  start  new life esteban worked helping lawyers write documentation   trained  become  legal counselor someone  provides advice  legal matters including criminal issues civil issues labor issues contracts transfers fees   cases  working  different cities  cusco department   legal counselor esteban decided  set    city  ocongate  opened  legal counseling office esteban requires  loan  buy stationery supplies   paper pens  many  products esteban  grateful   opportunity   pledges  make  repayments  time'</span></dd>\n",
       "\t<dt>$`1247640`</dt>\n",
       "\t\t<dd><span style=white-space:pre-wrap>'kosar   married woman  entrepreneur   new borrower  brac pakistan   worked hard dayandnight  manage  household expenses kosar recently opened  salon  needs  decorate  interior  buy stock  cosmetics  beautyrelated electronics kosar  requested   loan  brac pakistan  help establish  salon business  fixing   interior    needs  buy salon chairs  cosmetics  attract  customers   kosar’s first loan     happy   support  brac pakistan  kiva'</span></dd>\n",
       "</dl>\n"
      ],
      "text/latex": [
       "\\begin{description}\n",
       "\\item[\\$`269894`] 'esteban belongs   “las margarita ocongate” community bank  lives   city  ocongate  quispicanchis province  cusco department peru  lives   wife    yearold daughter crisanta  city  ocongate  two hours   city  cusco esteban studied law   national university  san antonio abad  cusco    unable  complete  degree  financial reasons  decided  start  new life esteban worked helping lawyers write documentation   trained  become  legal counselor someone  provides advice  legal matters including criminal issues civil issues labor issues contracts transfers fees   cases  working  different cities  cusco department   legal counselor esteban decided  set    city  ocongate  opened  legal counseling office esteban requires  loan  buy stationery supplies   paper pens  many  products esteban  grateful   opportunity   pledges  make  repayments  time'\n",
       "\\item[\\$`1247640`] 'kosar   married woman  entrepreneur   new borrower  brac pakistan   worked hard dayandnight  manage  household expenses kosar recently opened  salon  needs  decorate  interior  buy stock  cosmetics  beautyrelated electronics kosar  requested   loan  brac pakistan  help establish  salon business  fixing   interior    needs  buy salon chairs  cosmetics  attract  customers   kosar’s first loan     happy   support  brac pakistan  kiva'\n",
       "\\end{description}\n"
      ],
      "text/markdown": [
       "$`269894`\n",
       ":   <span style=white-space:pre-wrap>'esteban belongs   “las margarita ocongate” community bank  lives   city  ocongate  quispicanchis province  cusco department peru  lives   wife    yearold daughter crisanta  city  ocongate  two hours   city  cusco esteban studied law   national university  san antonio abad  cusco    unable  complete  degree  financial reasons  decided  start  new life esteban worked helping lawyers write documentation   trained  become  legal counselor someone  provides advice  legal matters including criminal issues civil issues labor issues contracts transfers fees   cases  working  different cities  cusco department   legal counselor esteban decided  set    city  ocongate  opened  legal counseling office esteban requires  loan  buy stationery supplies   paper pens  many  products esteban  grateful   opportunity   pledges  make  repayments  time'</span>\n",
       "$`1247640`\n",
       ":   <span style=white-space:pre-wrap>'kosar   married woman  entrepreneur   new borrower  brac pakistan   worked hard dayandnight  manage  household expenses kosar recently opened  salon  needs  decorate  interior  buy stock  cosmetics  beautyrelated electronics kosar  requested   loan  brac pakistan  help establish  salon business  fixing   interior    needs  buy salon chairs  cosmetics  attract  customers   kosar’s first loan     happy   support  brac pakistan  kiva'</span>\n",
       "\n",
       "\n"
      ],
      "text/plain": [
       "$`269894`\n",
       "[1] \"esteban belongs   “las margarita ocongate” community bank  lives   city  ocongate  quispicanchis province  cusco department peru  lives   wife    yearold daughter crisanta  city  ocongate  two hours   city  cusco esteban studied law   national university  san antonio abad  cusco    unable  complete  degree  financial reasons  decided  start  new life esteban worked helping lawyers write documentation   trained  become  legal counselor someone  provides advice  legal matters including criminal issues civil issues labor issues contracts transfers fees   cases  working  different cities  cusco department   legal counselor esteban decided  set    city  ocongate  opened  legal counseling office esteban requires  loan  buy stationery supplies   paper pens  many  products esteban  grateful   opportunity   pledges  make  repayments  time\"\n",
       "\n",
       "$`1247640`\n",
       "[1] \"kosar   married woman  entrepreneur   new borrower  brac pakistan   worked hard dayandnight  manage  household expenses kosar recently opened  salon  needs  decorate  interior  buy stock  cosmetics  beautyrelated electronics kosar  requested   loan  brac pakistan  help establish  salon business  fixing   interior    needs  buy salon chairs  cosmetics  attract  customers   kosar’s first loan     happy   support  brac pakistan  kiva\"\n"
      ]
     },
     "metadata": {},
     "output_type": "display_data"
    }
   ],
   "source": [
    "## More invasive changes: remove generic and custom stopwords\n",
    "corp <- tm_map(corp, removeWords, stopwords('english'))\n",
    "chead(corp)"
   ]
  },
  {
   "cell_type": "code",
   "execution_count": 12,
   "metadata": {},
   "outputs": [],
   "source": [
    "## And a few more words we filter for lack of being informative, this could be extended\n",
    "corp <- tm_map(corp, removeWords, \"loan\")\n",
    "corp <- tm_map(corp, removeWords, \"kiva\")"
   ]
  },
  {
   "cell_type": "code",
   "execution_count": 13,
   "metadata": {},
   "outputs": [
    {
     "data": {
      "text/html": [
       "<dl>\n",
       "\t<dt>$`269894`</dt>\n",
       "\t\t<dd><span style=white-space:pre-wrap>' belongs   “las  ocongate” community bank  lives   city  ocongate  quispicanchis province  cusco department peru  lives   wife    yearold daughter crisanta  city  ocongate  two hours   city  cusco  studied law   national university  san  abad  cusco    unable  complete  degree  financial reasons  decided  start  new life  worked helping lawyers write documentation   trained  become  legal counselor someone  provides advice  legal matters including criminal issues civil issues labor issues contracts transfers fees   cases  working  different cities  cusco department   legal counselor  decided  set    city  ocongate  opened  legal counseling office  requires    buy stationery supplies   paper pens    products   grateful   opportunity   pledges  make  repayments  time'</span></dd>\n",
       "\t<dt>$`1247640`</dt>\n",
       "\t\t<dd><span style=white-space:pre-wrap>'kosar   married woman  entrepreneur   new borrower  brac pakistan   worked hard dayandnight  manage  household expenses kosar recently opened  salon  needs  decorate  interior  buy stock  cosmetics  beautyrelated electronics kosar  requested     brac pakistan  help establish  salon business  fixing   interior    needs  buy salon chairs  cosmetics  attract  customers   kosar’s first      happy   support  brac pakistan  '</span></dd>\n",
       "</dl>\n"
      ],
      "text/latex": [
       "\\begin{description}\n",
       "\\item[\\$`269894`] ' belongs   “las  ocongate” community bank  lives   city  ocongate  quispicanchis province  cusco department peru  lives   wife    yearold daughter crisanta  city  ocongate  two hours   city  cusco  studied law   national university  san  abad  cusco    unable  complete  degree  financial reasons  decided  start  new life  worked helping lawyers write documentation   trained  become  legal counselor someone  provides advice  legal matters including criminal issues civil issues labor issues contracts transfers fees   cases  working  different cities  cusco department   legal counselor  decided  set    city  ocongate  opened  legal counseling office  requires    buy stationery supplies   paper pens    products   grateful   opportunity   pledges  make  repayments  time'\n",
       "\\item[\\$`1247640`] 'kosar   married woman  entrepreneur   new borrower  brac pakistan   worked hard dayandnight  manage  household expenses kosar recently opened  salon  needs  decorate  interior  buy stock  cosmetics  beautyrelated electronics kosar  requested     brac pakistan  help establish  salon business  fixing   interior    needs  buy salon chairs  cosmetics  attract  customers   kosar’s first      happy   support  brac pakistan  '\n",
       "\\end{description}\n"
      ],
      "text/markdown": [
       "$`269894`\n",
       ":   <span style=white-space:pre-wrap>' belongs   “las  ocongate” community bank  lives   city  ocongate  quispicanchis province  cusco department peru  lives   wife    yearold daughter crisanta  city  ocongate  two hours   city  cusco  studied law   national university  san  abad  cusco    unable  complete  degree  financial reasons  decided  start  new life  worked helping lawyers write documentation   trained  become  legal counselor someone  provides advice  legal matters including criminal issues civil issues labor issues contracts transfers fees   cases  working  different cities  cusco department   legal counselor  decided  set    city  ocongate  opened  legal counseling office  requires    buy stationery supplies   paper pens    products   grateful   opportunity   pledges  make  repayments  time'</span>\n",
       "$`1247640`\n",
       ":   <span style=white-space:pre-wrap>'kosar   married woman  entrepreneur   new borrower  brac pakistan   worked hard dayandnight  manage  household expenses kosar recently opened  salon  needs  decorate  interior  buy stock  cosmetics  beautyrelated electronics kosar  requested     brac pakistan  help establish  salon business  fixing   interior    needs  buy salon chairs  cosmetics  attract  customers   kosar’s first      happy   support  brac pakistan  '</span>\n",
       "\n",
       "\n"
      ],
      "text/plain": [
       "$`269894`\n",
       "[1] \" belongs   “las  ocongate” community bank  lives   city  ocongate  quispicanchis province  cusco department peru  lives   wife    yearold daughter crisanta  city  ocongate  two hours   city  cusco  studied law   national university  san  abad  cusco    unable  complete  degree  financial reasons  decided  start  new life  worked helping lawyers write documentation   trained  become  legal counselor someone  provides advice  legal matters including criminal issues civil issues labor issues contracts transfers fees   cases  working  different cities  cusco department   legal counselor  decided  set    city  ocongate  opened  legal counseling office  requires    buy stationery supplies   paper pens    products   grateful   opportunity   pledges  make  repayments  time\"\n",
       "\n",
       "$`1247640`\n",
       "[1] \"kosar   married woman  entrepreneur   new borrower  brac pakistan   worked hard dayandnight  manage  household expenses kosar recently opened  salon  needs  decorate  interior  buy stock  cosmetics  beautyrelated electronics kosar  requested     brac pakistan  help establish  salon business  fixing   interior    needs  buy salon chairs  cosmetics  attract  customers   kosar’s first      happy   support  brac pakistan  \"\n"
      ]
     },
     "metadata": {},
     "output_type": "display_data"
    }
   ],
   "source": [
    "## There are a lot of names in the data, these are not really informative\n",
    "## We apply a dictionary to get rid of some of them\n",
    "## Truncation because of regex limit\n",
    "corp <- tm_map(corp, removeWords, common_names[1:floor(length(common_names)/2)])\n",
    "corp <- tm_map(corp, removeWords, common_names[floor(length(common_names)/2):length(common_names)])\n",
    "corp <- tm_map(corp, removeWords, freq_first_names[1:floor(nrow(freq_first_names)/2), Name])\n",
    "corp <- tm_map(corp, removeWords, freq_first_names[floor(nrow(freq_first_names)/2):nrow(freq_first_names), Name])\n",
    "## corp <- tm_map(corp, removeWords, freq_last_names) # needs to be truncated as well, even longer\n",
    "chead(corp)"
   ]
  },
  {
   "cell_type": "markdown",
   "metadata": {},
   "source": [
    "You can also stem the document here. For illustration purposes I refrain from it here, but in real applications you might want to do this. Stemmers do not work equally well for all languages, depending on your application, there may be added value to grouping and transforming tokens further yourself."
   ]
  },
  {
   "cell_type": "code",
   "execution_count": 14,
   "metadata": {},
   "outputs": [],
   "source": [
    "## Stem document\n",
    "## corp <- tm_map(corp, stemDocument, language = 'english')\n",
    "## chead(corp)"
   ]
  },
  {
   "cell_type": "markdown",
   "metadata": {},
   "source": [
    "Strip all extra whitespace (this is without consequences for tokenization)."
   ]
  },
  {
   "cell_type": "code",
   "execution_count": 15,
   "metadata": {},
   "outputs": [
    {
     "data": {
      "text/html": [
       "<dl>\n",
       "\t<dt>$`269894`</dt>\n",
       "\t\t<dd>' belongs “las ocongate” community bank lives city ocongate quispicanchis province cusco department peru lives wife yearold daughter crisanta city ocongate two hours city cusco studied law national university san abad cusco unable complete degree financial reasons decided start new life worked helping lawyers write documentation trained become legal counselor someone provides advice legal matters including criminal issues civil issues labor issues contracts transfers fees cases working different cities cusco department legal counselor decided set city ocongate opened legal counseling office requires buy stationery supplies paper pens products grateful opportunity pledges make repayments time'</dd>\n",
       "\t<dt>$`1247640`</dt>\n",
       "\t\t<dd>'kosar married woman entrepreneur new borrower brac pakistan worked hard dayandnight manage household expenses kosar recently opened salon needs decorate interior buy stock cosmetics beautyrelated electronics kosar requested brac pakistan help establish salon business fixing interior needs buy salon chairs cosmetics attract customers kosar’s first happy support brac pakistan '</dd>\n",
       "</dl>\n"
      ],
      "text/latex": [
       "\\begin{description}\n",
       "\\item[\\$`269894`] ' belongs “las ocongate” community bank lives city ocongate quispicanchis province cusco department peru lives wife yearold daughter crisanta city ocongate two hours city cusco studied law national university san abad cusco unable complete degree financial reasons decided start new life worked helping lawyers write documentation trained become legal counselor someone provides advice legal matters including criminal issues civil issues labor issues contracts transfers fees cases working different cities cusco department legal counselor decided set city ocongate opened legal counseling office requires buy stationery supplies paper pens products grateful opportunity pledges make repayments time'\n",
       "\\item[\\$`1247640`] 'kosar married woman entrepreneur new borrower brac pakistan worked hard dayandnight manage household expenses kosar recently opened salon needs decorate interior buy stock cosmetics beautyrelated electronics kosar requested brac pakistan help establish salon business fixing interior needs buy salon chairs cosmetics attract customers kosar’s first happy support brac pakistan '\n",
       "\\end{description}\n"
      ],
      "text/markdown": [
       "$`269894`\n",
       ":   ' belongs “las ocongate” community bank lives city ocongate quispicanchis province cusco department peru lives wife yearold daughter crisanta city ocongate two hours city cusco studied law national university san abad cusco unable complete degree financial reasons decided start new life worked helping lawyers write documentation trained become legal counselor someone provides advice legal matters including criminal issues civil issues labor issues contracts transfers fees cases working different cities cusco department legal counselor decided set city ocongate opened legal counseling office requires buy stationery supplies paper pens products grateful opportunity pledges make repayments time'\n",
       "$`1247640`\n",
       ":   'kosar married woman entrepreneur new borrower brac pakistan worked hard dayandnight manage household expenses kosar recently opened salon needs decorate interior buy stock cosmetics beautyrelated electronics kosar requested brac pakistan help establish salon business fixing interior needs buy salon chairs cosmetics attract customers kosar’s first happy support brac pakistan '\n",
       "\n",
       "\n"
      ],
      "text/plain": [
       "$`269894`\n",
       "[1] \" belongs “las ocongate” community bank lives city ocongate quispicanchis province cusco department peru lives wife yearold daughter crisanta city ocongate two hours city cusco studied law national university san abad cusco unable complete degree financial reasons decided start new life worked helping lawyers write documentation trained become legal counselor someone provides advice legal matters including criminal issues civil issues labor issues contracts transfers fees cases working different cities cusco department legal counselor decided set city ocongate opened legal counseling office requires buy stationery supplies paper pens products grateful opportunity pledges make repayments time\"\n",
       "\n",
       "$`1247640`\n",
       "[1] \"kosar married woman entrepreneur new borrower brac pakistan worked hard dayandnight manage household expenses kosar recently opened salon needs decorate interior buy stock cosmetics beautyrelated electronics kosar requested brac pakistan help establish salon business fixing interior needs buy salon chairs cosmetics attract customers kosar’s first happy support brac pakistan \"\n"
      ]
     },
     "metadata": {},
     "output_type": "display_data"
    }
   ],
   "source": [
    "## Strip extra whitespace\n",
    "corp <- tm_map(corp, stripWhitespace)\n",
    "chead(corp)"
   ]
  },
  {
   "cell_type": "markdown",
   "metadata": {},
   "source": [
    "## Building a document-term matrix and restricting the feature set"
   ]
  },
  {
   "cell_type": "markdown",
   "metadata": {},
   "source": [
    "We transform the corpus to a document-term matrix. We use simple term-frequency weighting, i.e. the simple token counts. This is the default. You can also choose term frequency-inverse document frequency (tfidf) weighting at this point."
   ]
  },
  {
   "cell_type": "code",
   "execution_count": 16,
   "metadata": {},
   "outputs": [
    {
     "name": "stdout",
     "output_type": "stream",
     "text": [
      "<<DocumentTermMatrix (documents: 10000, terms: 23589)>>\n",
      "Non-/sparse entries: 516846/235373154\n",
      "Sparsity           : 100%\n",
      "Maximal term length: 121\n",
      "Weighting          : term frequency (tf)\n",
      "Sample             :\n",
      "         Terms\n",
      "Docs      business buy children family help income lives married old years\n",
      "  1037639        0   0        1      3    0      0     0       1   2     3\n",
      "  137566         2   4        6      3    0      0     3       3   5     5\n",
      "  141930         0   1        1      0    1      0     1       2   3     2\n",
      "  152994         0   5        3      0    1      0     0       1   1     3\n",
      "  219458         0   0        0      0    0      0     0       5   0     5\n",
      "  264698         0   0        4      3    2      1     1       0   0     0\n",
      "  472746         1   0        0      3    2      0     0       0   0     1\n",
      "  489429         0   2        0      1    0      1     1       0   0     1\n",
      "  87540          4   1        1      1    1      1     0       1   1     2\n",
      "  96153          1   1        1      0    1      2     0       1   1     2\n"
     ]
    }
   ],
   "source": [
    "## Build a document-term or term-document matrix\n",
    "## Default is term-frequency weighting (document length normalized count)\n",
    "## TF-IDF weighting also possible\n",
    "\n",
    "## dtm <- TermDocumentMatrix(corp)\n",
    "dtm <- DocumentTermMatrix(corp)\n",
    "\n",
    "## Inspect the document-term matrix\n",
    "inspect(dtm)"
   ]
  },
  {
   "cell_type": "markdown",
   "metadata": {},
   "source": [
    "Following the tokenization, we can inspect the most popular words."
   ]
  },
  {
   "cell_type": "code",
   "execution_count": 17,
   "metadata": {},
   "outputs": [
    {
     "data": {
      "text/html": [
       "<style>\n",
       ".list-inline {list-style: none; margin:0; padding: 0}\n",
       ".list-inline>li {display: inline-block}\n",
       ".list-inline>li:not(:last-child)::after {content: \"\\00b7\"; padding: 0 .5ex}\n",
       "</style>\n",
       "<ol class=list-inline><li>'buy'</li><li>'city'</li><li>'community'</li><li>'financial'</li><li>'life'</li><li>'lives'</li><li>'make'</li><li>'new'</li><li>'products'</li><li>'time'</li><li>'two'</li><li>'working'</li><li>'yearold'</li><li>'business'</li><li>'customers'</li><li>'expenses'</li><li>'first'</li><li>'hard'</li><li>'help'</li><li>'married'</li><li>'needs'</li><li>'requested'</li><li>'support'</li><li>'woman'</li><li>'can'</li><li>'family'</li><li>'hardworking'</li><li>'increase'</li><li>'loans'</li><li>'requesting'</li><li>'selling'</li><li>'well'</li><li>'farm'</li><li>'farmer'</li><li>'get'</li><li>'husband'</li><li>'income'</li><li>'old'</li><li>'order'</li><li>'sells'</li><li>'village'</li><li>'years'</li><li>'expand'</li><li>'future'</li><li>'like'</li><li>'money'</li><li>'now'</li><li>'nwtf'</li><li>'philippines'</li><li>'php'</li><li>'save'</li><li>'sell'</li><li>'store'</li><li>'works'</li><li>'also'</li><li>'capital'</li><li>'children'</li><li>'earns'</li><li>'education'</li><li>'group'</li><li>'hopes'</li><li>'local'</li><li>'members'</li><li>'pay'</li><li>'provide'</li><li>'used'</li><li>'work'</li><li>'farming'</li><li>'four'</li><li>'good'</li><li>'improve'</li><li>'three'</li><li>'day'</li><li>'house'</li><li>'living'</li><li>'one'</li><li>'profits'</li><li>'purchase'</li><li>'rice'</li><li>'school'</li><li>'food'</li><li>'items'</li><li>'area'</li><li>'five'</li><li>'mother'</li><li>'partner'</li><li>'wants'</li><li>'enough'</li><li>'additional'</li><li>'able'</li><li>'continue'</li><li>'year'</li><li>'member'</li><li>'shop'</li><li>'use'</li><li>'since'</li><li>'small'</li><li>'earn'</li><li>'sales'</li><li>'market'</li><li>'plans'</li><li>'home'</li><li>'better'</li><li>'water'</li></ol>\n"
      ],
      "text/latex": [
       "\\begin{enumerate*}\n",
       "\\item 'buy'\n",
       "\\item 'city'\n",
       "\\item 'community'\n",
       "\\item 'financial'\n",
       "\\item 'life'\n",
       "\\item 'lives'\n",
       "\\item 'make'\n",
       "\\item 'new'\n",
       "\\item 'products'\n",
       "\\item 'time'\n",
       "\\item 'two'\n",
       "\\item 'working'\n",
       "\\item 'yearold'\n",
       "\\item 'business'\n",
       "\\item 'customers'\n",
       "\\item 'expenses'\n",
       "\\item 'first'\n",
       "\\item 'hard'\n",
       "\\item 'help'\n",
       "\\item 'married'\n",
       "\\item 'needs'\n",
       "\\item 'requested'\n",
       "\\item 'support'\n",
       "\\item 'woman'\n",
       "\\item 'can'\n",
       "\\item 'family'\n",
       "\\item 'hardworking'\n",
       "\\item 'increase'\n",
       "\\item 'loans'\n",
       "\\item 'requesting'\n",
       "\\item 'selling'\n",
       "\\item 'well'\n",
       "\\item 'farm'\n",
       "\\item 'farmer'\n",
       "\\item 'get'\n",
       "\\item 'husband'\n",
       "\\item 'income'\n",
       "\\item 'old'\n",
       "\\item 'order'\n",
       "\\item 'sells'\n",
       "\\item 'village'\n",
       "\\item 'years'\n",
       "\\item 'expand'\n",
       "\\item 'future'\n",
       "\\item 'like'\n",
       "\\item 'money'\n",
       "\\item 'now'\n",
       "\\item 'nwtf'\n",
       "\\item 'philippines'\n",
       "\\item 'php'\n",
       "\\item 'save'\n",
       "\\item 'sell'\n",
       "\\item 'store'\n",
       "\\item 'works'\n",
       "\\item 'also'\n",
       "\\item 'capital'\n",
       "\\item 'children'\n",
       "\\item 'earns'\n",
       "\\item 'education'\n",
       "\\item 'group'\n",
       "\\item 'hopes'\n",
       "\\item 'local'\n",
       "\\item 'members'\n",
       "\\item 'pay'\n",
       "\\item 'provide'\n",
       "\\item 'used'\n",
       "\\item 'work'\n",
       "\\item 'farming'\n",
       "\\item 'four'\n",
       "\\item 'good'\n",
       "\\item 'improve'\n",
       "\\item 'three'\n",
       "\\item 'day'\n",
       "\\item 'house'\n",
       "\\item 'living'\n",
       "\\item 'one'\n",
       "\\item 'profits'\n",
       "\\item 'purchase'\n",
       "\\item 'rice'\n",
       "\\item 'school'\n",
       "\\item 'food'\n",
       "\\item 'items'\n",
       "\\item 'area'\n",
       "\\item 'five'\n",
       "\\item 'mother'\n",
       "\\item 'partner'\n",
       "\\item 'wants'\n",
       "\\item 'enough'\n",
       "\\item 'additional'\n",
       "\\item 'able'\n",
       "\\item 'continue'\n",
       "\\item 'year'\n",
       "\\item 'member'\n",
       "\\item 'shop'\n",
       "\\item 'use'\n",
       "\\item 'since'\n",
       "\\item 'small'\n",
       "\\item 'earn'\n",
       "\\item 'sales'\n",
       "\\item 'market'\n",
       "\\item 'plans'\n",
       "\\item 'home'\n",
       "\\item 'better'\n",
       "\\item 'water'\n",
       "\\end{enumerate*}\n"
      ],
      "text/markdown": [
       "1. 'buy'\n",
       "2. 'city'\n",
       "3. 'community'\n",
       "4. 'financial'\n",
       "5. 'life'\n",
       "6. 'lives'\n",
       "7. 'make'\n",
       "8. 'new'\n",
       "9. 'products'\n",
       "10. 'time'\n",
       "11. 'two'\n",
       "12. 'working'\n",
       "13. 'yearold'\n",
       "14. 'business'\n",
       "15. 'customers'\n",
       "16. 'expenses'\n",
       "17. 'first'\n",
       "18. 'hard'\n",
       "19. 'help'\n",
       "20. 'married'\n",
       "21. 'needs'\n",
       "22. 'requested'\n",
       "23. 'support'\n",
       "24. 'woman'\n",
       "25. 'can'\n",
       "26. 'family'\n",
       "27. 'hardworking'\n",
       "28. 'increase'\n",
       "29. 'loans'\n",
       "30. 'requesting'\n",
       "31. 'selling'\n",
       "32. 'well'\n",
       "33. 'farm'\n",
       "34. 'farmer'\n",
       "35. 'get'\n",
       "36. 'husband'\n",
       "37. 'income'\n",
       "38. 'old'\n",
       "39. 'order'\n",
       "40. 'sells'\n",
       "41. 'village'\n",
       "42. 'years'\n",
       "43. 'expand'\n",
       "44. 'future'\n",
       "45. 'like'\n",
       "46. 'money'\n",
       "47. 'now'\n",
       "48. 'nwtf'\n",
       "49. 'philippines'\n",
       "50. 'php'\n",
       "51. 'save'\n",
       "52. 'sell'\n",
       "53. 'store'\n",
       "54. 'works'\n",
       "55. 'also'\n",
       "56. 'capital'\n",
       "57. 'children'\n",
       "58. 'earns'\n",
       "59. 'education'\n",
       "60. 'group'\n",
       "61. 'hopes'\n",
       "62. 'local'\n",
       "63. 'members'\n",
       "64. 'pay'\n",
       "65. 'provide'\n",
       "66. 'used'\n",
       "67. 'work'\n",
       "68. 'farming'\n",
       "69. 'four'\n",
       "70. 'good'\n",
       "71. 'improve'\n",
       "72. 'three'\n",
       "73. 'day'\n",
       "74. 'house'\n",
       "75. 'living'\n",
       "76. 'one'\n",
       "77. 'profits'\n",
       "78. 'purchase'\n",
       "79. 'rice'\n",
       "80. 'school'\n",
       "81. 'food'\n",
       "82. 'items'\n",
       "83. 'area'\n",
       "84. 'five'\n",
       "85. 'mother'\n",
       "86. 'partner'\n",
       "87. 'wants'\n",
       "88. 'enough'\n",
       "89. 'additional'\n",
       "90. 'able'\n",
       "91. 'continue'\n",
       "92. 'year'\n",
       "93. 'member'\n",
       "94. 'shop'\n",
       "95. 'use'\n",
       "96. 'since'\n",
       "97. 'small'\n",
       "98. 'earn'\n",
       "99. 'sales'\n",
       "100. 'market'\n",
       "101. 'plans'\n",
       "102. 'home'\n",
       "103. 'better'\n",
       "104. 'water'\n",
       "\n",
       "\n"
      ],
      "text/plain": [
       "  [1] \"buy\"         \"city\"        \"community\"   \"financial\"   \"life\"       \n",
       "  [6] \"lives\"       \"make\"        \"new\"         \"products\"    \"time\"       \n",
       " [11] \"two\"         \"working\"     \"yearold\"     \"business\"    \"customers\"  \n",
       " [16] \"expenses\"    \"first\"       \"hard\"        \"help\"        \"married\"    \n",
       " [21] \"needs\"       \"requested\"   \"support\"     \"woman\"       \"can\"        \n",
       " [26] \"family\"      \"hardworking\" \"increase\"    \"loans\"       \"requesting\" \n",
       " [31] \"selling\"     \"well\"        \"farm\"        \"farmer\"      \"get\"        \n",
       " [36] \"husband\"     \"income\"      \"old\"         \"order\"       \"sells\"      \n",
       " [41] \"village\"     \"years\"       \"expand\"      \"future\"      \"like\"       \n",
       " [46] \"money\"       \"now\"         \"nwtf\"        \"philippines\" \"php\"        \n",
       " [51] \"save\"        \"sell\"        \"store\"       \"works\"       \"also\"       \n",
       " [56] \"capital\"     \"children\"    \"earns\"       \"education\"   \"group\"      \n",
       " [61] \"hopes\"       \"local\"       \"members\"     \"pay\"         \"provide\"    \n",
       " [66] \"used\"        \"work\"        \"farming\"     \"four\"        \"good\"       \n",
       " [71] \"improve\"     \"three\"       \"day\"         \"house\"       \"living\"     \n",
       " [76] \"one\"         \"profits\"     \"purchase\"    \"rice\"        \"school\"     \n",
       " [81] \"food\"        \"items\"       \"area\"        \"five\"        \"mother\"     \n",
       " [86] \"partner\"     \"wants\"       \"enough\"      \"additional\"  \"able\"       \n",
       " [91] \"continue\"    \"year\"        \"member\"      \"shop\"        \"use\"        \n",
       " [96] \"since\"       \"small\"       \"earn\"        \"sales\"       \"market\"     \n",
       "[101] \"plans\"       \"home\"        \"better\"      \"water\"      "
      ]
     },
     "metadata": {},
     "output_type": "display_data"
    }
   ],
   "source": [
    "## Inspect most popular words\n",
    "findFreqTerms(dtm, lowfreq=1000)"
   ]
  },
  {
   "cell_type": "markdown",
   "metadata": {},
   "source": [
    "The document-word vectors allow us to inspect the correlation between words as we would between variables in other data."
   ]
  },
  {
   "cell_type": "code",
   "execution_count": 18,
   "metadata": {},
   "outputs": [
    {
     "data": {
      "text/html": [
       "<strong>$hard</strong> = <style>\n",
       ".dl-inline {width: auto; margin:0; padding: 0}\n",
       ".dl-inline>dt, .dl-inline>dd {float: none; width: auto; display: inline-block}\n",
       ".dl-inline>dt::after {content: \":\\0020\"; padding-right: .5ex}\n",
       ".dl-inline>dt:not(:first-of-type) {padding-left: .5ex}\n",
       "</style><dl class=dl-inline><dt>nwtf</dt><dd>0.41</dd><dt>philippines</dt><dd>0.39</dd><dt>attain</dt><dd>0.38</dd><dt>parent</dt><dd>0.37</dd><dt>sustaining</dt><dd>0.35</dd><dt>works</dt><dd>0.28</dd><dt>php</dt><dd>0.27</dd><dt>enough</dt><dd>0.24</dd><dt>general</dt><dd>0.23</dd><dt>provide</dt><dd>0.22</dd><dt>requested</dt><dd>0.21</dd><dt>borrowing</dt><dd>0.21</dd><dt>save</dt><dd>0.2</dd><dt>afford</dt><dd>0.2</dd><dt>send</dt><dd>0.2</dd><dt>work</dt><dd>0.19</dd><dt>vending</dt><dd>0.19</dd><dt>college</dt><dd>0.18</dd><dt>like</dt><dd>0.17</dd><dt>working</dt><dd>0.16</dd><dt>money</dt><dd>0.16</dd><dt>faithfully</dt><dd>0.16</dd><dt>additional</dt><dd>0.16</dd><dt>secure</dt><dd>0.16</dd><dt>groceries</dt><dd>0.16</dd><dt>expands</dt><dd>0.16</dd><dt>minimum</dt><dd>0.16</dd><dt>loans</dt><dd>0.15</dd><dt>future</dt><dd>0.15</dd><dt>store</dt><dd>0.15</dd><dt>word</dt><dd>0.15</dd><dt>continually</dt><dd>0.15</dd></dl>\n"
      ],
      "text/latex": [
       "\\textbf{\\$hard} = \\begin{description*}\n",
       "\\item[nwtf] 0.41\n",
       "\\item[philippines] 0.39\n",
       "\\item[attain] 0.38\n",
       "\\item[parent] 0.37\n",
       "\\item[sustaining] 0.35\n",
       "\\item[works] 0.28\n",
       "\\item[php] 0.27\n",
       "\\item[enough] 0.24\n",
       "\\item[general] 0.23\n",
       "\\item[provide] 0.22\n",
       "\\item[requested] 0.21\n",
       "\\item[borrowing] 0.21\n",
       "\\item[save] 0.2\n",
       "\\item[afford] 0.2\n",
       "\\item[send] 0.2\n",
       "\\item[work] 0.19\n",
       "\\item[vending] 0.19\n",
       "\\item[college] 0.18\n",
       "\\item[like] 0.17\n",
       "\\item[working] 0.16\n",
       "\\item[money] 0.16\n",
       "\\item[faithfully] 0.16\n",
       "\\item[additional] 0.16\n",
       "\\item[secure] 0.16\n",
       "\\item[groceries] 0.16\n",
       "\\item[expands] 0.16\n",
       "\\item[minimum] 0.16\n",
       "\\item[loans] 0.15\n",
       "\\item[future] 0.15\n",
       "\\item[store] 0.15\n",
       "\\item[word] 0.15\n",
       "\\item[continually] 0.15\n",
       "\\end{description*}\n"
      ],
      "text/markdown": [
       "**$hard** = nwtf\n",
       ":   0.41philippines\n",
       ":   0.39attain\n",
       ":   0.38parent\n",
       ":   0.37sustaining\n",
       ":   0.35works\n",
       ":   0.28php\n",
       ":   0.27enough\n",
       ":   0.24general\n",
       ":   0.23provide\n",
       ":   0.22requested\n",
       ":   0.21borrowing\n",
       ":   0.21save\n",
       ":   0.2afford\n",
       ":   0.2send\n",
       ":   0.2work\n",
       ":   0.19vending\n",
       ":   0.19college\n",
       ":   0.18like\n",
       ":   0.17working\n",
       ":   0.16money\n",
       ":   0.16faithfully\n",
       ":   0.16additional\n",
       ":   0.16secure\n",
       ":   0.16groceries\n",
       ":   0.16expands\n",
       ":   0.16minimum\n",
       ":   0.16loans\n",
       ":   0.15future\n",
       ":   0.15store\n",
       ":   0.15word\n",
       ":   0.15continually\n",
       ":   0.15\n",
       "\n"
      ],
      "text/plain": [
       "$hard\n",
       "       nwtf philippines      attain      parent  sustaining       works \n",
       "       0.41        0.39        0.38        0.37        0.35        0.28 \n",
       "        php      enough     general     provide   requested   borrowing \n",
       "       0.27        0.24        0.23        0.22        0.21        0.21 \n",
       "       save      afford        send        work     vending     college \n",
       "       0.20        0.20        0.20        0.19        0.19        0.18 \n",
       "       like     working       money  faithfully  additional      secure \n",
       "       0.17        0.16        0.16        0.16        0.16        0.16 \n",
       "  groceries     expands     minimum       loans      future       store \n",
       "       0.16        0.16        0.16        0.15        0.15        0.15 \n",
       "       word continually \n",
       "       0.15        0.15 \n"
      ]
     },
     "metadata": {},
     "output_type": "display_data"
    }
   ],
   "source": [
    "## Inspect associations\n",
    "findAssocs(dtm, 'hard', 0.15)"
   ]
  },
  {
   "cell_type": "markdown",
   "metadata": {},
   "source": [
    "Since the matrix is very wide and sparse, we are going to remove terms to arrive at a tractable representation. We can filter words simply by removing words that are very rare."
   ]
  },
  {
   "cell_type": "code",
   "execution_count": 19,
   "metadata": {},
   "outputs": [
    {
     "data": {
      "text/html": [
       "<style>\n",
       ".list-inline {list-style: none; margin:0; padding: 0}\n",
       ".list-inline>li {display: inline-block}\n",
       ".list-inline>li:not(:last-child)::after {content: \"\\00b7\"; padding: 0 .5ex}\n",
       "</style>\n",
       "<ol class=list-inline><li>10000</li><li>184</li></ol>\n"
      ],
      "text/latex": [
       "\\begin{enumerate*}\n",
       "\\item 10000\n",
       "\\item 184\n",
       "\\end{enumerate*}\n"
      ],
      "text/markdown": [
       "1. 10000\n",
       "2. 184\n",
       "\n",
       "\n"
      ],
      "text/plain": [
       "[1] 10000   184"
      ]
     },
     "metadata": {},
     "output_type": "display_data"
    },
    {
     "data": {
      "text/html": [
       "<style>\n",
       ".list-inline {list-style: none; margin:0; padding: 0}\n",
       ".list-inline>li {display: inline-block}\n",
       ".list-inline>li:not(:last-child)::after {content: \"\\00b7\"; padding: 0 .5ex}\n",
       "</style>\n",
       "<ol class=list-inline><li>10000</li><li>184</li></ol>\n"
      ],
      "text/latex": [
       "\\begin{enumerate*}\n",
       "\\item 10000\n",
       "\\item 184\n",
       "\\end{enumerate*}\n"
      ],
      "text/markdown": [
       "1. 10000\n",
       "2. 184\n",
       "\n",
       "\n"
      ],
      "text/plain": [
       "[1] 10000   184"
      ]
     },
     "metadata": {},
     "output_type": "display_data"
    }
   ],
   "source": [
    "## Remove sparse terms, prevents cluster node from choking and saves time\n",
    "## may also improve tractability\n",
    "\n",
    "## Tweak the sparse parameter to influence # of words\n",
    "dtms <- removeSparseTerms(dtm, sparse = 0.90)\n",
    "dtms <- removeSparseTerms(dtm, sparse = 0.95) ## less sparse, works much better for naive bayes\n",
    "dim(dtms)\n",
    "dtms <- dtms[row_sums(dtms) > 0, ]\n",
    "dim(dtms)"
   ]
  },
  {
   "cell_type": "markdown",
   "metadata": {},
   "source": [
    "We can also filter by tf-idf, only keeping words which occur frequently in some documents but not in others, helping us to keep those words that disambiguate loans. We compute the average tf-idf score for each token, then filter by that. I went back-and-forth a bit tweaking the threshold value for filtering."
   ]
  },
  {
   "cell_type": "code",
   "execution_count": 20,
   "metadata": {},
   "outputs": [
    {
     "data": {
      "text/plain": [
       "   Min. 1st Qu.  Median    Mean 3rd Qu.    Max. \n",
       "0.01094 0.09306 0.12953 0.18048 0.19456 1.58799 "
      ]
     },
     "metadata": {},
     "output_type": "display_data"
    },
    {
     "data": {
      "text/html": [
       "<style>\n",
       ".list-inline {list-style: none; margin:0; padding: 0}\n",
       ".list-inline>li {display: inline-block}\n",
       ".list-inline>li:not(:last-child)::after {content: \"\\00b7\"; padding: 0 .5ex}\n",
       "</style>\n",
       "<ol class=list-inline><li>10000</li><li>9247</li></ol>\n"
      ],
      "text/latex": [
       "\\begin{enumerate*}\n",
       "\\item 10000\n",
       "\\item 9247\n",
       "\\end{enumerate*}\n"
      ],
      "text/markdown": [
       "1. 10000\n",
       "2. 9247\n",
       "\n",
       "\n"
      ],
      "text/plain": [
       "[1] 10000  9247"
      ]
     },
     "metadata": {},
     "output_type": "display_data"
    },
    {
     "data": {
      "text/html": [
       "<style>\n",
       ".list-inline {list-style: none; margin:0; padding: 0}\n",
       ".list-inline>li {display: inline-block}\n",
       ".list-inline>li:not(:last-child)::after {content: \"\\00b7\"; padding: 0 .5ex}\n",
       "</style>\n",
       "<ol class=list-inline><li>7965</li><li>9247</li></ol>\n"
      ],
      "text/latex": [
       "\\begin{enumerate*}\n",
       "\\item 7965\n",
       "\\item 9247\n",
       "\\end{enumerate*}\n"
      ],
      "text/markdown": [
       "1. 7965\n",
       "2. 9247\n",
       "\n",
       "\n"
      ],
      "text/plain": [
       "[1] 7965 9247"
      ]
     },
     "metadata": {},
     "output_type": "display_data"
    },
    {
     "data": {
      "text/html": [
       "<style>\n",
       ".list-inline {list-style: none; margin:0; padding: 0}\n",
       ".list-inline>li {display: inline-block}\n",
       ".list-inline>li:not(:last-child)::after {content: \"\\00b7\"; padding: 0 .5ex}\n",
       "</style>\n",
       "<ol class=list-inline><li>10000</li><li>23589</li></ol>\n"
      ],
      "text/latex": [
       "\\begin{enumerate*}\n",
       "\\item 10000\n",
       "\\item 23589\n",
       "\\end{enumerate*}\n"
      ],
      "text/markdown": [
       "1. 10000\n",
       "2. 23589\n",
       "\n",
       "\n"
      ],
      "text/plain": [
       "[1] 10000 23589"
      ]
     },
     "metadata": {},
     "output_type": "display_data"
    }
   ],
   "source": [
    "## Alternatively, filter words by mean tf-idf\n",
    "\n",
    "## Calculate average term-specific tf-idf weights as\n",
    "## mean(word count/document length) * log(ndocs/ndocs containing word)\n",
    "termtfidf <- tapply(dtm$v/row_sums(dtm)[dtm$i], dtm$j, mean) *\n",
    "             log(nDocs(dtm)/col_sums(dtm > 0))\n",
    "summary(termtfidf)\n",
    "\n",
    "## Only include terms with at least median tf-idf score\n",
    "dtmw <- dtm[, (termtfidf >= 0.15)]\n",
    "dim(dtmw)\n",
    "## And documents within which these terms occur - this may induce selection\n",
    "dtmw <- dtmw[row_sums(dtmw) > 0, ]\n",
    "dim(dtmw)\n",
    "dim(dtm)"
   ]
  },
  {
   "cell_type": "code",
   "execution_count": 21,
   "metadata": {},
   "outputs": [
    {
     "data": {
      "text/html": [
       "<style>\n",
       ".list-inline {list-style: none; margin:0; padding: 0}\n",
       ".list-inline>li {display: inline-block}\n",
       ".list-inline>li:not(:last-child)::after {content: \"\\00b7\"; padding: 0 .5ex}\n",
       "</style>\n",
       "<ol class=list-inline><li>'fishing'</li><li>'pmpc'</li><li>'rickshaw'</li><li>'kadet'</li><li>'hspfi'</li><li>'babban'</li><li>'gona'</li><li>'inr'</li><li>'toilet'</li><li>'kgs'</li><li>'som'</li><li>'josé'</li><li>'interactuar'</li><li>'palm'</li><li>'aski'</li><li>'sanitary'</li></ol>\n"
      ],
      "text/latex": [
       "\\begin{enumerate*}\n",
       "\\item 'fishing'\n",
       "\\item 'pmpc'\n",
       "\\item 'rickshaw'\n",
       "\\item 'kadet'\n",
       "\\item 'hspfi'\n",
       "\\item 'babban'\n",
       "\\item 'gona'\n",
       "\\item 'inr'\n",
       "\\item 'toilet'\n",
       "\\item 'kgs'\n",
       "\\item 'som'\n",
       "\\item 'josé'\n",
       "\\item 'interactuar'\n",
       "\\item 'palm'\n",
       "\\item 'aski'\n",
       "\\item 'sanitary'\n",
       "\\end{enumerate*}\n"
      ],
      "text/markdown": [
       "1. 'fishing'\n",
       "2. 'pmpc'\n",
       "3. 'rickshaw'\n",
       "4. 'kadet'\n",
       "5. 'hspfi'\n",
       "6. 'babban'\n",
       "7. 'gona'\n",
       "8. 'inr'\n",
       "9. 'toilet'\n",
       "10. 'kgs'\n",
       "11. 'som'\n",
       "12. 'josé'\n",
       "13. 'interactuar'\n",
       "14. 'palm'\n",
       "15. 'aski'\n",
       "16. 'sanitary'\n",
       "\n",
       "\n"
      ],
      "text/plain": [
       " [1] \"fishing\"     \"pmpc\"        \"rickshaw\"    \"kadet\"       \"hspfi\"      \n",
       " [6] \"babban\"      \"gona\"        \"inr\"         \"toilet\"      \"kgs\"        \n",
       "[11] \"som\"         \"josé\"        \"interactuar\" \"palm\"        \"aski\"       \n",
       "[16] \"sanitary\"   "
      ]
     },
     "metadata": {},
     "output_type": "display_data"
    }
   ],
   "source": [
    "## Much less frequent terms now\n",
    "findFreqTerms(dtmw, lowfreq=100)"
   ]
  },
  {
   "cell_type": "markdown",
   "metadata": {},
   "source": [
    "## Visualizations of word frequencies"
   ]
  },
  {
   "cell_type": "markdown",
   "metadata": {},
   "source": [
    "These are just very simple visualizations of word frequencies. First the unfiltered but transformed corpus."
   ]
  },
  {
   "cell_type": "code",
   "execution_count": 22,
   "metadata": {},
   "outputs": [
    {
     "data": {
      "image/png": "[encoded data removed]",
      "text/plain": [
       "plot without title"
      ]
     },
     "metadata": {
      "image/png": {
       "height": 420,
       "width": 420
      }
     },
     "output_type": "display_data"
    }
   ],
   "source": [
    "## Simple visualization\n",
    "wordcloud(corp, max.words = 100, random.order = FALSE,\n",
    "          colors = brewer.pal(8, \"Dark2\"))"
   ]
  },
  {
   "cell_type": "markdown",
   "metadata": {},
   "source": [
    "Next the term-frequency filtered document-term matrix. Obviously this is very similar to the plot above. "
   ]
  },
  {
   "cell_type": "code",
   "execution_count": 23,
   "metadata": {},
   "outputs": [
    {
     "data": {
      "image/png": "[encoded data removed]",
      "text/plain": [
       "plot without title"
      ]
     },
     "metadata": {
      "image/png": {
       "height": 420,
       "width": 420
      }
     },
     "output_type": "display_data"
    }
   ],
   "source": [
    "## Counts from dtms\n",
    "counts <- sort(colSums(as.matrix(dtms)), decreasing = TRUE)\n",
    "counts <- data.frame(word = names(counts), freq = counts)\n",
    "wordcloud(words = counts$word, freq = counts$freq,\n",
    "          max.words = 100, random.order = FALSE,\n",
    "          colors = brewer.pal(8, \"Dark2\"))"
   ]
  },
  {
   "cell_type": "markdown",
   "metadata": {},
   "source": [
    "However, the frequency plot of the tfidf-filtered document-term matrix looks different. There are a lot more terms that disambiguate professions and investment goods."
   ]
  },
  {
   "cell_type": "code",
   "execution_count": 24,
   "metadata": {},
   "outputs": [
    {
     "data": {
      "image/png": "[encoded data removed]",
      "text/plain": [
       "plot without title"
      ]
     },
     "metadata": {
      "image/png": {
       "height": 420,
       "width": 420
      }
     },
     "output_type": "display_data"
    }
   ],
   "source": [
    "## Counts from dtmw\n",
    "counts <- sort(colSums(as.matrix(dtmw)), decreasing = TRUE)\n",
    "counts <- data.frame(word = names(counts), freq = counts)\n",
    "wordcloud(words = counts$word, freq = counts$freq,\n",
    "          max.words = 100, random.order = FALSE,\n",
    "          colors = brewer.pal(8, \"Dark2\"))"
   ]
  },
  {
   "cell_type": "markdown",
   "metadata": {},
   "source": [
    "## Dictionary methods: Inferring sentiment"
   ]
  },
  {
   "cell_type": "markdown",
   "metadata": {},
   "source": [
    "We are using a fixed mapping of terms to infer a sentiment score, and then convert it to discrete sentiment categories. Unsuprisingly, most loan descriptions are phrased to convey a positive message. "
   ]
  },
  {
   "cell_type": "code",
   "execution_count": 25,
   "metadata": {},
   "outputs": [
    {
     "data": {
      "text/plain": [
       "sentiment\n",
       "negative  neutral positive \n",
       "     139     1000     8861 "
      ]
     },
     "metadata": {},
     "output_type": "display_data"
    }
   ],
   "source": [
    "## Dictionary method: Sentiment analysis using dictionaries\n",
    "sentiment <- analyzeSentiment(dtms, language = \"english\")\n",
    "sentiment <- convertToDirection(sentiment$SentimentGI)\n",
    "\n",
    "## Potentially add back to original data for further analysis\n",
    "## loans$sentiment <- sentiment\n",
    "\n",
    "## look at sentiment distribution\n",
    "table(sentiment)"
   ]
  },
  {
   "cell_type": "markdown",
   "metadata": {},
   "source": [
    "## Unsupervised generative model: Topic model"
   ]
  },
  {
   "cell_type": "markdown",
   "metadata": {},
   "source": [
    "Next we are going to train an unsupervised topic model on the term-frequency filtered document term matrix. You will find that it is hard to find distinct topics, both due to the term filtering, and the fact that most loans are handed out by partner organizations who use a standard questionnaire to get basic information which is then translated to an english description. "
   ]
  },
  {
   "cell_type": "code",
   "execution_count": 26,
   "metadata": {},
   "outputs": [
    {
     "data": {
      "text/html": [
       "<table>\n",
       "<caption>A matrix: 10 × 5 of type chr</caption>\n",
       "<thead>\n",
       "\t<tr><th scope=col>Topic 1</th><th scope=col>Topic 2</th><th scope=col>Topic 3</th><th scope=col>Topic 4</th><th scope=col>Topic 5</th></tr>\n",
       "</thead>\n",
       "<tbody>\n",
       "\t<tr><td>business</td><td>business </td><td>business</td><td>business</td><td>children</td></tr>\n",
       "\t<tr><td>family  </td><td>years    </td><td>years   </td><td>years   </td><td>business</td></tr>\n",
       "\t<tr><td>income  </td><td>family   </td><td>husband </td><td>children</td><td>old     </td></tr>\n",
       "\t<tr><td>children</td><td>children </td><td>children</td><td>old     </td><td>buy     </td></tr>\n",
       "\t<tr><td>years   </td><td>married  </td><td>married </td><td>buy     </td><td>lives   </td></tr>\n",
       "\t<tr><td>buy     </td><td>two      </td><td>work    </td><td>purchase</td><td>one     </td></tr>\n",
       "\t<tr><td>can     </td><td>three    </td><td>help    </td><td>income  </td><td>years   </td></tr>\n",
       "\t<tr><td>save    </td><td>income   </td><td>woman   </td><td>family  </td><td>support </td></tr>\n",
       "\t<tr><td>like    </td><td>works    </td><td>works   </td><td>school  </td><td>selling </td></tr>\n",
       "\t<tr><td>needs   </td><td>requested</td><td>old     </td><td>group   </td><td>married </td></tr>\n",
       "</tbody>\n",
       "</table>\n"
      ],
      "text/latex": [
       "A matrix: 10 × 5 of type chr\n",
       "\\begin{tabular}{lllll}\n",
       " Topic 1 & Topic 2 & Topic 3 & Topic 4 & Topic 5\\\\\n",
       "\\hline\n",
       "\t business & business  & business & business & children\\\\\n",
       "\t family   & years     & years    & years    & business\\\\\n",
       "\t income   & family    & husband  & children & old     \\\\\n",
       "\t children & children  & children & old      & buy     \\\\\n",
       "\t years    & married   & married  & buy      & lives   \\\\\n",
       "\t buy      & two       & work     & purchase & one     \\\\\n",
       "\t can      & three     & help     & income   & years   \\\\\n",
       "\t save     & income    & woman    & family   & support \\\\\n",
       "\t like     & works     & works    & school   & selling \\\\\n",
       "\t needs    & requested & old      & group    & married \\\\\n",
       "\\end{tabular}\n"
      ],
      "text/markdown": [
       "\n",
       "A matrix: 10 × 5 of type chr\n",
       "\n",
       "| Topic 1 | Topic 2 | Topic 3 | Topic 4 | Topic 5 |\n",
       "|---|---|---|---|---|\n",
       "| business | business  | business | business | children |\n",
       "| family   | years     | years    | years    | business |\n",
       "| income   | family    | husband  | children | old      |\n",
       "| children | children  | children | old      | buy      |\n",
       "| years    | married   | married  | buy      | lives    |\n",
       "| buy      | two       | work     | purchase | one      |\n",
       "| can      | three     | help     | income   | years    |\n",
       "| save     | income    | woman    | family   | support  |\n",
       "| like     | works     | works    | school   | selling  |\n",
       "| needs    | requested | old      | group    | married  |\n",
       "\n"
      ],
      "text/plain": [
       "      Topic 1  Topic 2   Topic 3  Topic 4  Topic 5 \n",
       " [1,] business business  business business children\n",
       " [2,] family   years     years    years    business\n",
       " [3,] income   family    husband  children old     \n",
       " [4,] children children  children old      buy     \n",
       " [5,] years    married   married  buy      lives   \n",
       " [6,] buy      two       work     purchase one     \n",
       " [7,] can      three     help     income   years   \n",
       " [8,] save     income    woman    family   support \n",
       " [9,] like     works     works    school   selling \n",
       "[10,] needs    requested old      group    married "
      ]
     },
     "metadata": {},
     "output_type": "display_data"
    },
    {
     "data": {
      "image/png": "[encoded data removed]",
      "text/plain": [
       "plot without title"
      ]
     },
     "metadata": {
      "image/png": {
       "height": 420,
       "width": 420
      }
     },
     "output_type": "display_data"
    }
   ],
   "source": [
    "## Unsupervised method: Topic model\n",
    "lda <- LDA(dtms, k = 5, control = list(seed = 100))\n",
    "## lda <- LDA(dtmw, k = 5, control = list(seed = 100))\n",
    "\n",
    "## Most likely topic for each document, could merge this to original data\n",
    "## topic <- topics(lda, 1)\n",
    "\n",
    "## Five most frequent terms for each topic\n",
    "terms(lda, 10)\n",
    "\n",
    "## Plot most frequent terms and associated probabilities by topic\n",
    "tpm <- tidy(lda, matrix = \"beta\")\n",
    "\n",
    "topterms <-\n",
    "    tpm %>%\n",
    "    group_by(topic) %>%\n",
    "    top_n(10, beta) %>%\n",
    "    ungroup() %>%\n",
    "    arrange(topic, -beta)\n",
    "\n",
    "topterms %>%\n",
    "    mutate(term = reorder(term, beta)) %>%\n",
    "    ggplot(aes(term, beta, fill = factor(topic))) +\n",
    "    geom_col(show.legend = FALSE) +\n",
    "    facet_wrap(~ topic, scales = \"free\") +\n",
    "    coord_flip()"
   ]
  },
  {
   "cell_type": "markdown",
   "metadata": {},
   "source": [
    "Instead, let us use the `loan use` statement, filtered by tfidf. These topics already look more distinct. You could tweak the filter and the number of topics further to arrive at a more meaningful result."
   ]
  },
  {
   "cell_type": "code",
   "execution_count": 27,
   "metadata": {},
   "outputs": [
    {
     "name": "stdout",
     "output_type": "stream",
     "text": [
      "<<DocumentTermMatrix (documents: 10000, terms: 4130)>>\n",
      "Non-/sparse entries: 57029/41242971\n",
      "Sparsity           : 100%\n",
      "Maximal term length: 30\n",
      "Weighting          : term frequency (tf)\n",
      "Sample             :\n",
      "        Terms\n",
      "Docs     additional business buy pay products purchase rice sell supplies water\n",
      "  165281          0        0   0   0        1       10    1    0        0     0\n",
      "  251885          0        0   0   0        0        1    0    0        0     0\n",
      "  284790          0        0   1   0        0        0    1    0        0     1\n",
      "  32203           0        0   1   0        0        0    1    0        0     0\n",
      "  323832          0        0   0   0        1        1    1    0        1     0\n",
      "  450012          0        1   1   0        2        0    1    0        0     0\n",
      "  453623          0        0   1   0        0        0    1    0        0     0\n",
      "  562708          0        0   0   0        0        1    0    0        0     0\n",
      "  631944          0        0   1   0        1        0    0    1        0     0\n",
      "  971878          0        0   1   0        0        0    1    0        0     0\n"
     ]
    },
    {
     "data": {
      "text/plain": [
       "   Min. 1st Qu.  Median    Mean 3rd Qu.    Max. \n",
       " 0.1829  1.2406  1.6610  1.8666  2.2146 13.2877 "
      ]
     },
     "metadata": {},
     "output_type": "display_data"
    },
    {
     "data": {
      "text/html": [
       "<style>\n",
       ".list-inline {list-style: none; margin:0; padding: 0}\n",
       ".list-inline>li {display: inline-block}\n",
       ".list-inline>li:not(:last-child)::after {content: \"\\00b7\"; padding: 0 .5ex}\n",
       "</style>\n",
       "<ol class=list-inline><li>7684</li><li>2984</li></ol>\n"
      ],
      "text/latex": [
       "\\begin{enumerate*}\n",
       "\\item 7684\n",
       "\\item 2984\n",
       "\\end{enumerate*}\n"
      ],
      "text/markdown": [
       "1. 7684\n",
       "2. 2984\n",
       "\n",
       "\n"
      ],
      "text/plain": [
       "[1] 7684 2984"
      ]
     },
     "metadata": {},
     "output_type": "display_data"
    }
   ],
   "source": [
    "## not working well due to standardized templates\n",
    "## let us try to use the `loanuse' statement text for the generative topic model \n",
    "\n",
    "# new data\n",
    "loanuse <- loans[, .(doc_id, loanuse)]\n",
    "setnames(loanuse, \"loanuse\", \"text\")\n",
    "\n",
    "# new dtm, this time do most of the transformations in one step\n",
    "dtmuse <- DocumentTermMatrix(Corpus(DataframeSource(loanuse)),\n",
    "                             control = list(weighting = weightTf,\n",
    "                                            language = \"english\",\n",
    "                                            tolower = TRUE,\n",
    "                                            removePunctuation = TRUE,\n",
    "                                            removeNumbers = TRUE,\n",
    "                                            stopwords = TRUE,\n",
    "                                            stemming = FALSE,\n",
    "                                            wordLengths = c(3, Inf)))\n",
    "inspect(dtmuse)\n",
    "\n",
    "# Recalculate weights\n",
    "termtfidf <- tapply(dtmuse$v/row_sums(dtmuse)[dtmuse$i], dtmuse$j, mean) *\n",
    "    log2(nDocs(dtmuse)/col_sums(dtmuse > 0))\n",
    "summary(termtfidf)\n",
    "\n",
    "## Filter by tf-idf\n",
    "## dim(dtmuse)\n",
    "dtmuse <- dtmuse[, (termtfidf >= 1.30)]\n",
    "dtmuse <- dtmuse[row_sums(dtmuse) > 0, ]\n",
    "dim(dtmuse)"
   ]
  },
  {
   "cell_type": "code",
   "execution_count": 28,
   "metadata": {},
   "outputs": [],
   "source": [
    "## Unsupervised method: Topic model, this time for loanuse statement\n",
    "lda <- LDA(dtmuse, k = 5, control = list(seed = 100))\n",
    "## str(lda)"
   ]
  },
  {
   "cell_type": "code",
   "execution_count": 29,
   "metadata": {},
   "outputs": [
    {
     "data": {
      "text/html": [
       "<style>\n",
       ".dl-inline {width: auto; margin:0; padding: 0}\n",
       ".dl-inline>dt, .dl-inline>dd {float: none; width: auto; display: inline-block}\n",
       ".dl-inline>dt::after {content: \":\\0020\"; padding-right: .5ex}\n",
       ".dl-inline>dt:not(:first-of-type) {padding-left: .5ex}\n",
       "</style><dl class=dl-inline><dt>269894</dt><dd>2</dd><dt>1247640</dt><dd>4</dd><dt>378031</dt><dd>1</dd><dt>327042</dt><dd>3</dd><dt>1180737</dt><dd>2</dd><dt>944550</dt><dd>4</dd></dl>\n"
      ],
      "text/latex": [
       "\\begin{description*}\n",
       "\\item[269894] 2\n",
       "\\item[1247640] 4\n",
       "\\item[378031] 1\n",
       "\\item[327042] 3\n",
       "\\item[1180737] 2\n",
       "\\item[944550] 4\n",
       "\\end{description*}\n"
      ],
      "text/markdown": [
       "269894\n",
       ":   21247640\n",
       ":   4378031\n",
       ":   1327042\n",
       ":   31180737\n",
       ":   2944550\n",
       ":   4\n",
       "\n"
      ],
      "text/plain": [
       " 269894 1247640  378031  327042 1180737  944550 \n",
       "      2       4       1       3       2       4 "
      ]
     },
     "metadata": {},
     "output_type": "display_data"
    }
   ],
   "source": [
    "## Most likely topic for each document, could merge this to original data\n",
    "topic <- topics(lda, 1)\n",
    "head(topic)"
   ]
  },
  {
   "cell_type": "code",
   "execution_count": 30,
   "metadata": {},
   "outputs": [
    {
     "data": {
      "text/html": [
       "<table>\n",
       "<caption>A matrix: 10 × 5 of type chr</caption>\n",
       "<thead>\n",
       "\t<tr><th scope=col>Topic 1</th><th scope=col>Topic 2</th><th scope=col>Topic 3</th><th scope=col>Topic 4</th><th scope=col>Topic 5</th></tr>\n",
       "</thead>\n",
       "<tbody>\n",
       "\t<tr><td>sewing </td><td>inventory</td><td>merchandise</td><td>cow        </td><td>resell    </td></tr>\n",
       "\t<tr><td>fabric </td><td>capital  </td><td>resell     </td><td>merchandise</td><td>cattle    </td></tr>\n",
       "\t<tr><td>piglets</td><td>seedlings</td><td>hair       </td><td>livestock  </td><td>repair    </td></tr>\n",
       "\t<tr><td>repair </td><td>working  </td><td>livestock  </td><td>sewing     </td><td>toilet    </td></tr>\n",
       "\t<tr><td>dairy  </td><td>charcoal </td><td>farmland   </td><td>organic    </td><td>shoes     </td></tr>\n",
       "\t<tr><td>invest </td><td>animals  </td><td>repair     </td><td>fabric     </td><td>invest    </td></tr>\n",
       "\t<tr><td>toilet </td><td>invest   </td><td>fruits     </td><td>capital    </td><td>university</td></tr>\n",
       "\t<tr><td>tuition</td><td>fruit    </td><td>charcoal   </td><td>dairy      </td><td>feeds     </td></tr>\n",
       "\t<tr><td>cattle </td><td>land     </td><td>buying     </td><td>furniture  </td><td>motorcycle</td></tr>\n",
       "\t<tr><td>fishing</td><td>shoes    </td><td>palm       </td><td>cows       </td><td>livestock </td></tr>\n",
       "</tbody>\n",
       "</table>\n"
      ],
      "text/latex": [
       "A matrix: 10 × 5 of type chr\n",
       "\\begin{tabular}{lllll}\n",
       " Topic 1 & Topic 2 & Topic 3 & Topic 4 & Topic 5\\\\\n",
       "\\hline\n",
       "\t sewing  & inventory & merchandise & cow         & resell    \\\\\n",
       "\t fabric  & capital   & resell      & merchandise & cattle    \\\\\n",
       "\t piglets & seedlings & hair        & livestock   & repair    \\\\\n",
       "\t repair  & working   & livestock   & sewing      & toilet    \\\\\n",
       "\t dairy   & charcoal  & farmland    & organic     & shoes     \\\\\n",
       "\t invest  & animals   & repair      & fabric      & invest    \\\\\n",
       "\t toilet  & invest    & fruits      & capital     & university\\\\\n",
       "\t tuition & fruit     & charcoal    & dairy       & feeds     \\\\\n",
       "\t cattle  & land      & buying      & furniture   & motorcycle\\\\\n",
       "\t fishing & shoes     & palm        & cows        & livestock \\\\\n",
       "\\end{tabular}\n"
      ],
      "text/markdown": [
       "\n",
       "A matrix: 10 × 5 of type chr\n",
       "\n",
       "| Topic 1 | Topic 2 | Topic 3 | Topic 4 | Topic 5 |\n",
       "|---|---|---|---|---|\n",
       "| sewing  | inventory | merchandise | cow         | resell     |\n",
       "| fabric  | capital   | resell      | merchandise | cattle     |\n",
       "| piglets | seedlings | hair        | livestock   | repair     |\n",
       "| repair  | working   | livestock   | sewing      | toilet     |\n",
       "| dairy   | charcoal  | farmland    | organic     | shoes      |\n",
       "| invest  | animals   | repair      | fabric      | invest     |\n",
       "| toilet  | invest    | fruits      | capital     | university |\n",
       "| tuition | fruit     | charcoal    | dairy       | feeds      |\n",
       "| cattle  | land      | buying      | furniture   | motorcycle |\n",
       "| fishing | shoes     | palm        | cows        | livestock  |\n",
       "\n"
      ],
      "text/plain": [
       "      Topic 1 Topic 2   Topic 3     Topic 4     Topic 5   \n",
       " [1,] sewing  inventory merchandise cow         resell    \n",
       " [2,] fabric  capital   resell      merchandise cattle    \n",
       " [3,] piglets seedlings hair        livestock   repair    \n",
       " [4,] repair  working   livestock   sewing      toilet    \n",
       " [5,] dairy   charcoal  farmland    organic     shoes     \n",
       " [6,] invest  animals   repair      fabric      invest    \n",
       " [7,] toilet  invest    fruits      capital     university\n",
       " [8,] tuition fruit     charcoal    dairy       feeds     \n",
       " [9,] cattle  land      buying      furniture   motorcycle\n",
       "[10,] fishing shoes     palm        cows        livestock "
      ]
     },
     "metadata": {},
     "output_type": "display_data"
    }
   ],
   "source": [
    "## Five most frequent terms for each topic\n",
    "terms(lda, 10)"
   ]
  },
  {
   "cell_type": "code",
   "execution_count": 31,
   "metadata": {},
   "outputs": [
    {
     "data": {
      "image/png": "[encoded data removed]",
      "text/plain": [
       "plot without title"
      ]
     },
     "metadata": {
      "image/png": {
       "height": 420,
       "width": 420
      }
     },
     "output_type": "display_data"
    }
   ],
   "source": [
    "## Plot most frequent terms and associated probabilities by topic\n",
    "tpm <- tidy(lda, matrix = \"beta\")\n",
    "\n",
    "topterms <-\n",
    "    tpm %>%\n",
    "    group_by(topic) %>%\n",
    "    top_n(10, beta) %>%\n",
    "    ungroup() %>%\n",
    "    arrange(topic, -beta)\n",
    "\n",
    "topterms %>%\n",
    "    mutate(term = reorder(term, beta)) %>%\n",
    "    ggplot(aes(term, beta, fill = factor(topic))) +\n",
    "    geom_col(show.legend = FALSE) +\n",
    "    facet_wrap(~ topic, scales = \"free\") +\n",
    "    coord_flip()"
   ]
  },
  {
   "cell_type": "markdown",
   "metadata": {},
   "source": [
    "Look at unique terms not appearing in other topics."
   ]
  },
  {
   "cell_type": "code",
   "execution_count": 32,
   "metadata": {},
   "outputs": [
    {
     "data": {
      "text/html": [
       "<dl>\n",
       "\t<dt>$`Topic 1`</dt>\n",
       "\t\t<dd><style>\n",
       ".list-inline {list-style: none; margin:0; padding: 0}\n",
       ".list-inline>li {display: inline-block}\n",
       ".list-inline>li:not(:last-child)::after {content: \"\\00b7\"; padding: 0 .5ex}\n",
       "</style>\n",
       "<ol class=list-inline><li>'piglets'</li><li>'fabrics'</li><li>'three'</li><li>'goats'</li><li>'traditional'</li><li>'utensils'</li></ol>\n",
       "</dd>\n",
       "\t<dt>$`Topic 2`</dt>\n",
       "\t\t<dd><style>\n",
       ".list-inline {list-style: none; margin:0; padding: 0}\n",
       ".list-inline>li {display: inline-block}\n",
       ".list-inline>li:not(:last-child)::after {content: \"\\00b7\"; padding: 0 .5ex}\n",
       "</style>\n",
       "<ol class=list-inline><li>'calves'</li><li>'pig'</li><li>'box'</li><li>'fuel'</li><li>'underwear'</li></ol>\n",
       "</dd>\n",
       "\t<dt>$`Topic 3`</dt>\n",
       "\t\t<dd><style>\n",
       ".list-inline {list-style: none; margin:0; padding: 0}\n",
       ".list-inline>li {display: inline-block}\n",
       ".list-inline>li:not(:last-child)::after {content: \"\\00b7\"; padding: 0 .5ex}\n",
       "</style>\n",
       "<ol class=list-inline><li>'palm'</li><li>'vehicle'</li><li>'rent'</li><li>'stall'</li><li>'repairs'</li><li>'treatment'</li><li>'containers'</li><li>'millet'</li></ol>\n",
       "</dd>\n",
       "\t<dt>$`Topic 4`</dt>\n",
       "\t\t<dd><style>\n",
       ".list-inline {list-style: none; margin:0; padding: 0}\n",
       ".list-inline>li {display: inline-block}\n",
       ".list-inline>li:not(:last-child)::after {content: \"\\00b7\"; padding: 0 .5ex}\n",
       "</style>\n",
       "<ol class=list-inline><li>'cow'</li><li>'organic'</li><li>'furniture'</li><li>'another'</li><li>'local'</li><li>'husband'</li><li>'herbicides'</li></ol>\n",
       "</dd>\n",
       "\t<dt>$`Topic 5`</dt>\n",
       "\t\t<dd><style>\n",
       ".list-inline {list-style: none; margin:0; padding: 0}\n",
       ".list-inline>li {display: inline-block}\n",
       ".list-inline>li:not(:last-child)::after {content: \"\\00b7\"; padding: 0 .5ex}\n",
       "</style>\n",
       "<ol class=list-inline><li>'tires'</li><li>'embroidery'</li><li>'sodas'</li><li>'rickshaw'</li><li>'phone'</li><li>'jewelry'</li><li>'womens'</li><li>'tables'</li><li>'nets'</li></ol>\n",
       "</dd>\n",
       "</dl>\n"
      ],
      "text/latex": [
       "\\begin{description}\n",
       "\\item[\\$`Topic 1`] \\begin{enumerate*}\n",
       "\\item 'piglets'\n",
       "\\item 'fabrics'\n",
       "\\item 'three'\n",
       "\\item 'goats'\n",
       "\\item 'traditional'\n",
       "\\item 'utensils'\n",
       "\\end{enumerate*}\n",
       "\n",
       "\\item[\\$`Topic 2`] \\begin{enumerate*}\n",
       "\\item 'calves'\n",
       "\\item 'pig'\n",
       "\\item 'box'\n",
       "\\item 'fuel'\n",
       "\\item 'underwear'\n",
       "\\end{enumerate*}\n",
       "\n",
       "\\item[\\$`Topic 3`] \\begin{enumerate*}\n",
       "\\item 'palm'\n",
       "\\item 'vehicle'\n",
       "\\item 'rent'\n",
       "\\item 'stall'\n",
       "\\item 'repairs'\n",
       "\\item 'treatment'\n",
       "\\item 'containers'\n",
       "\\item 'millet'\n",
       "\\end{enumerate*}\n",
       "\n",
       "\\item[\\$`Topic 4`] \\begin{enumerate*}\n",
       "\\item 'cow'\n",
       "\\item 'organic'\n",
       "\\item 'furniture'\n",
       "\\item 'another'\n",
       "\\item 'local'\n",
       "\\item 'husband'\n",
       "\\item 'herbicides'\n",
       "\\end{enumerate*}\n",
       "\n",
       "\\item[\\$`Topic 5`] \\begin{enumerate*}\n",
       "\\item 'tires'\n",
       "\\item 'embroidery'\n",
       "\\item 'sodas'\n",
       "\\item 'rickshaw'\n",
       "\\item 'phone'\n",
       "\\item 'jewelry'\n",
       "\\item 'womens'\n",
       "\\item 'tables'\n",
       "\\item 'nets'\n",
       "\\end{enumerate*}\n",
       "\n",
       "\\end{description}\n"
      ],
      "text/markdown": [
       "$`Topic 1`\n",
       ":   1. 'piglets'\n",
       "2. 'fabrics'\n",
       "3. 'three'\n",
       "4. 'goats'\n",
       "5. 'traditional'\n",
       "6. 'utensils'\n",
       "\n",
       "\n",
       "\n",
       "$`Topic 2`\n",
       ":   1. 'calves'\n",
       "2. 'pig'\n",
       "3. 'box'\n",
       "4. 'fuel'\n",
       "5. 'underwear'\n",
       "\n",
       "\n",
       "\n",
       "$`Topic 3`\n",
       ":   1. 'palm'\n",
       "2. 'vehicle'\n",
       "3. 'rent'\n",
       "4. 'stall'\n",
       "5. 'repairs'\n",
       "6. 'treatment'\n",
       "7. 'containers'\n",
       "8. 'millet'\n",
       "\n",
       "\n",
       "\n",
       "$`Topic 4`\n",
       ":   1. 'cow'\n",
       "2. 'organic'\n",
       "3. 'furniture'\n",
       "4. 'another'\n",
       "5. 'local'\n",
       "6. 'husband'\n",
       "7. 'herbicides'\n",
       "\n",
       "\n",
       "\n",
       "$`Topic 5`\n",
       ":   1. 'tires'\n",
       "2. 'embroidery'\n",
       "3. 'sodas'\n",
       "4. 'rickshaw'\n",
       "5. 'phone'\n",
       "6. 'jewelry'\n",
       "7. 'womens'\n",
       "8. 'tables'\n",
       "9. 'nets'\n",
       "\n",
       "\n",
       "\n",
       "\n",
       "\n"
      ],
      "text/plain": [
       "$`Topic 1`\n",
       "[1] \"piglets\"     \"fabrics\"     \"three\"       \"goats\"       \"traditional\"\n",
       "[6] \"utensils\"   \n",
       "\n",
       "$`Topic 2`\n",
       "[1] \"calves\"    \"pig\"       \"box\"       \"fuel\"      \"underwear\"\n",
       "\n",
       "$`Topic 3`\n",
       "[1] \"palm\"       \"vehicle\"    \"rent\"       \"stall\"      \"repairs\"   \n",
       "[6] \"treatment\"  \"containers\" \"millet\"    \n",
       "\n",
       "$`Topic 4`\n",
       "[1] \"cow\"        \"organic\"    \"furniture\"  \"another\"    \"local\"     \n",
       "[6] \"husband\"    \"herbicides\"\n",
       "\n",
       "$`Topic 5`\n",
       "[1] \"tires\"      \"embroidery\" \"sodas\"      \"rickshaw\"   \"phone\"     \n",
       "[6] \"jewelry\"    \"womens\"     \"tables\"     \"nets\"      \n"
      ]
     },
     "metadata": {},
     "output_type": "display_data"
    }
   ],
   "source": [
    "freqterms <- terms(lda, 40)\n",
    "duplicates <- c(freqterms)[duplicated(c(freqterms))]\n",
    "distinctterms <- lapply(as.list(as.data.frame(freqterms)), function(x) x[!(x %in% duplicates)])\n",
    "distinctterms"
   ]
  },
  {
   "cell_type": "markdown",
   "metadata": {},
   "source": [
    "## Supervised methods: Data preparation"
   ]
  },
  {
   "cell_type": "markdown",
   "metadata": {},
   "source": [
    "The following cells transform and prep the data to be used as inputs for supervised methods. We split the data into a test and a training sample. The outcome we try to predict is whether the loan is obtained for a business proposition in the agricultural sector."
   ]
  },
  {
   "cell_type": "code",
   "execution_count": 35,
   "metadata": {},
   "outputs": [
    {
     "data": {
      "text/html": [
       "<style>\n",
       ".list-inline {list-style: none; margin:0; padding: 0}\n",
       ".list-inline>li {display: inline-block}\n",
       ".list-inline>li:not(:last-child)::after {content: \"\\00b7\"; padding: 0 .5ex}\n",
       "</style>\n",
       "<ol class=list-inline><li>10000</li><li>184</li></ol>\n"
      ],
      "text/latex": [
       "\\begin{enumerate*}\n",
       "\\item 10000\n",
       "\\item 184\n",
       "\\end{enumerate*}\n"
      ],
      "text/markdown": [
       "1. 10000\n",
       "2. 184\n",
       "\n",
       "\n"
      ],
      "text/plain": [
       "[1] 10000   184"
      ]
     },
     "metadata": {},
     "output_type": "display_data"
    }
   ],
   "source": [
    "## Supervised methods: Prep data\n",
    "## Convert the sparse term-document matrix to a standard data frame\n",
    "bag <- as.data.frame(as.matrix(dtms))\n",
    "dim(bag)\n",
    "#bag"
   ]
  },
  {
   "cell_type": "code",
   "execution_count": 36,
   "metadata": {},
   "outputs": [
    {
     "data": {
      "text/html": [
       "<style>\n",
       ".list-inline {list-style: none; margin:0; padding: 0}\n",
       ".list-inline>li {display: inline-block}\n",
       ".list-inline>li:not(:last-child)::after {content: \"\\00b7\"; padding: 0 .5ex}\n",
       "</style>\n",
       "<ol class=list-inline><li>10000</li><li>184</li></ol>\n"
      ],
      "text/latex": [
       "\\begin{enumerate*}\n",
       "\\item 10000\n",
       "\\item 184\n",
       "\\end{enumerate*}\n"
      ],
      "text/markdown": [
       "1. 10000\n",
       "2. 184\n",
       "\n",
       "\n"
      ],
      "text/plain": [
       "[1] 10000   184"
      ]
     },
     "metadata": {},
     "output_type": "display_data"
    }
   ],
   "source": [
    "## Convert token counts to simple binary indicators\n",
    "bag.bin <- as.data.frame(sapply(bag, function(x) as.numeric(x > 0)))\n",
    "dim(bag.bin)\n",
    "#bag.bin"
   ]
  },
  {
   "cell_type": "code",
   "execution_count": 37,
   "metadata": {},
   "outputs": [
    {
     "data": {
      "text/plain": [
       "\n",
       "   0    1 \n",
       "7511 2489 "
      ]
     },
     "metadata": {},
     "output_type": "display_data"
    }
   ],
   "source": [
    "## Add names to rows\n",
    "bag$doc_id <- rownames(as.matrix(dtms))\n",
    "bag.bin$doc_id <- rownames(as.matrix(dtms))\n",
    "\n",
    "## Add outcomes from the original data: Predict agricultural sector\n",
    "loans$agsector <- as.numeric(loans$sectorname==\"Agriculture\")\n",
    "bag <- merge(bag, loans[, .(agsector, loanamount, doc_id)], by = \"doc_id\")\n",
    "bag.bin <- merge(bag.bin, loans[, .(agsector, loanamount, doc_id)], by = \"doc_id\")\n",
    "                            \n",
    "# How many people want a loan in the agricultural sector?                            \n",
    "table(bag$agsector)"
   ]
  },
  {
   "cell_type": "code",
   "execution_count": 38,
   "metadata": {},
   "outputs": [],
   "source": [
    "## Partition data in test and training sample\n",
    "set.seed(100)\n",
    "testids <- sample(floor(nrow(bag)/5))\n",
    "# testids"
   ]
  },
  {
   "cell_type": "code",
   "execution_count": 39,
   "metadata": {},
   "outputs": [
    {
     "data": {
      "text/html": [
       "<style>\n",
       ".list-inline {list-style: none; margin:0; padding: 0}\n",
       ".list-inline>li {display: inline-block}\n",
       ".list-inline>li:not(:last-child)::after {content: \"\\00b7\"; padding: 0 .5ex}\n",
       "</style>\n",
       "<ol class=list-inline><li>8000</li><li>184</li></ol>\n"
      ],
      "text/latex": [
       "\\begin{enumerate*}\n",
       "\\item 8000\n",
       "\\item 184\n",
       "\\end{enumerate*}\n"
      ],
      "text/markdown": [
       "1. 8000\n",
       "2. 184\n",
       "\n",
       "\n"
      ],
      "text/plain": [
       "[1] 8000  184"
      ]
     },
     "metadata": {},
     "output_type": "display_data"
    },
    {
     "data": {
      "text/html": [
       "8000"
      ],
      "text/latex": [
       "8000"
      ],
      "text/markdown": [
       "8000"
      ],
      "text/plain": [
       "[1] 8000"
      ]
     },
     "metadata": {},
     "output_type": "display_data"
    },
    {
     "data": {
      "text/html": [
       "<style>\n",
       ".list-inline {list-style: none; margin:0; padding: 0}\n",
       ".list-inline>li {display: inline-block}\n",
       ".list-inline>li:not(:last-child)::after {content: \"\\00b7\"; padding: 0 .5ex}\n",
       "</style>\n",
       "<ol class=list-inline><li>2000</li><li>184</li></ol>\n"
      ],
      "text/latex": [
       "\\begin{enumerate*}\n",
       "\\item 2000\n",
       "\\item 184\n",
       "\\end{enumerate*}\n"
      ],
      "text/markdown": [
       "1. 2000\n",
       "2. 184\n",
       "\n",
       "\n"
      ],
      "text/plain": [
       "[1] 2000  184"
      ]
     },
     "metadata": {},
     "output_type": "display_data"
    },
    {
     "data": {
      "text/html": [
       "2000"
      ],
      "text/latex": [
       "2000"
      ],
      "text/markdown": [
       "2000"
      ],
      "text/plain": [
       "[1] 2000"
      ]
     },
     "metadata": {},
     "output_type": "display_data"
    }
   ],
   "source": [
    "xtrain <- as.matrix(bag[-testids, !(names(bag) %in% c(\"agsector\", \"loanamount\", \"doc_id\"))])\n",
    "xtest  <- as.matrix(bag[ testids, !(names(bag) %in% c(\"agsector\", \"loanamount\", \"doc_id\"))])\n",
    "\n",
    "xtrain.bin <- as.matrix(bag.bin[-testids, !(names(bag) %in% c(\"agsector\", \"loanamount\", \"doc_id\"))])\n",
    "xtest.bin  <- as.matrix(bag.bin[ testids, !(names(bag) %in% c(\"agsector\", \"loanamount\", \"doc_id\"))])\n",
    "\n",
    "ytrain <- as.factor(bag[-testids,  \"agsector\"])\n",
    "ytest  <- as.factor(bag[ testids,  \"agsector\"])\n",
    "\n",
    "dim(xtrain)\n",
    "length(ytrain)\n",
    "\n",
    "dim(xtest)\n",
    "length(ytest)"
   ]
  },
  {
   "cell_type": "markdown",
   "metadata": {},
   "source": [
    "## Supervised generative model: Naive Bayes classifier"
   ]
  },
  {
   "cell_type": "markdown",
   "metadata": {},
   "source": [
    "### With binary token indicators"
   ]
  },
  {
   "cell_type": "markdown",
   "metadata": {},
   "source": [
    "Naive Bayes is a simple model relying on a conditional independence assumption of the token counts. It often performs acceptable. In this case it does not perform very well, possibly because we filtered the input token data to aggressively. If you redo the analysis with a larger set of features (setting sparsity = 0.95), the naive bayes classifier performs much better. Among other things, there is also no need to remove stopwords here, and it may not improve performance. You can feed the unfiltered data or try different transformations and see whether this improves matters. "
   ]
  },
  {
   "cell_type": "code",
   "execution_count": 40,
   "metadata": {},
   "outputs": [
    {
     "data": {
      "text/html": [
       "<style>\n",
       ".dl-inline {width: auto; margin:0; padding: 0}\n",
       ".dl-inline>dt, .dl-inline>dd {float: none; width: auto; display: inline-block}\n",
       ".dl-inline>dt::after {content: \":\\0020\"; padding-right: .5ex}\n",
       ".dl-inline>dt:not(:first-of-type) {padding-left: .5ex}\n",
       "</style><dl class=dl-inline><dt>0</dt><dd>1461</dd><dt>1</dt><dd>539</dd></dl>\n"
      ],
      "text/latex": [
       "\\begin{description*}\n",
       "\\item[0] 1461\n",
       "\\item[1] 539\n",
       "\\end{description*}\n"
      ],
      "text/markdown": [
       "0\n",
       ":   14611\n",
       ":   539\n",
       "\n"
      ],
      "text/plain": [
       "   0    1 \n",
       "1461  539 "
      ]
     },
     "metadata": {},
     "output_type": "display_data"
    }
   ],
   "source": [
    "## Supervised generative model: Naive Bayes\n",
    "## naive_bayes package requires transforming everything to factors and using binary indicators, not counts.\n",
    "xtrain.factor <- as.data.frame(lapply(as.data.frame(xtrain.bin), as.factor))\n",
    "xtest.factor <- as.data.frame(lapply(as.data.frame(xtest.bin), as.factor))\n",
    "nbclassifier <- naive_bayes(xtrain.factor, ytrain, laplace = 1)\n",
    "nbpred <- predict(nbclassifier, xtest.factor)\n",
    "# nbclassifier\n",
    "summary(nbpred)"
   ]
  },
  {
   "cell_type": "code",
   "execution_count": 41,
   "metadata": {},
   "outputs": [
    {
     "data": {
      "text/html": [
       "0.87"
      ],
      "text/latex": [
       "0.87"
      ],
      "text/markdown": [
       "0.87"
      ],
      "text/plain": [
       "[1] 0.87"
      ]
     },
     "metadata": {},
     "output_type": "display_data"
    },
    {
     "data": {
      "text/plain": [
       "Confusion Matrix and Statistics\n",
       "\n",
       "          Reference\n",
       "Prediction    0    1\n",
       "         0 1327  134\n",
       "         1  131  408\n",
       "                                          \n",
       "               Accuracy : 0.8675          \n",
       "                 95% CI : (0.8519, 0.8821)\n",
       "    No Information Rate : 0.729           \n",
       "    P-Value [Acc > NIR] : <2e-16          \n",
       "                                          \n",
       "                  Kappa : 0.6641          \n",
       "                                          \n",
       " Mcnemar's Test P-Value : 0.9022          \n",
       "                                          \n",
       "            Sensitivity : 0.9102          \n",
       "            Specificity : 0.7528          \n",
       "         Pos Pred Value : 0.9083          \n",
       "         Neg Pred Value : 0.7570          \n",
       "             Prevalence : 0.7290          \n",
       "         Detection Rate : 0.6635          \n",
       "   Detection Prevalence : 0.7305          \n",
       "      Balanced Accuracy : 0.8315          \n",
       "                                          \n",
       "       'Positive' Class : 0               \n",
       "                                          "
      ]
     },
     "metadata": {},
     "output_type": "display_data"
    }
   ],
   "source": [
    "## Performance statistics: Classification rate\n",
    "round(1-mean(as.numeric(nbpred != ytest)), 2)\n",
    "\n",
    "## Performance statistics: Confusion matrix (\n",
    "## table(nbpred, ytest)\n",
    "confusionMatrix(nbpred, ytest)"
   ]
  },
  {
   "cell_type": "markdown",
   "metadata": {},
   "source": [
    "#### Tuning the laplace smoothing parameter\n",
    "\n",
    "There isn't really much scope for tuning with naive bayes."
   ]
  },
  {
   "cell_type": "code",
   "execution_count": 42,
   "metadata": {},
   "outputs": [
    {
     "data": {
      "text/html": [
       "<table>\n",
       "<caption>A data.frame: 11 × 3</caption>\n",
       "<thead>\n",
       "\t<tr><th scope=col>laplace</th><th scope=col>adjust</th><th scope=col>usekernel</th></tr>\n",
       "\t<tr><th scope=col>&lt;dbl&gt;</th><th scope=col>&lt;dbl&gt;</th><th scope=col>&lt;lgl&gt;</th></tr>\n",
       "</thead>\n",
       "<tbody>\n",
       "\t<tr><td>0.0</td><td>1</td><td>TRUE</td></tr>\n",
       "\t<tr><td>0.1</td><td>1</td><td>TRUE</td></tr>\n",
       "\t<tr><td>0.2</td><td>1</td><td>TRUE</td></tr>\n",
       "\t<tr><td>0.3</td><td>1</td><td>TRUE</td></tr>\n",
       "\t<tr><td>0.4</td><td>1</td><td>TRUE</td></tr>\n",
       "\t<tr><td>0.5</td><td>1</td><td>TRUE</td></tr>\n",
       "\t<tr><td>0.6</td><td>1</td><td>TRUE</td></tr>\n",
       "\t<tr><td>0.7</td><td>1</td><td>TRUE</td></tr>\n",
       "\t<tr><td>0.8</td><td>1</td><td>TRUE</td></tr>\n",
       "\t<tr><td>0.9</td><td>1</td><td>TRUE</td></tr>\n",
       "\t<tr><td>1.0</td><td>1</td><td>TRUE</td></tr>\n",
       "</tbody>\n",
       "</table>\n"
      ],
      "text/latex": [
       "A data.frame: 11 × 3\n",
       "\\begin{tabular}{lll}\n",
       " laplace & adjust & usekernel\\\\\n",
       " <dbl> & <dbl> & <lgl>\\\\\n",
       "\\hline\n",
       "\t 0.0 & 1 & TRUE\\\\\n",
       "\t 0.1 & 1 & TRUE\\\\\n",
       "\t 0.2 & 1 & TRUE\\\\\n",
       "\t 0.3 & 1 & TRUE\\\\\n",
       "\t 0.4 & 1 & TRUE\\\\\n",
       "\t 0.5 & 1 & TRUE\\\\\n",
       "\t 0.6 & 1 & TRUE\\\\\n",
       "\t 0.7 & 1 & TRUE\\\\\n",
       "\t 0.8 & 1 & TRUE\\\\\n",
       "\t 0.9 & 1 & TRUE\\\\\n",
       "\t 1.0 & 1 & TRUE\\\\\n",
       "\\end{tabular}\n"
      ],
      "text/markdown": [
       "\n",
       "A data.frame: 11 × 3\n",
       "\n",
       "| laplace &lt;dbl&gt; | adjust &lt;dbl&gt; | usekernel &lt;lgl&gt; |\n",
       "|---|---|---|\n",
       "| 0.0 | 1 | TRUE |\n",
       "| 0.1 | 1 | TRUE |\n",
       "| 0.2 | 1 | TRUE |\n",
       "| 0.3 | 1 | TRUE |\n",
       "| 0.4 | 1 | TRUE |\n",
       "| 0.5 | 1 | TRUE |\n",
       "| 0.6 | 1 | TRUE |\n",
       "| 0.7 | 1 | TRUE |\n",
       "| 0.8 | 1 | TRUE |\n",
       "| 0.9 | 1 | TRUE |\n",
       "| 1.0 | 1 | TRUE |\n",
       "\n"
      ],
      "text/plain": [
       "   laplace adjust usekernel\n",
       "1  0.0     1      TRUE     \n",
       "2  0.1     1      TRUE     \n",
       "3  0.2     1      TRUE     \n",
       "4  0.3     1      TRUE     \n",
       "5  0.4     1      TRUE     \n",
       "6  0.5     1      TRUE     \n",
       "7  0.6     1      TRUE     \n",
       "8  0.7     1      TRUE     \n",
       "9  0.8     1      TRUE     \n",
       "10 0.9     1      TRUE     \n",
       "11 1.0     1      TRUE     "
      ]
     },
     "metadata": {},
     "output_type": "display_data"
    }
   ],
   "source": [
    "## parameter grid\n",
    "nb.grid <- expand.grid(\n",
    "  laplace = seq(0, 1, 0.1),\n",
    "  adjust = 1,\n",
    "  usekernel = TRUE\n",
    ")\n",
    "nb.grid"
   ]
  },
  {
   "cell_type": "code",
   "execution_count": 43,
   "metadata": {},
   "outputs": [
    {
     "data": {
      "text/plain": [
       "Naive Bayes \n",
       "\n",
       "8000 samples\n",
       " 184 predictor\n",
       "   2 classes: '0', '1' \n",
       "\n",
       "No pre-processing\n",
       "Resampling: Cross-Validated (10 fold) \n",
       "Summary of sample sizes: 7200, 7200, 7200, 7200, 7201, 7201, ... \n",
       "Resampling results across tuning parameters:\n",
       "\n",
       "  laplace  Accuracy   Kappa    \n",
       "  0.0      0.8760002  0.6632517\n",
       "  0.1      0.8762502  0.6638032\n",
       "  0.2      0.8762502  0.6638032\n",
       "  0.3      0.8762501  0.6636994\n",
       "  0.4      0.8763751  0.6638637\n",
       "  0.5      0.8763751  0.6638637\n",
       "  0.6      0.8765001  0.6642580\n",
       "  0.7      0.8765001  0.6642580\n",
       "  0.8      0.8765001  0.6641326\n",
       "  0.9      0.8765001  0.6641326\n",
       "  1.0      0.8765001  0.6641326\n",
       "\n",
       "Tuning parameter 'usekernel' was held constant at a value of TRUE\n",
       "\n",
       "Tuning parameter 'adjust' was held constant at a value of 1\n",
       "Accuracy was used to select the optimal model using the largest value.\n",
       "The final values used for the model were laplace = 0.6, usekernel = TRUE\n",
       " and adjust = 1."
      ]
     },
     "metadata": {},
     "output_type": "display_data"
    },
    {
     "name": "stdout",
     "output_type": "stream",
     "text": [
      "\n",
      "================================== Naive Bayes ================================== \n",
      " \n",
      "- Call: naive_bayes.default(x = x, y = y, laplace = param$laplace, usekernel = TRUE,      adjust = param$adjust) \n",
      "- Laplace: 0.6 \n",
      "- Classes: 2 \n",
      "- Samples: 8000 \n",
      "- Features: 184 \n",
      "- Conditional distributions: \n",
      "    - Bernoulli: 184\n",
      "- Prior probabilities: \n",
      "    - 0: 0.7566\n",
      "    - 1: 0.2434\n",
      "\n",
      "--------------------------------------------------------------------------------- \n"
     ]
    }
   ],
   "source": [
    "## use k-fold cv to tune the laplace smoothing parameter\n",
    "nbclassifier <- train(\n",
    "  xtrain.factor, ytrain,\n",
    "  method = \"naive_bayes\",\n",
    "  trControl = trainControl(method = \"cv\", number = 10),\n",
    "  tuneGrid = nb.grid\n",
    ")\n",
    "\n",
    "nbclassifier\n",
    "summary(nbclassifier)"
   ]
  },
  {
   "cell_type": "code",
   "execution_count": 44,
   "metadata": {},
   "outputs": [
    {
     "data": {
      "text/html": [
       "0.868"
      ],
      "text/latex": [
       "0.868"
      ],
      "text/markdown": [
       "0.868"
      ],
      "text/plain": [
       "[1] 0.868"
      ]
     },
     "metadata": {},
     "output_type": "display_data"
    },
    {
     "data": {
      "text/plain": [
       "Confusion Matrix and Statistics\n",
       "\n",
       "          Reference\n",
       "Prediction    0    1\n",
       "         0 1328  134\n",
       "         1  130  408\n",
       "                                          \n",
       "               Accuracy : 0.868           \n",
       "                 95% CI : (0.8524, 0.8825)\n",
       "    No Information Rate : 0.729           \n",
       "    P-Value [Acc > NIR] : <2e-16          \n",
       "                                          \n",
       "                  Kappa : 0.6651          \n",
       "                                          \n",
       " Mcnemar's Test P-Value : 0.8535          \n",
       "                                          \n",
       "            Sensitivity : 0.9108          \n",
       "            Specificity : 0.7528          \n",
       "         Pos Pred Value : 0.9083          \n",
       "         Neg Pred Value : 0.7584          \n",
       "             Prevalence : 0.7290          \n",
       "         Detection Rate : 0.6640          \n",
       "   Detection Prevalence : 0.7310          \n",
       "      Balanced Accuracy : 0.8318          \n",
       "                                          \n",
       "       'Positive' Class : 0               \n",
       "                                          "
      ]
     },
     "metadata": {},
     "output_type": "display_data"
    }
   ],
   "source": [
    "nbpred <- predict(nbclassifier, xtest.factor)\n",
    "1-mean(as.numeric(nbpred != ytest))\n",
    "confusionMatrix(nbpred, ytest)"
   ]
  },
  {
   "cell_type": "markdown",
   "metadata": {},
   "source": [
    "### With token counts"
   ]
  },
  {
   "cell_type": "markdown",
   "metadata": {},
   "source": [
    "Binary features perform only slightly better/worse, mostly just about the same depending on then size of the design matrix. Whether a word occurs at all encodes about the same information compared to how frequent it occurs. "
   ]
  },
  {
   "cell_type": "code",
   "execution_count": 58,
   "metadata": {},
   "outputs": [],
   "source": [
    "## fastNaiveBayes is the better package (supports multinomial distribution, for non-binary feature counts)\n",
    "## fnb.detect_distribution(xtrain)\n",
    "\n",
    "nbclassifier <- fastNaiveBayes(xtrain, ytrain)\n",
    "# nbclassifier <- multinomial_naive_bayes(xtrain, ytrain)\n",
    "\n",
    "nbpred <- predict(nbclassifier, xtest)"
   ]
  },
  {
   "cell_type": "code",
   "execution_count": 59,
   "metadata": {},
   "outputs": [
    {
     "data": {
      "text/html": [
       "0.88"
      ],
      "text/latex": [
       "0.88"
      ],
      "text/markdown": [
       "0.88"
      ],
      "text/plain": [
       "[1] 0.88"
      ]
     },
     "metadata": {},
     "output_type": "display_data"
    },
    {
     "data": {
      "text/plain": [
       "Confusion Matrix and Statistics\n",
       "\n",
       "          Reference\n",
       "Prediction    0    1\n",
       "         0 1338  126\n",
       "         1  120  416\n",
       "                                          \n",
       "               Accuracy : 0.877           \n",
       "                 95% CI : (0.8618, 0.8911)\n",
       "    No Information Rate : 0.729           \n",
       "    P-Value [Acc > NIR] : <2e-16          \n",
       "                                          \n",
       "                  Kappa : 0.6876          \n",
       "                                          \n",
       " Mcnemar's Test P-Value : 0.7499          \n",
       "                                          \n",
       "            Sensitivity : 0.9177          \n",
       "            Specificity : 0.7675          \n",
       "         Pos Pred Value : 0.9139          \n",
       "         Neg Pred Value : 0.7761          \n",
       "             Prevalence : 0.7290          \n",
       "         Detection Rate : 0.6690          \n",
       "   Detection Prevalence : 0.7320          \n",
       "      Balanced Accuracy : 0.8426          \n",
       "                                          \n",
       "       'Positive' Class : 0               \n",
       "                                          "
      ]
     },
     "metadata": {},
     "output_type": "display_data"
    }
   ],
   "source": [
    "## Performance statistics: Classification rate\n",
    "round(1-mean(as.numeric(nbpred != ytest)), 2)\n",
    "\n",
    "## Performance statistics: Confusion matrix (\n",
    "## table(nbpred, ytest)\n",
    "confusionMatrix(nbpred, ytest)"
   ]
  },
  {
   "cell_type": "markdown",
   "metadata": {},
   "source": [
    "## Supervised text regression: L<sub>1</sub> penalized logistic classifier"
   ]
  },
  {
   "cell_type": "markdown",
   "metadata": {},
   "source": [
    "Looking at the misclassification rate and the confusion matrix, the model performs better than naive bayes in predicting the agricultural sector. However, looking at precision and recall, the model again does poorly in getting the true condition outcomes right, leading to a large number of false negatives."
   ]
  },
  {
   "cell_type": "markdown",
   "metadata": {},
   "source": [
    "### With binary token indicators"
   ]
  },
  {
   "cell_type": "code",
   "execution_count": 60,
   "metadata": {},
   "outputs": [
    {
     "data": {
      "text/html": [
       "<style>\n",
       ".dl-inline {width: auto; margin:0; padding: 0}\n",
       ".dl-inline>dt, .dl-inline>dd {float: none; width: auto; display: inline-block}\n",
       ".dl-inline>dt::after {content: \":\\0020\"; padding-right: .5ex}\n",
       ".dl-inline>dt:not(:first-of-type) {padding-left: .5ex}\n",
       "</style><dl class=dl-inline><dt>0</dt><dd>1546</dd><dt>1</dt><dd>454</dd></dl>\n"
      ],
      "text/latex": [
       "\\begin{description*}\n",
       "\\item[0] 1546\n",
       "\\item[1] 454\n",
       "\\end{description*}\n"
      ],
      "text/markdown": [
       "0\n",
       ":   15461\n",
       ":   454\n",
       "\n"
      ],
      "text/plain": [
       "   0    1 \n",
       "1546  454 "
      ]
     },
     "metadata": {},
     "output_type": "display_data"
    }
   ],
   "source": [
    "## Supervised text regression: L1 penalized logistic regression\n",
    "l1classifier <- cv.glmnet(xtrain.bin, ytrain, alpha = 1, family = \"binomial\")\n",
    "l1pred <- as.factor(predict(l1classifier, xtest.bin, s = \"lambda.min\", type = \"class\"))\n",
    "summary(l1pred)"
   ]
  },
  {
   "cell_type": "code",
   "execution_count": 61,
   "metadata": {},
   "outputs": [
    {
     "data": {
      "text/html": [
       "0.89"
      ],
      "text/latex": [
       "0.89"
      ],
      "text/markdown": [
       "0.89"
      ],
      "text/plain": [
       "[1] 0.89"
      ]
     },
     "metadata": {},
     "output_type": "display_data"
    },
    {
     "data": {
      "text/plain": [
       "Confusion Matrix and Statistics\n",
       "\n",
       "          Reference\n",
       "Prediction    0    1\n",
       "         0 1394  152\n",
       "         1   64  390\n",
       "                                          \n",
       "               Accuracy : 0.892           \n",
       "                 95% CI : (0.8776, 0.9053)\n",
       "    No Information Rate : 0.729           \n",
       "    P-Value [Acc > NIR] : < 2.2e-16       \n",
       "                                          \n",
       "                  Kappa : 0.712           \n",
       "                                          \n",
       " Mcnemar's Test P-Value : 3.227e-09       \n",
       "                                          \n",
       "            Sensitivity : 0.9561          \n",
       "            Specificity : 0.7196          \n",
       "         Pos Pred Value : 0.9017          \n",
       "         Neg Pred Value : 0.8590          \n",
       "             Prevalence : 0.7290          \n",
       "         Detection Rate : 0.6970          \n",
       "   Detection Prevalence : 0.7730          \n",
       "      Balanced Accuracy : 0.8378          \n",
       "                                          \n",
       "       'Positive' Class : 0               \n",
       "                                          "
      ]
     },
     "metadata": {},
     "output_type": "display_data"
    }
   ],
   "source": [
    "## Performance statistics: Classification rate\n",
    "round(1-mean(as.numeric(l1pred != ytest)), 2)\n",
    "\n",
    "## Performance statistics: Confusion matrix\n",
    "caret::confusionMatrix(l1pred, ytest)"
   ]
  },
  {
   "cell_type": "markdown",
   "metadata": {},
   "source": [
    "### With token counts"
   ]
  },
  {
   "cell_type": "markdown",
   "metadata": {},
   "source": [
    "If you check, the model with feature counts does better than the binary model, but only marginally."
   ]
  },
  {
   "cell_type": "code",
   "execution_count": 68,
   "metadata": {},
   "outputs": [
    {
     "data": {
      "text/html": [
       "<style>\n",
       ".dl-inline {width: auto; margin:0; padding: 0}\n",
       ".dl-inline>dt, .dl-inline>dd {float: none; width: auto; display: inline-block}\n",
       ".dl-inline>dt::after {content: \":\\0020\"; padding-right: .5ex}\n",
       ".dl-inline>dt:not(:first-of-type) {padding-left: .5ex}\n",
       "</style><dl class=dl-inline><dt>0</dt><dd>6444</dd><dt>1</dt><dd>1556</dd></dl>\n"
      ],
      "text/latex": [
       "\\begin{description*}\n",
       "\\item[0] 6444\n",
       "\\item[1] 1556\n",
       "\\end{description*}\n"
      ],
      "text/markdown": [
       "0\n",
       ":   64441\n",
       ":   1556\n",
       "\n"
      ],
      "text/plain": [
       "   0    1 \n",
       "6444 1556 "
      ]
     },
     "metadata": {},
     "output_type": "display_data"
    }
   ],
   "source": [
    "## Supervised text regression: L1 penalized logistic regression\n",
    "l1classifier <- cv.glmnet(xtrain, ytrain, alpha = 1, family = \"binomial\")\n",
    "l1pred <- as.factor(predict(l1classifier, xtest, s = \"lambda.min\", type = \"class\"))\n",
    "summary(l1pred)"
   ]
  },
  {
   "cell_type": "code",
   "execution_count": 69,
   "metadata": {},
   "outputs": [
    {
     "ename": "ERROR",
     "evalue": "Error in parse(text = x, srcfile = src): <text>:5:61: Unerwartete(s) ')'\n4: ## Performance statistics: Confusion matrix\n5: caret::confusionMatrix(l1pred, ytrain)                      )\n                                                               ^\n",
     "output_type": "error",
     "traceback": [
      "Error in parse(text = x, srcfile = src): <text>:5:61: Unerwartete(s) ')'\n4: ## Performance statistics: Confusion matrix\n5: caret::confusionMatrix(l1pred, ytrain)                      )\n                                                               ^\nTraceback:\n"
     ]
    }
   ],
   "source": [
    "## Performance statistics: Classification rate\n",
    "round(1-mean(as.numeric(l1pred != ytest)), 2)\n",
    "\n",
    "## Performance statistics: Confusion matrix\n",
    "caret::confusionMatrix(l1pred, ytest)"
   ]
  },
  {
   "cell_type": "markdown",
   "metadata": {},
   "source": [
    "This also trains a logistic lasso estimator, weighting the penalty factor for each input token by the token's standard deviation. Results do not really differ compared to just standardizing (no surprise)."
   ]
  },
  {
   "cell_type": "code",
   "execution_count": 64,
   "metadata": {},
   "outputs": [
    {
     "data": {
      "text/html": [
       "<style>\n",
       ".dl-inline {width: auto; margin:0; padding: 0}\n",
       ".dl-inline>dt, .dl-inline>dd {float: none; width: auto; display: inline-block}\n",
       ".dl-inline>dt::after {content: \":\\0020\"; padding-right: .5ex}\n",
       ".dl-inline>dt:not(:first-of-type) {padding-left: .5ex}\n",
       "</style><dl class=dl-inline><dt>0</dt><dd>1565</dd><dt>1</dt><dd>435</dd></dl>\n"
      ],
      "text/latex": [
       "\\begin{description*}\n",
       "\\item[0] 1565\n",
       "\\item[1] 435\n",
       "\\end{description*}\n"
      ],
      "text/markdown": [
       "0\n",
       ":   15651\n",
       ":   435\n",
       "\n"
      ],
      "text/plain": [
       "   0    1 \n",
       "1565  435 "
      ]
     },
     "metadata": {},
     "output_type": "display_data"
    }
   ],
   "source": [
    "## L1 logistic classifier using rare feature upweighting\n",
    "# l1classifier <- cv.glmnet(xtrain, ytrain, alpha = 1, family = \"binomial\")\n",
    "## L1 logistic classifier using rare feature upweighting\n",
    "sdweights <- apply(xtrain, 2, sd)\n",
    "l1classifier <- cv.glmnet(xtrain, ytrain, alpha = 1, family = \"binomial\",\n",
    "                          standardize = FALSE, penalty.factor  = sdweights)\n",
    "l1pred <- as.factor(predict(l1classifier, xtest, s = \"lambda.min\", type = \"class\",\n",
    "                            penalty.factor  = sdweights))\n",
    "summary(l1pred)"
   ]
  },
  {
   "cell_type": "code",
   "execution_count": 65,
   "metadata": {},
   "outputs": [
    {
     "data": {
      "text/html": [
       "0.89"
      ],
      "text/latex": [
       "0.89"
      ],
      "text/markdown": [
       "0.89"
      ],
      "text/plain": [
       "[1] 0.89"
      ]
     },
     "metadata": {},
     "output_type": "display_data"
    },
    {
     "data": {
      "text/plain": [
       "Confusion Matrix and Statistics\n",
       "\n",
       "          Reference\n",
       "Prediction    0    1\n",
       "         0 1401  164\n",
       "         1   57  378\n",
       "                                          \n",
       "               Accuracy : 0.8895          \n",
       "                 95% CI : (0.8749, 0.9029)\n",
       "    No Information Rate : 0.729           \n",
       "    P-Value [Acc > NIR] : < 2.2e-16       \n",
       "                                          \n",
       "                  Kappa : 0.7018          \n",
       "                                          \n",
       " Mcnemar's Test P-Value : 1.001e-12       \n",
       "                                          \n",
       "            Sensitivity : 0.9609          \n",
       "            Specificity : 0.6974          \n",
       "         Pos Pred Value : 0.8952          \n",
       "         Neg Pred Value : 0.8690          \n",
       "             Prevalence : 0.7290          \n",
       "         Detection Rate : 0.7005          \n",
       "   Detection Prevalence : 0.7825          \n",
       "      Balanced Accuracy : 0.8292          \n",
       "                                          \n",
       "       'Positive' Class : 0               \n",
       "                                          "
      ]
     },
     "metadata": {},
     "output_type": "display_data"
    }
   ],
   "source": [
    "## Performance statistics: Classification rate\n",
    "round(1-mean(as.numeric(l1pred != ytest)), 2)\n",
    "## Performance statistics: Confusion matrix\n",
    "caret::confusionMatrix(l1pred, ytest)"
   ]
  },
  {
   "cell_type": "markdown",
   "metadata": {},
   "source": [
    "## Remarks and additions"
   ]
  },
  {
   "cell_type": "code",
   "execution_count": null,
   "metadata": {},
   "outputs": [],
   "source": [
    "## How would you go about improving performce for the classifiers?\n",
    "\n",
    "\n",
    "\n",
    "\n"
   ]
  },
  {
   "cell_type": "markdown",
   "metadata": {},
   "source": [
    "## (Addendum: Regression example: L<sub>1</sub> penalized linear regression)"
   ]
  },
  {
   "cell_type": "code",
   "execution_count": null,
   "metadata": {},
   "outputs": [],
   "source": [
    "## Further example: Predict Loan Amount\n",
    "## Supervised text regression: L1 penalized linear regression\n",
    "\n",
    "## Rebuild outcome vectors\n",
    "#ytrain <- as.matrix(bag[-testids,  \"loanamount\"])\n",
    "#ytest  <- as.matrix(bag[ testids,  \"loanamount\"])\n",
    "\n",
    "## Estimate and predict\n",
    "#l1predictor <- cv.glmnet(xtrain, ytrain, alpha = 1, family = \"gaussian\")\n",
    "#l1pred <- predict(l1predictor, xtest, s = \"lambda.min\", type = \"response\")\n",
    "\n",
    "## RMSE\n",
    "#round(sqrt(mean((l1pred - ytest)^2)), 2)\n",
    "#postResample(l1pred, ytest)"
   ]
  }
 ],
 "metadata": {
  "kernelspec": {
   "display_name": "R",
   "language": "R",
   "name": "ir"
  },
  "language_info": {
   "codemirror_mode": "r",
   "file_extension": ".r",
   "mimetype": "text/x-r-source",
   "name": "R",
   "pygments_lexer": "r",
   "version": "4.0.2"
  }
 },
 "nbformat": 4,
 "nbformat_minor": 2
}
