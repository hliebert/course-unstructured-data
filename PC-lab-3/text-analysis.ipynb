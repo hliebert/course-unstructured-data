{
 "cells": [
  {
   "cell_type": "markdown",
   "metadata": {},
   "source": [
    "# PC Session 3"
   ]
  },
  {
   "cell_type": "markdown",
   "metadata": {},
   "source": [
    "**Author:**\n",
    "[Helge Liebert](https://hliebert.github.io/)"
   ]
  },
  {
   "cell_type": "markdown",
   "metadata": {},
   "source": [
    "# **Text analysis**: Kiva loans"
   ]
  },
  {
   "cell_type": "markdown",
   "metadata": {},
   "source": [
    "## Dependencies"
   ]
  },
  {
   "cell_type": "code",
   "execution_count": 1,
   "metadata": {},
   "outputs": [
    {
     "name": "stderr",
     "output_type": "stream",
     "text": [
      "Loading required package: NLP\n",
      "\n",
      "Warning message:\n",
      "\"replacing previous import 'vctrs::data_frame' by 'tibble::data_frame' when loading 'dplyr'\"\n",
      "\n",
      "Attaching package: 'ggplot2'\n",
      "\n",
      "\n",
      "The following object is masked from 'package:NLP':\n",
      "\n",
      "    annotate\n",
      "\n",
      "\n",
      "\n",
      "Attaching package: 'dplyr'\n",
      "\n",
      "\n",
      "The following objects are masked from 'package:data.table':\n",
      "\n",
      "    between, first, last\n",
      "\n",
      "\n",
      "The following objects are masked from 'package:stats':\n",
      "\n",
      "    filter, lag\n",
      "\n",
      "\n",
      "The following objects are masked from 'package:base':\n",
      "\n",
      "    intersect, setdiff, setequal, union\n",
      "\n",
      "\n",
      "Loading required package: RColorBrewer\n",
      "\n",
      "\n",
      "Attaching package: 'SentimentAnalysis'\n",
      "\n",
      "\n",
      "The following object is masked from 'package:base':\n",
      "\n",
      "    write\n",
      "\n",
      "\n",
      "naivebayes 0.9.7 loaded\n",
      "\n",
      "\n",
      "Attaching package: 'naivebayes'\n",
      "\n",
      "\n",
      "The following object is masked from 'package:data.table':\n",
      "\n",
      "    tables\n",
      "\n",
      "\n",
      "\n",
      "Attaching package: 'slam'\n",
      "\n",
      "\n",
      "The following object is masked from 'package:data.table':\n",
      "\n",
      "    rollup\n",
      "\n",
      "\n",
      "Loading required package: Matrix\n",
      "\n",
      "Loaded glmnet 4.0-2\n",
      "\n",
      "Loading required package: lattice\n",
      "\n"
     ]
    }
   ],
   "source": [
    "## Libraries\n",
    "library(tm)\n",
    "library(data.table)\n",
    "library(ggplot2)\n",
    "library(tidytext)\n",
    "library(dplyr)\n",
    "library(topicmodels)\n",
    "library(wordcloud)\n",
    "library(SentimentAnalysis)\n",
    "library(naivebayes)\n",
    "library(slam)\n",
    "library(glmnet)\n",
    "library(lexicon)\n",
    "library(fastNaiveBayes)\n",
    "library(caret)"
   ]
  },
  {
   "cell_type": "code",
   "execution_count": 2,
   "metadata": {},
   "outputs": [],
   "source": [
    "## Simple helper function to view first copora elements, only for illustration in lecture\n",
    "chead <- function(c) lapply(c[1:2], as.character)"
   ]
  },
  {
   "cell_type": "markdown",
   "metadata": {},
   "source": [
    "## Setting up a corpus and applying transformations"
   ]
  },
  {
   "cell_type": "markdown",
   "metadata": {},
   "source": [
    "This tutorial relies on the Kiva data from the last lecture. The text analyses are based on the loan description and to a limited extent the loan purpose statement as well. The data is based on a csv database dump provided on their site. To ease computation we just use a limited sample of 10,000 observations. Using the csv file from the Kiva Homepage and the file `prep-kiva.r`, you can clean the data yourself and use a larger sample. The full sample is close to one million observations. (You might need to delete a few nested parentheses in the loan description using a text editor which lead to errors reading the csv file.) If you look at the script, you can also see that I spent some time pre-processing the data, filtering HTML tags and similar things, to get mostly clean loan descriptions. This type of pre-processing is common, but also very application specific."
   ]
  },
  {
   "cell_type": "markdown",
   "metadata": {},
   "source": [
    "In case you are using Windows, or any other OS not using UTF-8 encoding as default, setting the encoding when reading data files is good practice. When working with text data, take care to ensure you are using the correct encoding and that transformations between files and encodings do not lead to broken characters."
   ]
  },
  {
   "cell_type": "code",
   "execution_count": 3,
   "metadata": {},
   "outputs": [
    {
     "data": {
      "text/html": [
       "<style>\n",
       ".list-inline {list-style: none; margin:0; padding: 0}\n",
       ".list-inline>li {display: inline-block}\n",
       ".list-inline>li:not(:last-child)::after {content: \"\\00b7\"; padding: 0 .5ex}\n",
       "</style>\n",
       "<ol class=list-inline><li>'loanid'</li><li>'description'</li><li>'fundedamount'</li><li>'loanamount'</li><li>'activityname'</li><li>'sectorname'</li><li>'loanuse'</li><li>'countryname'</li><li>'repaymentinterval'</li></ol>\n"
      ],
      "text/latex": [
       "\\begin{enumerate*}\n",
       "\\item 'loanid'\n",
       "\\item 'description'\n",
       "\\item 'fundedamount'\n",
       "\\item 'loanamount'\n",
       "\\item 'activityname'\n",
       "\\item 'sectorname'\n",
       "\\item 'loanuse'\n",
       "\\item 'countryname'\n",
       "\\item 'repaymentinterval'\n",
       "\\end{enumerate*}\n"
      ],
      "text/markdown": [
       "1. 'loanid'\n",
       "2. 'description'\n",
       "3. 'fundedamount'\n",
       "4. 'loanamount'\n",
       "5. 'activityname'\n",
       "6. 'sectorname'\n",
       "7. 'loanuse'\n",
       "8. 'countryname'\n",
       "9. 'repaymentinterval'\n",
       "\n",
       "\n"
      ],
      "text/plain": [
       "[1] \"loanid\"            \"description\"       \"fundedamount\"     \n",
       "[4] \"loanamount\"        \"activityname\"      \"sectorname\"       \n",
       "[7] \"loanuse\"           \"countryname\"       \"repaymentinterval\""
      ]
     },
     "metadata": {},
     "output_type": "display_data"
    }
   ],
   "source": [
    "## Read data\n",
    "loans <- fread(\"Data/kiva-tiny.csv\", encoding = \"UTF-8\")\n",
    "names(loans)"
   ]
  },
  {
   "cell_type": "markdown",
   "metadata": {},
   "source": [
    "The first thing we are going to do is set up a corpus. We will focus on the loan description. For all transformations in the remainder of this tutorial, we are going to print the first two loans' descriptions for illustration."
   ]
  },
  {
   "cell_type": "code",
   "execution_count": 4,
   "metadata": {},
   "outputs": [
    {
     "data": {
      "text/plain": [
       "<<SimpleCorpus>>\n",
       "Metadata:  corpus specific: 1, document level (indexed): 7\n",
       "Content:  documents: 10000"
      ]
     },
     "metadata": {},
     "output_type": "display_data"
    },
    {
     "data": {
      "text/html": [
       "<dl>\n",
       "\t<dt>$`269894`</dt>\n",
       "\t\t<dd>'Esteban belongs to the “Las Margarita Ocongate” community bank and lives in the city of Ocongate, in Quispicanchis province, in Cusco department, Peru. He lives with his wife and his 5 year-old daughter Crisanta. The city of Ocongate is two hours from the city of Cusco. Esteban studied law at the National University of San Antonio Abad in Cusco but he was unable to complete his degree for financial reasons. He decided to start a new life. Esteban worked helping lawyers write documentation and then trained to become a legal counselor (someone who provides advice on legal matters including criminal issues, civil issues, labor issues, contracts, transfers, fees, and other cases). After working in different cities in Cusco department as a legal counselor, Esteban decided to set up in the city of Ocongate and opened a legal counseling office. Esteban requires this loan to buy stationery supplies such as paper, pens and many other products. Esteban is grateful for this opportunity and he pledges to make his repayments on time.'</dd>\n",
       "\t<dt>$`1247640`</dt>\n",
       "\t\t<dd>'Kosar is a married woman and entrepreneur and a new borrower through BRAC Pakistan. She has worked hard day-and-night to manage the household expenses. Kosar recently opened a salon and needs to decorate the interior and buy stock of cosmetics and beauty-related electronics. Kosar has requested for a loan from BRAC Pakistan to help establish her salon business by fixing up the interior, for which she needs to buy salon chairs and cosmetics to attract more customers. This is Kosar’s first loan, and she is very happy to have support from BRAC Pakistan and Kiva.'</dd>\n",
       "</dl>\n"
      ],
      "text/latex": [
       "\\begin{description}\n",
       "\\item[\\$`269894`] 'Esteban belongs to the “Las Margarita Ocongate” community bank and lives in the city of Ocongate, in Quispicanchis province, in Cusco department, Peru. He lives with his wife and his 5 year-old daughter Crisanta. The city of Ocongate is two hours from the city of Cusco. Esteban studied law at the National University of San Antonio Abad in Cusco but he was unable to complete his degree for financial reasons. He decided to start a new life. Esteban worked helping lawyers write documentation and then trained to become a legal counselor (someone who provides advice on legal matters including criminal issues, civil issues, labor issues, contracts, transfers, fees, and other cases). After working in different cities in Cusco department as a legal counselor, Esteban decided to set up in the city of Ocongate and opened a legal counseling office. Esteban requires this loan to buy stationery supplies such as paper, pens and many other products. Esteban is grateful for this opportunity and he pledges to make his repayments on time.'\n",
       "\\item[\\$`1247640`] 'Kosar is a married woman and entrepreneur and a new borrower through BRAC Pakistan. She has worked hard day-and-night to manage the household expenses. Kosar recently opened a salon and needs to decorate the interior and buy stock of cosmetics and beauty-related electronics. Kosar has requested for a loan from BRAC Pakistan to help establish her salon business by fixing up the interior, for which she needs to buy salon chairs and cosmetics to attract more customers. This is Kosar’s first loan, and she is very happy to have support from BRAC Pakistan and Kiva.'\n",
       "\\end{description}\n"
      ],
      "text/markdown": [
       "$`269894`\n",
       ":   'Esteban belongs to the “Las Margarita Ocongate” community bank and lives in the city of Ocongate, in Quispicanchis province, in Cusco department, Peru. He lives with his wife and his 5 year-old daughter Crisanta. The city of Ocongate is two hours from the city of Cusco. Esteban studied law at the National University of San Antonio Abad in Cusco but he was unable to complete his degree for financial reasons. He decided to start a new life. Esteban worked helping lawyers write documentation and then trained to become a legal counselor (someone who provides advice on legal matters including criminal issues, civil issues, labor issues, contracts, transfers, fees, and other cases). After working in different cities in Cusco department as a legal counselor, Esteban decided to set up in the city of Ocongate and opened a legal counseling office. Esteban requires this loan to buy stationery supplies such as paper, pens and many other products. Esteban is grateful for this opportunity and he pledges to make his repayments on time.'\n",
       "$`1247640`\n",
       ":   'Kosar is a married woman and entrepreneur and a new borrower through BRAC Pakistan. She has worked hard day-and-night to manage the household expenses. Kosar recently opened a salon and needs to decorate the interior and buy stock of cosmetics and beauty-related electronics. Kosar has requested for a loan from BRAC Pakistan to help establish her salon business by fixing up the interior, for which she needs to buy salon chairs and cosmetics to attract more customers. This is Kosar’s first loan, and she is very happy to have support from BRAC Pakistan and Kiva.'\n",
       "\n",
       "\n"
      ],
      "text/plain": [
       "$`269894`\n",
       "[1] \"Esteban belongs to the “Las Margarita Ocongate” community bank and lives in the city of Ocongate, in Quispicanchis province, in Cusco department, Peru. He lives with his wife and his 5 year-old daughter Crisanta. The city of Ocongate is two hours from the city of Cusco. Esteban studied law at the National University of San Antonio Abad in Cusco but he was unable to complete his degree for financial reasons. He decided to start a new life. Esteban worked helping lawyers write documentation and then trained to become a legal counselor (someone who provides advice on legal matters including criminal issues, civil issues, labor issues, contracts, transfers, fees, and other cases). After working in different cities in Cusco department as a legal counselor, Esteban decided to set up in the city of Ocongate and opened a legal counseling office. Esteban requires this loan to buy stationery supplies such as paper, pens and many other products. Esteban is grateful for this opportunity and he pledges to make his repayments on time.\"\n",
       "\n",
       "$`1247640`\n",
       "[1] \"Kosar is a married woman and entrepreneur and a new borrower through BRAC Pakistan. She has worked hard day-and-night to manage the household expenses. Kosar recently opened a salon and needs to decorate the interior and buy stock of cosmetics and beauty-related electronics. Kosar has requested for a loan from BRAC Pakistan to help establish her salon business by fixing up the interior, for which she needs to buy salon chairs and cosmetics to attract more customers. This is Kosar’s first loan, and she is very happy to have support from BRAC Pakistan and Kiva.\"\n"
      ]
     },
     "metadata": {},
     "output_type": "display_data"
    }
   ],
   "source": [
    "## Set up corpus\n",
    "setnames(loans, \"loanid\", \"doc_id\")\n",
    "setnames(loans, \"description\", \"text\")\n",
    "corp <- Corpus(DataframeSource(loans))\n",
    "\n",
    "## Inspect it\n",
    "corp\n",
    "lapply(corp[1:2], as.character)"
   ]
  },
  {
   "cell_type": "markdown",
   "metadata": {},
   "source": [
    "These are the main transformations available in the `tm` library, but any other customized transformation can be applied."
   ]
  },
  {
   "cell_type": "code",
   "execution_count": 5,
   "metadata": {},
   "outputs": [
    {
     "data": {
      "text/html": [
       "<style>\n",
       ".list-inline {list-style: none; margin:0; padding: 0}\n",
       ".list-inline>li {display: inline-block}\n",
       ".list-inline>li:not(:last-child)::after {content: \"\\00b7\"; padding: 0 .5ex}\n",
       "</style>\n",
       "<ol class=list-inline><li>'removeNumbers'</li><li>'removePunctuation'</li><li>'removeWords'</li><li>'stemDocument'</li><li>'stripWhitespace'</li></ol>\n"
      ],
      "text/latex": [
       "\\begin{enumerate*}\n",
       "\\item 'removeNumbers'\n",
       "\\item 'removePunctuation'\n",
       "\\item 'removeWords'\n",
       "\\item 'stemDocument'\n",
       "\\item 'stripWhitespace'\n",
       "\\end{enumerate*}\n"
      ],
      "text/markdown": [
       "1. 'removeNumbers'\n",
       "2. 'removePunctuation'\n",
       "3. 'removeWords'\n",
       "4. 'stemDocument'\n",
       "5. 'stripWhitespace'\n",
       "\n",
       "\n"
      ],
      "text/plain": [
       "[1] \"removeNumbers\"     \"removePunctuation\" \"removeWords\"      \n",
       "[4] \"stemDocument\"      \"stripWhitespace\"  "
      ]
     },
     "metadata": {},
     "output_type": "display_data"
    }
   ],
   "source": [
    "## Main corpus transformations, passed via tm_map()\n",
    "## Other transformations have to be wrapped in content_transformer()\n",
    "getTransformations()"
   ]
  },
  {
   "cell_type": "markdown",
   "metadata": {},
   "source": [
    "We apply the `base` string function `tolower()` to transform all strings to lower case."
   ]
  },
  {
   "cell_type": "code",
   "execution_count": 6,
   "metadata": {},
   "outputs": [
    {
     "data": {
      "text/html": [
       "<dl>\n",
       "\t<dt>$`269894`</dt>\n",
       "\t\t<dd>'esteban belongs to the “las margarita ocongate” community bank and lives in the city of ocongate, in quispicanchis province, in cusco department, peru. he lives with his wife and his 5 year-old daughter crisanta. the city of ocongate is two hours from the city of cusco. esteban studied law at the national university of san antonio abad in cusco but he was unable to complete his degree for financial reasons. he decided to start a new life. esteban worked helping lawyers write documentation and then trained to become a legal counselor (someone who provides advice on legal matters including criminal issues, civil issues, labor issues, contracts, transfers, fees, and other cases). after working in different cities in cusco department as a legal counselor, esteban decided to set up in the city of ocongate and opened a legal counseling office. esteban requires this loan to buy stationery supplies such as paper, pens and many other products. esteban is grateful for this opportunity and he pledges to make his repayments on time.'</dd>\n",
       "\t<dt>$`1247640`</dt>\n",
       "\t\t<dd>'kosar is a married woman and entrepreneur and a new borrower through brac pakistan. she has worked hard day-and-night to manage the household expenses. kosar recently opened a salon and needs to decorate the interior and buy stock of cosmetics and beauty-related electronics. kosar has requested for a loan from brac pakistan to help establish her salon business by fixing up the interior, for which she needs to buy salon chairs and cosmetics to attract more customers. this is kosar’s first loan, and she is very happy to have support from brac pakistan and kiva.'</dd>\n",
       "</dl>\n"
      ],
      "text/latex": [
       "\\begin{description}\n",
       "\\item[\\$`269894`] 'esteban belongs to the “las margarita ocongate” community bank and lives in the city of ocongate, in quispicanchis province, in cusco department, peru. he lives with his wife and his 5 year-old daughter crisanta. the city of ocongate is two hours from the city of cusco. esteban studied law at the national university of san antonio abad in cusco but he was unable to complete his degree for financial reasons. he decided to start a new life. esteban worked helping lawyers write documentation and then trained to become a legal counselor (someone who provides advice on legal matters including criminal issues, civil issues, labor issues, contracts, transfers, fees, and other cases). after working in different cities in cusco department as a legal counselor, esteban decided to set up in the city of ocongate and opened a legal counseling office. esteban requires this loan to buy stationery supplies such as paper, pens and many other products. esteban is grateful for this opportunity and he pledges to make his repayments on time.'\n",
       "\\item[\\$`1247640`] 'kosar is a married woman and entrepreneur and a new borrower through brac pakistan. she has worked hard day-and-night to manage the household expenses. kosar recently opened a salon and needs to decorate the interior and buy stock of cosmetics and beauty-related electronics. kosar has requested for a loan from brac pakistan to help establish her salon business by fixing up the interior, for which she needs to buy salon chairs and cosmetics to attract more customers. this is kosar’s first loan, and she is very happy to have support from brac pakistan and kiva.'\n",
       "\\end{description}\n"
      ],
      "text/markdown": [
       "$`269894`\n",
       ":   'esteban belongs to the “las margarita ocongate” community bank and lives in the city of ocongate, in quispicanchis province, in cusco department, peru. he lives with his wife and his 5 year-old daughter crisanta. the city of ocongate is two hours from the city of cusco. esteban studied law at the national university of san antonio abad in cusco but he was unable to complete his degree for financial reasons. he decided to start a new life. esteban worked helping lawyers write documentation and then trained to become a legal counselor (someone who provides advice on legal matters including criminal issues, civil issues, labor issues, contracts, transfers, fees, and other cases). after working in different cities in cusco department as a legal counselor, esteban decided to set up in the city of ocongate and opened a legal counseling office. esteban requires this loan to buy stationery supplies such as paper, pens and many other products. esteban is grateful for this opportunity and he pledges to make his repayments on time.'\n",
       "$`1247640`\n",
       ":   'kosar is a married woman and entrepreneur and a new borrower through brac pakistan. she has worked hard day-and-night to manage the household expenses. kosar recently opened a salon and needs to decorate the interior and buy stock of cosmetics and beauty-related electronics. kosar has requested for a loan from brac pakistan to help establish her salon business by fixing up the interior, for which she needs to buy salon chairs and cosmetics to attract more customers. this is kosar’s first loan, and she is very happy to have support from brac pakistan and kiva.'\n",
       "\n",
       "\n"
      ],
      "text/plain": [
       "$`269894`\n",
       "[1] \"esteban belongs to the “las margarita ocongate” community bank and lives in the city of ocongate, in quispicanchis province, in cusco department, peru. he lives with his wife and his 5 year-old daughter crisanta. the city of ocongate is two hours from the city of cusco. esteban studied law at the national university of san antonio abad in cusco but he was unable to complete his degree for financial reasons. he decided to start a new life. esteban worked helping lawyers write documentation and then trained to become a legal counselor (someone who provides advice on legal matters including criminal issues, civil issues, labor issues, contracts, transfers, fees, and other cases). after working in different cities in cusco department as a legal counselor, esteban decided to set up in the city of ocongate and opened a legal counseling office. esteban requires this loan to buy stationery supplies such as paper, pens and many other products. esteban is grateful for this opportunity and he pledges to make his repayments on time.\"\n",
       "\n",
       "$`1247640`\n",
       "[1] \"kosar is a married woman and entrepreneur and a new borrower through brac pakistan. she has worked hard day-and-night to manage the household expenses. kosar recently opened a salon and needs to decorate the interior and buy stock of cosmetics and beauty-related electronics. kosar has requested for a loan from brac pakistan to help establish her salon business by fixing up the interior, for which she needs to buy salon chairs and cosmetics to attract more customers. this is kosar’s first loan, and she is very happy to have support from brac pakistan and kiva.\"\n"
      ]
     },
     "metadata": {},
     "output_type": "display_data"
    }
   ],
   "source": [
    "## All chars to lower case\n",
    "corp <- tm_map(corp, content_transformer(tolower))\n",
    "chead(corp)"
   ]
  },
  {
   "cell_type": "markdown",
   "metadata": {},
   "source": [
    "Remove all punctuation as punctuation is unlikely to carry special meaning in the context of loans and we want to simplify the text input to get token counts. We need to set the unicode option to true to rid of all punctuation elements (eg. the quotation marks)."
   ]
  },
  {
   "cell_type": "code",
   "execution_count": 7,
   "metadata": {},
   "outputs": [
    {
     "data": {
      "text/html": [
       "<dl>\n",
       "\t<dt>$`269894`</dt>\n",
       "\t\t<dd>'esteban belongs to the “las margarita ocongate” community bank and lives in the city of ocongate in quispicanchis province in cusco department peru he lives with his wife and his 5 yearold daughter crisanta the city of ocongate is two hours from the city of cusco esteban studied law at the national university of san antonio abad in cusco but he was unable to complete his degree for financial reasons he decided to start a new life esteban worked helping lawyers write documentation and then trained to become a legal counselor someone who provides advice on legal matters including criminal issues civil issues labor issues contracts transfers fees and other cases after working in different cities in cusco department as a legal counselor esteban decided to set up in the city of ocongate and opened a legal counseling office esteban requires this loan to buy stationery supplies such as paper pens and many other products esteban is grateful for this opportunity and he pledges to make his repayments on time'</dd>\n",
       "\t<dt>$`1247640`</dt>\n",
       "\t\t<dd>'kosar is a married woman and entrepreneur and a new borrower through brac pakistan she has worked hard dayandnight to manage the household expenses kosar recently opened a salon and needs to decorate the interior and buy stock of cosmetics and beautyrelated electronics kosar has requested for a loan from brac pakistan to help establish her salon business by fixing up the interior for which she needs to buy salon chairs and cosmetics to attract more customers this is kosar’s first loan and she is very happy to have support from brac pakistan and kiva'</dd>\n",
       "</dl>\n"
      ],
      "text/latex": [
       "\\begin{description}\n",
       "\\item[\\$`269894`] 'esteban belongs to the “las margarita ocongate” community bank and lives in the city of ocongate in quispicanchis province in cusco department peru he lives with his wife and his 5 yearold daughter crisanta the city of ocongate is two hours from the city of cusco esteban studied law at the national university of san antonio abad in cusco but he was unable to complete his degree for financial reasons he decided to start a new life esteban worked helping lawyers write documentation and then trained to become a legal counselor someone who provides advice on legal matters including criminal issues civil issues labor issues contracts transfers fees and other cases after working in different cities in cusco department as a legal counselor esteban decided to set up in the city of ocongate and opened a legal counseling office esteban requires this loan to buy stationery supplies such as paper pens and many other products esteban is grateful for this opportunity and he pledges to make his repayments on time'\n",
       "\\item[\\$`1247640`] 'kosar is a married woman and entrepreneur and a new borrower through brac pakistan she has worked hard dayandnight to manage the household expenses kosar recently opened a salon and needs to decorate the interior and buy stock of cosmetics and beautyrelated electronics kosar has requested for a loan from brac pakistan to help establish her salon business by fixing up the interior for which she needs to buy salon chairs and cosmetics to attract more customers this is kosar’s first loan and she is very happy to have support from brac pakistan and kiva'\n",
       "\\end{description}\n"
      ],
      "text/markdown": [
       "$`269894`\n",
       ":   'esteban belongs to the “las margarita ocongate” community bank and lives in the city of ocongate in quispicanchis province in cusco department peru he lives with his wife and his 5 yearold daughter crisanta the city of ocongate is two hours from the city of cusco esteban studied law at the national university of san antonio abad in cusco but he was unable to complete his degree for financial reasons he decided to start a new life esteban worked helping lawyers write documentation and then trained to become a legal counselor someone who provides advice on legal matters including criminal issues civil issues labor issues contracts transfers fees and other cases after working in different cities in cusco department as a legal counselor esteban decided to set up in the city of ocongate and opened a legal counseling office esteban requires this loan to buy stationery supplies such as paper pens and many other products esteban is grateful for this opportunity and he pledges to make his repayments on time'\n",
       "$`1247640`\n",
       ":   'kosar is a married woman and entrepreneur and a new borrower through brac pakistan she has worked hard dayandnight to manage the household expenses kosar recently opened a salon and needs to decorate the interior and buy stock of cosmetics and beautyrelated electronics kosar has requested for a loan from brac pakistan to help establish her salon business by fixing up the interior for which she needs to buy salon chairs and cosmetics to attract more customers this is kosar’s first loan and she is very happy to have support from brac pakistan and kiva'\n",
       "\n",
       "\n"
      ],
      "text/plain": [
       "$`269894`\n",
       "[1] \"esteban belongs to the “las margarita ocongate” community bank and lives in the city of ocongate in quispicanchis province in cusco department peru he lives with his wife and his 5 yearold daughter crisanta the city of ocongate is two hours from the city of cusco esteban studied law at the national university of san antonio abad in cusco but he was unable to complete his degree for financial reasons he decided to start a new life esteban worked helping lawyers write documentation and then trained to become a legal counselor someone who provides advice on legal matters including criminal issues civil issues labor issues contracts transfers fees and other cases after working in different cities in cusco department as a legal counselor esteban decided to set up in the city of ocongate and opened a legal counseling office esteban requires this loan to buy stationery supplies such as paper pens and many other products esteban is grateful for this opportunity and he pledges to make his repayments on time\"\n",
       "\n",
       "$`1247640`\n",
       "[1] \"kosar is a married woman and entrepreneur and a new borrower through brac pakistan she has worked hard dayandnight to manage the household expenses kosar recently opened a salon and needs to decorate the interior and buy stock of cosmetics and beautyrelated electronics kosar has requested for a loan from brac pakistan to help establish her salon business by fixing up the interior for which she needs to buy salon chairs and cosmetics to attract more customers this is kosar’s first loan and she is very happy to have support from brac pakistan and kiva\"\n"
      ]
     },
     "metadata": {},
     "output_type": "display_data"
    }
   ],
   "source": [
    "## Remove punctuation\n",
    "corp <- tm_map(corp, removePunctuation)\n",
    "chead(corp)\n",
    "## corp <- tm_map(corp, removePunctuation, ucp = TRUE)\n",
    "## chead(corp)"
   ]
  },
  {
   "cell_type": "markdown",
   "metadata": {},
   "source": [
    "Now we remove all numbers. We observe the loan amount and the repayment schedule in other variables, so we can get rid of numbers. Extracting the meaning of numbers within their context is difficult. "
   ]
  },
  {
   "cell_type": "code",
   "execution_count": 8,
   "metadata": {},
   "outputs": [
    {
     "data": {
      "text/html": [
       "<dl>\n",
       "\t<dt>$`269894`</dt>\n",
       "\t\t<dd><span style=white-space:pre-wrap>'esteban belongs to the “las margarita ocongate” community bank and lives in the city of ocongate in quispicanchis province in cusco department peru he lives with his wife and his  yearold daughter crisanta the city of ocongate is two hours from the city of cusco esteban studied law at the national university of san antonio abad in cusco but he was unable to complete his degree for financial reasons he decided to start a new life esteban worked helping lawyers write documentation and then trained to become a legal counselor someone who provides advice on legal matters including criminal issues civil issues labor issues contracts transfers fees and other cases after working in different cities in cusco department as a legal counselor esteban decided to set up in the city of ocongate and opened a legal counseling office esteban requires this loan to buy stationery supplies such as paper pens and many other products esteban is grateful for this opportunity and he pledges to make his repayments on time'</span></dd>\n",
       "\t<dt>$`1247640`</dt>\n",
       "\t\t<dd>'kosar is a married woman and entrepreneur and a new borrower through brac pakistan she has worked hard dayandnight to manage the household expenses kosar recently opened a salon and needs to decorate the interior and buy stock of cosmetics and beautyrelated electronics kosar has requested for a loan from brac pakistan to help establish her salon business by fixing up the interior for which she needs to buy salon chairs and cosmetics to attract more customers this is kosar’s first loan and she is very happy to have support from brac pakistan and kiva'</dd>\n",
       "</dl>\n"
      ],
      "text/latex": [
       "\\begin{description}\n",
       "\\item[\\$`269894`] 'esteban belongs to the “las margarita ocongate” community bank and lives in the city of ocongate in quispicanchis province in cusco department peru he lives with his wife and his  yearold daughter crisanta the city of ocongate is two hours from the city of cusco esteban studied law at the national university of san antonio abad in cusco but he was unable to complete his degree for financial reasons he decided to start a new life esteban worked helping lawyers write documentation and then trained to become a legal counselor someone who provides advice on legal matters including criminal issues civil issues labor issues contracts transfers fees and other cases after working in different cities in cusco department as a legal counselor esteban decided to set up in the city of ocongate and opened a legal counseling office esteban requires this loan to buy stationery supplies such as paper pens and many other products esteban is grateful for this opportunity and he pledges to make his repayments on time'\n",
       "\\item[\\$`1247640`] 'kosar is a married woman and entrepreneur and a new borrower through brac pakistan she has worked hard dayandnight to manage the household expenses kosar recently opened a salon and needs to decorate the interior and buy stock of cosmetics and beautyrelated electronics kosar has requested for a loan from brac pakistan to help establish her salon business by fixing up the interior for which she needs to buy salon chairs and cosmetics to attract more customers this is kosar’s first loan and she is very happy to have support from brac pakistan and kiva'\n",
       "\\end{description}\n"
      ],
      "text/markdown": [
       "$`269894`\n",
       ":   <span style=white-space:pre-wrap>'esteban belongs to the “las margarita ocongate” community bank and lives in the city of ocongate in quispicanchis province in cusco department peru he lives with his wife and his  yearold daughter crisanta the city of ocongate is two hours from the city of cusco esteban studied law at the national university of san antonio abad in cusco but he was unable to complete his degree for financial reasons he decided to start a new life esteban worked helping lawyers write documentation and then trained to become a legal counselor someone who provides advice on legal matters including criminal issues civil issues labor issues contracts transfers fees and other cases after working in different cities in cusco department as a legal counselor esteban decided to set up in the city of ocongate and opened a legal counseling office esteban requires this loan to buy stationery supplies such as paper pens and many other products esteban is grateful for this opportunity and he pledges to make his repayments on time'</span>\n",
       "$`1247640`\n",
       ":   'kosar is a married woman and entrepreneur and a new borrower through brac pakistan she has worked hard dayandnight to manage the household expenses kosar recently opened a salon and needs to decorate the interior and buy stock of cosmetics and beautyrelated electronics kosar has requested for a loan from brac pakistan to help establish her salon business by fixing up the interior for which she needs to buy salon chairs and cosmetics to attract more customers this is kosar’s first loan and she is very happy to have support from brac pakistan and kiva'\n",
       "\n",
       "\n"
      ],
      "text/plain": [
       "$`269894`\n",
       "[1] \"esteban belongs to the “las margarita ocongate” community bank and lives in the city of ocongate in quispicanchis province in cusco department peru he lives with his wife and his  yearold daughter crisanta the city of ocongate is two hours from the city of cusco esteban studied law at the national university of san antonio abad in cusco but he was unable to complete his degree for financial reasons he decided to start a new life esteban worked helping lawyers write documentation and then trained to become a legal counselor someone who provides advice on legal matters including criminal issues civil issues labor issues contracts transfers fees and other cases after working in different cities in cusco department as a legal counselor esteban decided to set up in the city of ocongate and opened a legal counseling office esteban requires this loan to buy stationery supplies such as paper pens and many other products esteban is grateful for this opportunity and he pledges to make his repayments on time\"\n",
       "\n",
       "$`1247640`\n",
       "[1] \"kosar is a married woman and entrepreneur and a new borrower through brac pakistan she has worked hard dayandnight to manage the household expenses kosar recently opened a salon and needs to decorate the interior and buy stock of cosmetics and beautyrelated electronics kosar has requested for a loan from brac pakistan to help establish her salon business by fixing up the interior for which she needs to buy salon chairs and cosmetics to attract more customers this is kosar’s first loan and she is very happy to have support from brac pakistan and kiva\"\n"
      ]
     },
     "metadata": {},
     "output_type": "display_data"
    }
   ],
   "source": [
    "## Remove numbers\n",
    "corp <- tm_map(corp, removeNumbers)\n",
    "chead(corp)"
   ]
  },
  {
   "cell_type": "markdown",
   "metadata": {},
   "source": [
    "Any other transformation - like substituting specific patterns based on regular expressions - can be passed to `tm_map()` using a user-defined function."
   ]
  },
  {
   "cell_type": "code",
   "execution_count": 9,
   "metadata": {},
   "outputs": [],
   "source": [
    "## For specific transformations, you could also pass a lambda function to remove patterns based on a regex\n",
    "\n",
    "## Example:\n",
    "## toSpace <- content_transformer(function (x , pattern) gsub(pattern, \" \", x))\n",
    "## corp <- tm_map(corp, toSpace, \"patternhere\")"
   ]
  },
  {
   "cell_type": "markdown",
   "metadata": {},
   "source": [
    "Looking at a frequency plot of the token counts, there is still plenty of filtering to do to get meaningful token counts."
   ]
  },
  {
   "cell_type": "code",
   "execution_count": 10,
   "metadata": {},
   "outputs": [
    {
     "data": {
      "image/png": "[encoded data removed]",
      "text/plain": [
       "plot without title"
      ]
     },
     "metadata": {
      "image/png": {
       "height": 420,
       "width": 420
      }
     },
     "output_type": "display_data"
    }
   ],
   "source": [
    "## Look at the most frequent words in our text and see whether we should get rid of some\n",
    "frequent_terms <- qdap::freq_terms(corp, 30)\n",
    "plot(frequent_terms)"
   ]
  },
  {
   "cell_type": "markdown",
   "metadata": {},
   "source": [
    "Next, we remove stopwords and other generic words which do not carry special meaning in our context."
   ]
  },
  {
   "cell_type": "code",
   "execution_count": 11,
   "metadata": {},
   "outputs": [
    {
     "data": {
      "text/html": [
       "<dl>\n",
       "\t<dt>$`269894`</dt>\n",
       "\t\t<dd><span style=white-space:pre-wrap>'esteban belongs   “las margarita ocongate” community bank  lives   city  ocongate  quispicanchis province  cusco department peru  lives   wife    yearold daughter crisanta  city  ocongate  two hours   city  cusco esteban studied law   national university  san antonio abad  cusco    unable  complete  degree  financial reasons  decided  start  new life esteban worked helping lawyers write documentation   trained  become  legal counselor someone  provides advice  legal matters including criminal issues civil issues labor issues contracts transfers fees   cases  working  different cities  cusco department   legal counselor esteban decided  set    city  ocongate  opened  legal counseling office esteban requires  loan  buy stationery supplies   paper pens  many  products esteban  grateful   opportunity   pledges  make  repayments  time'</span></dd>\n",
       "\t<dt>$`1247640`</dt>\n",
       "\t\t<dd><span style=white-space:pre-wrap>'kosar   married woman  entrepreneur   new borrower  brac pakistan   worked hard dayandnight  manage  household expenses kosar recently opened  salon  needs  decorate  interior  buy stock  cosmetics  beautyrelated electronics kosar  requested   loan  brac pakistan  help establish  salon business  fixing   interior    needs  buy salon chairs  cosmetics  attract  customers   kosar’s first loan     happy   support  brac pakistan  kiva'</span></dd>\n",
       "</dl>\n"
      ],
      "text/latex": [
       "\\begin{description}\n",
       "\\item[\\$`269894`] 'esteban belongs   “las margarita ocongate” community bank  lives   city  ocongate  quispicanchis province  cusco department peru  lives   wife    yearold daughter crisanta  city  ocongate  two hours   city  cusco esteban studied law   national university  san antonio abad  cusco    unable  complete  degree  financial reasons  decided  start  new life esteban worked helping lawyers write documentation   trained  become  legal counselor someone  provides advice  legal matters including criminal issues civil issues labor issues contracts transfers fees   cases  working  different cities  cusco department   legal counselor esteban decided  set    city  ocongate  opened  legal counseling office esteban requires  loan  buy stationery supplies   paper pens  many  products esteban  grateful   opportunity   pledges  make  repayments  time'\n",
       "\\item[\\$`1247640`] 'kosar   married woman  entrepreneur   new borrower  brac pakistan   worked hard dayandnight  manage  household expenses kosar recently opened  salon  needs  decorate  interior  buy stock  cosmetics  beautyrelated electronics kosar  requested   loan  brac pakistan  help establish  salon business  fixing   interior    needs  buy salon chairs  cosmetics  attract  customers   kosar’s first loan     happy   support  brac pakistan  kiva'\n",
       "\\end{description}\n"
      ],
      "text/markdown": [
       "$`269894`\n",
       ":   <span style=white-space:pre-wrap>'esteban belongs   “las margarita ocongate” community bank  lives   city  ocongate  quispicanchis province  cusco department peru  lives   wife    yearold daughter crisanta  city  ocongate  two hours   city  cusco esteban studied law   national university  san antonio abad  cusco    unable  complete  degree  financial reasons  decided  start  new life esteban worked helping lawyers write documentation   trained  become  legal counselor someone  provides advice  legal matters including criminal issues civil issues labor issues contracts transfers fees   cases  working  different cities  cusco department   legal counselor esteban decided  set    city  ocongate  opened  legal counseling office esteban requires  loan  buy stationery supplies   paper pens  many  products esteban  grateful   opportunity   pledges  make  repayments  time'</span>\n",
       "$`1247640`\n",
       ":   <span style=white-space:pre-wrap>'kosar   married woman  entrepreneur   new borrower  brac pakistan   worked hard dayandnight  manage  household expenses kosar recently opened  salon  needs  decorate  interior  buy stock  cosmetics  beautyrelated electronics kosar  requested   loan  brac pakistan  help establish  salon business  fixing   interior    needs  buy salon chairs  cosmetics  attract  customers   kosar’s first loan     happy   support  brac pakistan  kiva'</span>\n",
       "\n",
       "\n"
      ],
      "text/plain": [
       "$`269894`\n",
       "[1] \"esteban belongs   “las margarita ocongate” community bank  lives   city  ocongate  quispicanchis province  cusco department peru  lives   wife    yearold daughter crisanta  city  ocongate  two hours   city  cusco esteban studied law   national university  san antonio abad  cusco    unable  complete  degree  financial reasons  decided  start  new life esteban worked helping lawyers write documentation   trained  become  legal counselor someone  provides advice  legal matters including criminal issues civil issues labor issues contracts transfers fees   cases  working  different cities  cusco department   legal counselor esteban decided  set    city  ocongate  opened  legal counseling office esteban requires  loan  buy stationery supplies   paper pens  many  products esteban  grateful   opportunity   pledges  make  repayments  time\"\n",
       "\n",
       "$`1247640`\n",
       "[1] \"kosar   married woman  entrepreneur   new borrower  brac pakistan   worked hard dayandnight  manage  household expenses kosar recently opened  salon  needs  decorate  interior  buy stock  cosmetics  beautyrelated electronics kosar  requested   loan  brac pakistan  help establish  salon business  fixing   interior    needs  buy salon chairs  cosmetics  attract  customers   kosar’s first loan     happy   support  brac pakistan  kiva\"\n"
      ]
     },
     "metadata": {},
     "output_type": "display_data"
    }
   ],
   "source": [
    "## More invasive changes: remove generic and custom stopwords\n",
    "corp <- tm_map(corp, removeWords, stopwords('english'))\n",
    "chead(corp)"
   ]
  },
  {
   "cell_type": "code",
   "execution_count": 12,
   "metadata": {},
   "outputs": [],
   "source": [
    "## And a few more words we filter for lack of being informative, this could be extended\n",
    "corp <- tm_map(corp, removeWords, \"loan\")\n",
    "corp <- tm_map(corp, removeWords, \"kiva\")"
   ]
  },
  {
   "cell_type": "code",
   "execution_count": 13,
   "metadata": {},
   "outputs": [
    {
     "data": {
      "text/html": [
       "<dl>\n",
       "\t<dt>$`269894`</dt>\n",
       "\t\t<dd><span style=white-space:pre-wrap>' belongs   “las  ocongate” community bank  lives   city  ocongate  quispicanchis province  cusco department peru  lives   wife    yearold daughter crisanta  city  ocongate  two hours   city  cusco  studied law   national university  san  abad  cusco    unable  complete  degree  financial reasons  decided  start  new life  worked helping lawyers write documentation   trained  become  legal counselor someone  provides advice  legal matters including criminal issues civil issues labor issues contracts transfers fees   cases  working  different cities  cusco department   legal counselor  decided  set    city  ocongate  opened  legal counseling office  requires    buy stationery supplies   paper pens    products   grateful   opportunity   pledges  make  repayments  time'</span></dd>\n",
       "\t<dt>$`1247640`</dt>\n",
       "\t\t<dd><span style=white-space:pre-wrap>'kosar   married woman  entrepreneur   new borrower  brac pakistan   worked hard dayandnight  manage  household expenses kosar recently opened  salon  needs  decorate  interior  buy stock  cosmetics  beautyrelated electronics kosar  requested     brac pakistan  help establish  salon business  fixing   interior    needs  buy salon chairs  cosmetics  attract  customers   kosar’s first      happy   support  brac pakistan  '</span></dd>\n",
       "</dl>\n"
      ],
      "text/latex": [
       "\\begin{description}\n",
       "\\item[\\$`269894`] ' belongs   “las  ocongate” community bank  lives   city  ocongate  quispicanchis province  cusco department peru  lives   wife    yearold daughter crisanta  city  ocongate  two hours   city  cusco  studied law   national university  san  abad  cusco    unable  complete  degree  financial reasons  decided  start  new life  worked helping lawyers write documentation   trained  become  legal counselor someone  provides advice  legal matters including criminal issues civil issues labor issues contracts transfers fees   cases  working  different cities  cusco department   legal counselor  decided  set    city  ocongate  opened  legal counseling office  requires    buy stationery supplies   paper pens    products   grateful   opportunity   pledges  make  repayments  time'\n",
       "\\item[\\$`1247640`] 'kosar   married woman  entrepreneur   new borrower  brac pakistan   worked hard dayandnight  manage  household expenses kosar recently opened  salon  needs  decorate  interior  buy stock  cosmetics  beautyrelated electronics kosar  requested     brac pakistan  help establish  salon business  fixing   interior    needs  buy salon chairs  cosmetics  attract  customers   kosar’s first      happy   support  brac pakistan  '\n",
       "\\end{description}\n"
      ],
      "text/markdown": [
       "$`269894`\n",
       ":   <span style=white-space:pre-wrap>' belongs   “las  ocongate” community bank  lives   city  ocongate  quispicanchis province  cusco department peru  lives   wife    yearold daughter crisanta  city  ocongate  two hours   city  cusco  studied law   national university  san  abad  cusco    unable  complete  degree  financial reasons  decided  start  new life  worked helping lawyers write documentation   trained  become  legal counselor someone  provides advice  legal matters including criminal issues civil issues labor issues contracts transfers fees   cases  working  different cities  cusco department   legal counselor  decided  set    city  ocongate  opened  legal counseling office  requires    buy stationery supplies   paper pens    products   grateful   opportunity   pledges  make  repayments  time'</span>\n",
       "$`1247640`\n",
       ":   <span style=white-space:pre-wrap>'kosar   married woman  entrepreneur   new borrower  brac pakistan   worked hard dayandnight  manage  household expenses kosar recently opened  salon  needs  decorate  interior  buy stock  cosmetics  beautyrelated electronics kosar  requested     brac pakistan  help establish  salon business  fixing   interior    needs  buy salon chairs  cosmetics  attract  customers   kosar’s first      happy   support  brac pakistan  '</span>\n",
       "\n",
       "\n"
      ],
      "text/plain": [
       "$`269894`\n",
       "[1] \" belongs   “las  ocongate” community bank  lives   city  ocongate  quispicanchis province  cusco department peru  lives   wife    yearold daughter crisanta  city  ocongate  two hours   city  cusco  studied law   national university  san  abad  cusco    unable  complete  degree  financial reasons  decided  start  new life  worked helping lawyers write documentation   trained  become  legal counselor someone  provides advice  legal matters including criminal issues civil issues labor issues contracts transfers fees   cases  working  different cities  cusco department   legal counselor  decided  set    city  ocongate  opened  legal counseling office  requires    buy stationery supplies   paper pens    products   grateful   opportunity   pledges  make  repayments  time\"\n",
       "\n",
       "$`1247640`\n",
       "[1] \"kosar   married woman  entrepreneur   new borrower  brac pakistan   worked hard dayandnight  manage  household expenses kosar recently opened  salon  needs  decorate  interior  buy stock  cosmetics  beautyrelated electronics kosar  requested     brac pakistan  help establish  salon business  fixing   interior    needs  buy salon chairs  cosmetics  attract  customers   kosar’s first      happy   support  brac pakistan  \"\n"
      ]
     },
     "metadata": {},
     "output_type": "display_data"
    }
   ],
   "source": [
    "## There are a lot of names in the data, these are not really informative\n",
    "## We apply a dictionary to get rid of some of them\n",
    "## Truncation because of regex limit\n",
    "corp <- tm_map(corp, removeWords, common_names[1:floor(length(common_names)/2)])\n",
    "corp <- tm_map(corp, removeWords, common_names[floor(length(common_names)/2):length(common_names)])\n",
    "corp <- tm_map(corp, removeWords, freq_first_names[1:floor(nrow(freq_first_names)/2), Name])\n",
    "corp <- tm_map(corp, removeWords, freq_first_names[floor(nrow(freq_first_names)/2):nrow(freq_first_names), Name])\n",
    "## corp <- tm_map(corp, removeWords, freq_last_names) # needs to be truncated as well, even longer\n",
    "chead(corp)"
   ]
  },
  {
   "cell_type": "markdown",
   "metadata": {},
   "source": [
    "You can also stem the document here. For illustration purposes I refrain from it here, but in real applications you might want to do this. Stemmers do not work equally well for all languages, depending on your application, there may be added value to grouping and transforming tokens further yourself."
   ]
  },
  {
   "cell_type": "code",
   "execution_count": 14,
   "metadata": {},
   "outputs": [],
   "source": [
    "## Stem document\n",
    "## corp <- tm_map(corp, stemDocument, language = 'english')\n",
    "## chead(corp)"
   ]
  },
  {
   "cell_type": "markdown",
   "metadata": {},
   "source": [
    "Strip all extra whitespace (this is without consequences for tokenization)."
   ]
  },
  {
   "cell_type": "code",
   "execution_count": 15,
   "metadata": {},
   "outputs": [
    {
     "data": {
      "text/html": [
       "<dl>\n",
       "\t<dt>$`269894`</dt>\n",
       "\t\t<dd>' belongs “las ocongate” community bank lives city ocongate quispicanchis province cusco department peru lives wife yearold daughter crisanta city ocongate two hours city cusco studied law national university san abad cusco unable complete degree financial reasons decided start new life worked helping lawyers write documentation trained become legal counselor someone provides advice legal matters including criminal issues civil issues labor issues contracts transfers fees cases working different cities cusco department legal counselor decided set city ocongate opened legal counseling office requires buy stationery supplies paper pens products grateful opportunity pledges make repayments time'</dd>\n",
       "\t<dt>$`1247640`</dt>\n",
       "\t\t<dd>'kosar married woman entrepreneur new borrower brac pakistan worked hard dayandnight manage household expenses kosar recently opened salon needs decorate interior buy stock cosmetics beautyrelated electronics kosar requested brac pakistan help establish salon business fixing interior needs buy salon chairs cosmetics attract customers kosar’s first happy support brac pakistan '</dd>\n",
       "</dl>\n"
      ],
      "text/latex": [
       "\\begin{description}\n",
       "\\item[\\$`269894`] ' belongs “las ocongate” community bank lives city ocongate quispicanchis province cusco department peru lives wife yearold daughter crisanta city ocongate two hours city cusco studied law national university san abad cusco unable complete degree financial reasons decided start new life worked helping lawyers write documentation trained become legal counselor someone provides advice legal matters including criminal issues civil issues labor issues contracts transfers fees cases working different cities cusco department legal counselor decided set city ocongate opened legal counseling office requires buy stationery supplies paper pens products grateful opportunity pledges make repayments time'\n",
       "\\item[\\$`1247640`] 'kosar married woman entrepreneur new borrower brac pakistan worked hard dayandnight manage household expenses kosar recently opened salon needs decorate interior buy stock cosmetics beautyrelated electronics kosar requested brac pakistan help establish salon business fixing interior needs buy salon chairs cosmetics attract customers kosar’s first happy support brac pakistan '\n",
       "\\end{description}\n"
      ],
      "text/markdown": [
       "$`269894`\n",
       ":   ' belongs “las ocongate” community bank lives city ocongate quispicanchis province cusco department peru lives wife yearold daughter crisanta city ocongate two hours city cusco studied law national university san abad cusco unable complete degree financial reasons decided start new life worked helping lawyers write documentation trained become legal counselor someone provides advice legal matters including criminal issues civil issues labor issues contracts transfers fees cases working different cities cusco department legal counselor decided set city ocongate opened legal counseling office requires buy stationery supplies paper pens products grateful opportunity pledges make repayments time'\n",
       "$`1247640`\n",
       ":   'kosar married woman entrepreneur new borrower brac pakistan worked hard dayandnight manage household expenses kosar recently opened salon needs decorate interior buy stock cosmetics beautyrelated electronics kosar requested brac pakistan help establish salon business fixing interior needs buy salon chairs cosmetics attract customers kosar’s first happy support brac pakistan '\n",
       "\n",
       "\n"
      ],
      "text/plain": [
       "$`269894`\n",
       "[1] \" belongs “las ocongate” community bank lives city ocongate quispicanchis province cusco department peru lives wife yearold daughter crisanta city ocongate two hours city cusco studied law national university san abad cusco unable complete degree financial reasons decided start new life worked helping lawyers write documentation trained become legal counselor someone provides advice legal matters including criminal issues civil issues labor issues contracts transfers fees cases working different cities cusco department legal counselor decided set city ocongate opened legal counseling office requires buy stationery supplies paper pens products grateful opportunity pledges make repayments time\"\n",
       "\n",
       "$`1247640`\n",
       "[1] \"kosar married woman entrepreneur new borrower brac pakistan worked hard dayandnight manage household expenses kosar recently opened salon needs decorate interior buy stock cosmetics beautyrelated electronics kosar requested brac pakistan help establish salon business fixing interior needs buy salon chairs cosmetics attract customers kosar’s first happy support brac pakistan \"\n"
      ]
     },
     "metadata": {},
     "output_type": "display_data"
    }
   ],
   "source": [
    "## Strip extra whitespace\n",
    "corp <- tm_map(corp, stripWhitespace)\n",
    "chead(corp)"
   ]
  },
  {
   "cell_type": "markdown",
   "metadata": {},
   "source": [
    "## Building a document-term matrix and restricting the feature set"
   ]
  },
  {
   "cell_type": "markdown",
   "metadata": {},
   "source": [
    "We transform the corpus to a document-term matrix. We use simple term-frequency weighting, i.e. the simple token counts. This is the default. You can also choose term frequency-inverse document frequency (tfidf) weighting at this point."
   ]
  },
  {
   "cell_type": "code",
   "execution_count": 16,
   "metadata": {},
   "outputs": [
    {
     "name": "stdout",
     "output_type": "stream",
     "text": [
      "<<DocumentTermMatrix (documents: 10000, terms: 23589)>>\n",
      "Non-/sparse entries: 516846/235373154\n",
      "Sparsity           : 100%\n",
      "Maximal term length: 121\n",
      "Weighting          : term frequency (tf)\n",
      "Sample             :\n",
      "         Terms\n",
      "Docs      business buy children family help income lives married old years\n",
      "  1037639        0   0        1      3    0      0     0       1   2     3\n",
      "  137566         2   4        6      3    0      0     3       3   5     5\n",
      "  141930         0   1        1      0    1      0     1       2   3     2\n",
      "  152994         0   5        3      0    1      0     0       1   1     3\n",
      "  219458         0   0        0      0    0      0     0       5   0     5\n",
      "  264698         0   0        4      3    2      1     1       0   0     0\n",
      "  472746         1   0        0      3    2      0     0       0   0     1\n",
      "  489429         0   2        0      1    0      1     1       0   0     1\n",
      "  87540          4   1        1      1    1      1     0       1   1     2\n",
      "  96153          1   1        1      0    1      2     0       1   1     2\n"
     ]
    }
   ],
   "source": [
    "## Build a document-term or term-document matrix\n",
    "## Default is term-frequency weighting (document length normalized count)\n",
    "## TF-IDF weighting also possible\n",
    "\n",
    "## dtm <- TermDocumentMatrix(corp)\n",
    "dtm <- DocumentTermMatrix(corp)\n",
    "\n",
    "## Inspect the document-term matrix\n",
    "inspect(dtm)"
   ]
  },
  {
   "cell_type": "markdown",
   "metadata": {},
   "source": [
    "Following the tokenization, we can inspect the most popular words."
   ]
  },
  {
   "cell_type": "code",
   "execution_count": 17,
   "metadata": {},
   "outputs": [
    {
     "data": {
      "text/html": [
       "<style>\n",
       ".list-inline {list-style: none; margin:0; padding: 0}\n",
       ".list-inline>li {display: inline-block}\n",
       ".list-inline>li:not(:last-child)::after {content: \"\\00b7\"; padding: 0 .5ex}\n",
       "</style>\n",
       "<ol class=list-inline><li>'buy'</li><li>'city'</li><li>'community'</li><li>'financial'</li><li>'life'</li><li>'lives'</li><li>'make'</li><li>'new'</li><li>'products'</li><li>'time'</li><li>'two'</li><li>'working'</li><li>'yearold'</li><li>'business'</li><li>'customers'</li><li>'expenses'</li><li>'first'</li><li>'hard'</li><li>'help'</li><li>'married'</li><li>'needs'</li><li>'requested'</li><li>'support'</li><li>'woman'</li><li>'can'</li><li>'family'</li><li>'hardworking'</li><li>'increase'</li><li>'loans'</li><li>'requesting'</li><li>'selling'</li><li>'well'</li><li>'farm'</li><li>'farmer'</li><li>'get'</li><li>'husband'</li><li>'income'</li><li>'old'</li><li>'order'</li><li>'sells'</li><li>'village'</li><li>'years'</li><li>'expand'</li><li>'future'</li><li>'like'</li><li>'money'</li><li>'now'</li><li>'nwtf'</li><li>'philippines'</li><li>'php'</li><li>'save'</li><li>'sell'</li><li>'store'</li><li>'works'</li><li>'also'</li><li>'capital'</li><li>'children'</li><li>'earns'</li><li>'education'</li><li>'group'</li><li>'hopes'</li><li>'local'</li><li>'members'</li><li>'pay'</li><li>'provide'</li><li>'used'</li><li>'work'</li><li>'farming'</li><li>'four'</li><li>'good'</li><li>'improve'</li><li>'three'</li><li>'day'</li><li>'house'</li><li>'living'</li><li>'one'</li><li>'profits'</li><li>'purchase'</li><li>'rice'</li><li>'school'</li><li>'food'</li><li>'items'</li><li>'area'</li><li>'five'</li><li>'mother'</li><li>'partner'</li><li>'wants'</li><li>'enough'</li><li>'additional'</li><li>'able'</li><li>'continue'</li><li>'year'</li><li>'member'</li><li>'shop'</li><li>'use'</li><li>'since'</li><li>'small'</li><li>'earn'</li><li>'sales'</li><li>'market'</li><li>'plans'</li><li>'home'</li><li>'better'</li><li>'water'</li></ol>\n"
      ],
      "text/latex": [
       "\\begin{enumerate*}\n",
       "\\item 'buy'\n",
       "\\item 'city'\n",
       "\\item 'community'\n",
       "\\item 'financial'\n",
       "\\item 'life'\n",
       "\\item 'lives'\n",
       "\\item 'make'\n",
       "\\item 'new'\n",
       "\\item 'products'\n",
       "\\item 'time'\n",
       "\\item 'two'\n",
       "\\item 'working'\n",
       "\\item 'yearold'\n",
       "\\item 'business'\n",
       "\\item 'customers'\n",
       "\\item 'expenses'\n",
       "\\item 'first'\n",
       "\\item 'hard'\n",
       "\\item 'help'\n",
       "\\item 'married'\n",
       "\\item 'needs'\n",
       "\\item 'requested'\n",
       "\\item 'support'\n",
       "\\item 'woman'\n",
       "\\item 'can'\n",
       "\\item 'family'\n",
       "\\item 'hardworking'\n",
       "\\item 'increase'\n",
       "\\item 'loans'\n",
       "\\item 'requesting'\n",
       "\\item 'selling'\n",
       "\\item 'well'\n",
       "\\item 'farm'\n",
       "\\item 'farmer'\n",
       "\\item 'get'\n",
       "\\item 'husband'\n",
       "\\item 'income'\n",
       "\\item 'old'\n",
       "\\item 'order'\n",
       "\\item 'sells'\n",
       "\\item 'village'\n",
       "\\item 'years'\n",
       "\\item 'expand'\n",
       "\\item 'future'\n",
       "\\item 'like'\n",
       "\\item 'money'\n",
       "\\item 'now'\n",
       "\\item 'nwtf'\n",
       "\\item 'philippines'\n",
       "\\item 'php'\n",
       "\\item 'save'\n",
       "\\item 'sell'\n",
       "\\item 'store'\n",
       "\\item 'works'\n",
       "\\item 'also'\n",
       "\\item 'capital'\n",
       "\\item 'children'\n",
       "\\item 'earns'\n",
       "\\item 'education'\n",
       "\\item 'group'\n",
       "\\item 'hopes'\n",
       "\\item 'local'\n",
       "\\item 'members'\n",
       "\\item 'pay'\n",
       "\\item 'provide'\n",
       "\\item 'used'\n",
       "\\item 'work'\n",
       "\\item 'farming'\n",
       "\\item 'four'\n",
       "\\item 'good'\n",
       "\\item 'improve'\n",
       "\\item 'three'\n",
       "\\item 'day'\n",
       "\\item 'house'\n",
       "\\item 'living'\n",
       "\\item 'one'\n",
       "\\item 'profits'\n",
       "\\item 'purchase'\n",
       "\\item 'rice'\n",
       "\\item 'school'\n",
       "\\item 'food'\n",
       "\\item 'items'\n",
       "\\item 'area'\n",
       "\\item 'five'\n",
       "\\item 'mother'\n",
       "\\item 'partner'\n",
       "\\item 'wants'\n",
       "\\item 'enough'\n",
       "\\item 'additional'\n",
       "\\item 'able'\n",
       "\\item 'continue'\n",
       "\\item 'year'\n",
       "\\item 'member'\n",
       "\\item 'shop'\n",
       "\\item 'use'\n",
       "\\item 'since'\n",
       "\\item 'small'\n",
       "\\item 'earn'\n",
       "\\item 'sales'\n",
       "\\item 'market'\n",
       "\\item 'plans'\n",
       "\\item 'home'\n",
       "\\item 'better'\n",
       "\\item 'water'\n",
       "\\end{enumerate*}\n"
      ],
      "text/markdown": [
       "1. 'buy'\n",
       "2. 'city'\n",
       "3. 'community'\n",
       "4. 'financial'\n",
       "5. 'life'\n",
       "6. 'lives'\n",
       "7. 'make'\n",
       "8. 'new'\n",
       "9. 'products'\n",
       "10. 'time'\n",
       "11. 'two'\n",
       "12. 'working'\n",
       "13. 'yearold'\n",
       "14. 'business'\n",
       "15. 'customers'\n",
       "16. 'expenses'\n",
       "17. 'first'\n",
       "18. 'hard'\n",
       "19. 'help'\n",
       "20. 'married'\n",
       "21. 'needs'\n",
       "22. 'requested'\n",
       "23. 'support'\n",
       "24. 'woman'\n",
       "25. 'can'\n",
       "26. 'family'\n",
       "27. 'hardworking'\n",
       "28. 'increase'\n",
       "29. 'loans'\n",
       "30. 'requesting'\n",
       "31. 'selling'\n",
       "32. 'well'\n",
       "33. 'farm'\n",
       "34. 'farmer'\n",
       "35. 'get'\n",
       "36. 'husband'\n",
       "37. 'income'\n",
       "38. 'old'\n",
       "39. 'order'\n",
       "40. 'sells'\n",
       "41. 'village'\n",
       "42. 'years'\n",
       "43. 'expand'\n",
       "44. 'future'\n",
       "45. 'like'\n",
       "46. 'money'\n",
       "47. 'now'\n",
       "48. 'nwtf'\n",
       "49. 'philippines'\n",
       "50. 'php'\n",
       "51. 'save'\n",
       "52. 'sell'\n",
       "53. 'store'\n",
       "54. 'works'\n",
       "55. 'also'\n",
       "56. 'capital'\n",
       "57. 'children'\n",
       "58. 'earns'\n",
       "59. 'education'\n",
       "60. 'group'\n",
       "61. 'hopes'\n",
       "62. 'local'\n",
       "63. 'members'\n",
       "64. 'pay'\n",
       "65. 'provide'\n",
       "66. 'used'\n",
       "67. 'work'\n",
       "68. 'farming'\n",
       "69. 'four'\n",
       "70. 'good'\n",
       "71. 'improve'\n",
       "72. 'three'\n",
       "73. 'day'\n",
       "74. 'house'\n",
       "75. 'living'\n",
       "76. 'one'\n",
       "77. 'profits'\n",
       "78. 'purchase'\n",
       "79. 'rice'\n",
       "80. 'school'\n",
       "81. 'food'\n",
       "82. 'items'\n",
       "83. 'area'\n",
       "84. 'five'\n",
       "85. 'mother'\n",
       "86. 'partner'\n",
       "87. 'wants'\n",
       "88. 'enough'\n",
       "89. 'additional'\n",
       "90. 'able'\n",
       "91. 'continue'\n",
       "92. 'year'\n",
       "93. 'member'\n",
       "94. 'shop'\n",
       "95. 'use'\n",
       "96. 'since'\n",
       "97. 'small'\n",
       "98. 'earn'\n",
       "99. 'sales'\n",
       "100. 'market'\n",
       "101. 'plans'\n",
       "102. 'home'\n",
       "103. 'better'\n",
       "104. 'water'\n",
       "\n",
       "\n"
      ],
      "text/plain": [
       "  [1] \"buy\"         \"city\"        \"community\"   \"financial\"   \"life\"       \n",
       "  [6] \"lives\"       \"make\"        \"new\"         \"products\"    \"time\"       \n",
       " [11] \"two\"         \"working\"     \"yearold\"     \"business\"    \"customers\"  \n",
       " [16] \"expenses\"    \"first\"       \"hard\"        \"help\"        \"married\"    \n",
       " [21] \"needs\"       \"requested\"   \"support\"     \"woman\"       \"can\"        \n",
       " [26] \"family\"      \"hardworking\" \"increase\"    \"loans\"       \"requesting\" \n",
       " [31] \"selling\"     \"well\"        \"farm\"        \"farmer\"      \"get\"        \n",
       " [36] \"husband\"     \"income\"      \"old\"         \"order\"       \"sells\"      \n",
       " [41] \"village\"     \"years\"       \"expand\"      \"future\"      \"like\"       \n",
       " [46] \"money\"       \"now\"         \"nwtf\"        \"philippines\" \"php\"        \n",
       " [51] \"save\"        \"sell\"        \"store\"       \"works\"       \"also\"       \n",
       " [56] \"capital\"     \"children\"    \"earns\"       \"education\"   \"group\"      \n",
       " [61] \"hopes\"       \"local\"       \"members\"     \"pay\"         \"provide\"    \n",
       " [66] \"used\"        \"work\"        \"farming\"     \"four\"        \"good\"       \n",
       " [71] \"improve\"     \"three\"       \"day\"         \"house\"       \"living\"     \n",
       " [76] \"one\"         \"profits\"     \"purchase\"    \"rice\"        \"school\"     \n",
       " [81] \"food\"        \"items\"       \"area\"        \"five\"        \"mother\"     \n",
       " [86] \"partner\"     \"wants\"       \"enough\"      \"additional\"  \"able\"       \n",
       " [91] \"continue\"    \"year\"        \"member\"      \"shop\"        \"use\"        \n",
       " [96] \"since\"       \"small\"       \"earn\"        \"sales\"       \"market\"     \n",
       "[101] \"plans\"       \"home\"        \"better\"      \"water\"      "
      ]
     },
     "metadata": {},
     "output_type": "display_data"
    }
   ],
   "source": [
    "## Inspect most popular words\n",
    "findFreqTerms(dtm, lowfreq=1000)"
   ]
  },
  {
   "cell_type": "markdown",
   "metadata": {},
   "source": [
    "The document-word vectors allow us to inspect the correlation between words as we would between variables in other data."
   ]
  },
  {
   "cell_type": "code",
   "execution_count": 18,
   "metadata": {},
   "outputs": [
    {
     "data": {
      "text/html": [
       "<strong>$hard</strong> = <style>\n",
       ".dl-inline {width: auto; margin:0; padding: 0}\n",
       ".dl-inline>dt, .dl-inline>dd {float: none; width: auto; display: inline-block}\n",
       ".dl-inline>dt::after {content: \":\\0020\"; padding-right: .5ex}\n",
       ".dl-inline>dt:not(:first-of-type) {padding-left: .5ex}\n",
       "</style><dl class=dl-inline><dt>nwtf</dt><dd>0.41</dd><dt>philippines</dt><dd>0.39</dd><dt>attain</dt><dd>0.38</dd><dt>parent</dt><dd>0.37</dd><dt>sustaining</dt><dd>0.35</dd><dt>works</dt><dd>0.28</dd><dt>php</dt><dd>0.27</dd><dt>enough</dt><dd>0.24</dd><dt>general</dt><dd>0.23</dd><dt>provide</dt><dd>0.22</dd><dt>requested</dt><dd>0.21</dd><dt>borrowing</dt><dd>0.21</dd><dt>save</dt><dd>0.2</dd><dt>afford</dt><dd>0.2</dd><dt>send</dt><dd>0.2</dd><dt>work</dt><dd>0.19</dd><dt>vending</dt><dd>0.19</dd><dt>college</dt><dd>0.18</dd><dt>like</dt><dd>0.17</dd><dt>working</dt><dd>0.16</dd><dt>money</dt><dd>0.16</dd><dt>faithfully</dt><dd>0.16</dd><dt>additional</dt><dd>0.16</dd><dt>secure</dt><dd>0.16</dd><dt>groceries</dt><dd>0.16</dd><dt>expands</dt><dd>0.16</dd><dt>minimum</dt><dd>0.16</dd><dt>loans</dt><dd>0.15</dd><dt>future</dt><dd>0.15</dd><dt>store</dt><dd>0.15</dd><dt>word</dt><dd>0.15</dd><dt>continually</dt><dd>0.15</dd></dl>\n"
      ],
      "text/latex": [
       "\\textbf{\\$hard} = \\begin{description*}\n",
       "\\item[nwtf] 0.41\n",
       "\\item[philippines] 0.39\n",
       "\\item[attain] 0.38\n",
       "\\item[parent] 0.37\n",
       "\\item[sustaining] 0.35\n",
       "\\item[works] 0.28\n",
       "\\item[php] 0.27\n",
       "\\item[enough] 0.24\n",
       "\\item[general] 0.23\n",
       "\\item[provide] 0.22\n",
       "\\item[requested] 0.21\n",
       "\\item[borrowing] 0.21\n",
       "\\item[save] 0.2\n",
       "\\item[afford] 0.2\n",
       "\\item[send] 0.2\n",
       "\\item[work] 0.19\n",
       "\\item[vending] 0.19\n",
       "\\item[college] 0.18\n",
       "\\item[like] 0.17\n",
       "\\item[working] 0.16\n",
       "\\item[money] 0.16\n",
       "\\item[faithfully] 0.16\n",
       "\\item[additional] 0.16\n",
       "\\item[secure] 0.16\n",
       "\\item[groceries] 0.16\n",
       "\\item[expands] 0.16\n",
       "\\item[minimum] 0.16\n",
       "\\item[loans] 0.15\n",
       "\\item[future] 0.15\n",
       "\\item[store] 0.15\n",
       "\\item[word] 0.15\n",
       "\\item[continually] 0.15\n",
       "\\end{description*}\n"
      ],
      "text/markdown": [
       "**$hard** = nwtf\n",
       ":   0.41philippines\n",
       ":   0.39attain\n",
       ":   0.38parent\n",
       ":   0.37sustaining\n",
       ":   0.35works\n",
       ":   0.28php\n",
       ":   0.27enough\n",
       ":   0.24general\n",
       ":   0.23provide\n",
       ":   0.22requested\n",
       ":   0.21borrowing\n",
       ":   0.21save\n",
       ":   0.2afford\n",
       ":   0.2send\n",
       ":   0.2work\n",
       ":   0.19vending\n",
       ":   0.19college\n",
       ":   0.18like\n",
       ":   0.17working\n",
       ":   0.16money\n",
       ":   0.16faithfully\n",
       ":   0.16additional\n",
       ":   0.16secure\n",
       ":   0.16groceries\n",
       ":   0.16expands\n",
       ":   0.16minimum\n",
       ":   0.16loans\n",
       ":   0.15future\n",
       ":   0.15store\n",
       ":   0.15word\n",
       ":   0.15continually\n",
       ":   0.15\n",
       "\n"
      ],
      "text/plain": [
       "$hard\n",
       "       nwtf philippines      attain      parent  sustaining       works \n",
       "       0.41        0.39        0.38        0.37        0.35        0.28 \n",
       "        php      enough     general     provide   requested   borrowing \n",
       "       0.27        0.24        0.23        0.22        0.21        0.21 \n",
       "       save      afford        send        work     vending     college \n",
       "       0.20        0.20        0.20        0.19        0.19        0.18 \n",
       "       like     working       money  faithfully  additional      secure \n",
       "       0.17        0.16        0.16        0.16        0.16        0.16 \n",
       "  groceries     expands     minimum       loans      future       store \n",
       "       0.16        0.16        0.16        0.15        0.15        0.15 \n",
       "       word continually \n",
       "       0.15        0.15 \n"
      ]
     },
     "metadata": {},
     "output_type": "display_data"
    }
   ],
   "source": [
    "## Inspect associations\n",
    "findAssocs(dtm, 'hard', 0.15)"
   ]
  },
  {
   "cell_type": "markdown",
   "metadata": {},
   "source": [
    "Since the matrix is very wide and sparse, we are going to remove terms to arrive at a tractable representation. We can filter words simply by removing words that are very rare."
   ]
  },
  {
   "cell_type": "code",
   "execution_count": 19,
   "metadata": {},
   "outputs": [
    {
     "data": {
      "text/html": [
       "<style>\n",
       ".list-inline {list-style: none; margin:0; padding: 0}\n",
       ".list-inline>li {display: inline-block}\n",
       ".list-inline>li:not(:last-child)::after {content: \"\\00b7\"; padding: 0 .5ex}\n",
       "</style>\n",
       "<ol class=list-inline><li>10000</li><li>88</li></ol>\n"
      ],
      "text/latex": [
       "\\begin{enumerate*}\n",
       "\\item 10000\n",
       "\\item 88\n",
       "\\end{enumerate*}\n"
      ],
      "text/markdown": [
       "1. 10000\n",
       "2. 88\n",
       "\n",
       "\n"
      ],
      "text/plain": [
       "[1] 10000    88"
      ]
     },
     "metadata": {},
     "output_type": "display_data"
    },
    {
     "data": {
      "text/html": [
       "<style>\n",
       ".list-inline {list-style: none; margin:0; padding: 0}\n",
       ".list-inline>li {display: inline-block}\n",
       ".list-inline>li:not(:last-child)::after {content: \"\\00b7\"; padding: 0 .5ex}\n",
       "</style>\n",
       "<ol class=list-inline><li>9999</li><li>88</li></ol>\n"
      ],
      "text/latex": [
       "\\begin{enumerate*}\n",
       "\\item 9999\n",
       "\\item 88\n",
       "\\end{enumerate*}\n"
      ],
      "text/markdown": [
       "1. 9999\n",
       "2. 88\n",
       "\n",
       "\n"
      ],
      "text/plain": [
       "[1] 9999   88"
      ]
     },
     "metadata": {},
     "output_type": "display_data"
    }
   ],
   "source": [
    "## Remove sparse terms, prevents cluster node from choking and saves time\n",
    "## may also improve tractability\n",
    "\n",
    "## Tweak the sparse parameter to influence # of words\n",
    "dtms <- removeSparseTerms(dtm, sparse=0.90)\n",
    "dim(dtms)\n",
    "dtms <- dtms[row_sums(dtms) > 0, ]\n",
    "dim(dtms)"
   ]
  },
  {
   "cell_type": "markdown",
   "metadata": {},
   "source": [
    "We can also filter by tf-idf, only keeping words which occur frequently in some documents but not in others, helping us to keep those words that disambiguate loans. We compute the average tf-idf score for each token, then filter by that. I went back-and-forth a bit tweaking the threshold value for filtering."
   ]
  },
  {
   "cell_type": "code",
   "execution_count": 20,
   "metadata": {},
   "outputs": [
    {
     "data": {
      "text/plain": [
       "   Min. 1st Qu.  Median    Mean 3rd Qu.    Max. \n",
       "0.01094 0.09306 0.12953 0.18048 0.19456 1.58799 "
      ]
     },
     "metadata": {},
     "output_type": "display_data"
    },
    {
     "data": {
      "text/html": [
       "<style>\n",
       ".list-inline {list-style: none; margin:0; padding: 0}\n",
       ".list-inline>li {display: inline-block}\n",
       ".list-inline>li:not(:last-child)::after {content: \"\\00b7\"; padding: 0 .5ex}\n",
       "</style>\n",
       "<ol class=list-inline><li>10000</li><li>9247</li></ol>\n"
      ],
      "text/latex": [
       "\\begin{enumerate*}\n",
       "\\item 10000\n",
       "\\item 9247\n",
       "\\end{enumerate*}\n"
      ],
      "text/markdown": [
       "1. 10000\n",
       "2. 9247\n",
       "\n",
       "\n"
      ],
      "text/plain": [
       "[1] 10000  9247"
      ]
     },
     "metadata": {},
     "output_type": "display_data"
    },
    {
     "data": {
      "text/html": [
       "<style>\n",
       ".list-inline {list-style: none; margin:0; padding: 0}\n",
       ".list-inline>li {display: inline-block}\n",
       ".list-inline>li:not(:last-child)::after {content: \"\\00b7\"; padding: 0 .5ex}\n",
       "</style>\n",
       "<ol class=list-inline><li>7965</li><li>9247</li></ol>\n"
      ],
      "text/latex": [
       "\\begin{enumerate*}\n",
       "\\item 7965\n",
       "\\item 9247\n",
       "\\end{enumerate*}\n"
      ],
      "text/markdown": [
       "1. 7965\n",
       "2. 9247\n",
       "\n",
       "\n"
      ],
      "text/plain": [
       "[1] 7965 9247"
      ]
     },
     "metadata": {},
     "output_type": "display_data"
    }
   ],
   "source": [
    "## Alternatively, filter words by mean tf-idf\n",
    "\n",
    "## Calculate average term-specific tf-idf weights as\n",
    "## mean(word count/document length) * log(ndocs/ndocs containing word)\n",
    "termtfidf <- tapply(dtm$v/row_sums(dtm)[dtm$i], dtm$j, mean) *\n",
    "             log(nDocs(dtm)/col_sums(dtm > 0))\n",
    "summary(termtfidf)\n",
    "\n",
    "## Only include terms with at least median tf-idf score\n",
    "dtmw <- dtm[, (termtfidf >= 0.15)]\n",
    "dim(dtmw)\n",
    "## And documents within which these terms occur - this may induce selection\n",
    "dtmw <- dtmw[row_sums(dtmw) > 0, ]\n",
    "dim(dtmw)"
   ]
  },
  {
   "cell_type": "code",
   "execution_count": 21,
   "metadata": {},
   "outputs": [
    {
     "data": {
      "text/html": [
       "<style>\n",
       ".list-inline {list-style: none; margin:0; padding: 0}\n",
       ".list-inline>li {display: inline-block}\n",
       ".list-inline>li:not(:last-child)::after {content: \"\\00b7\"; padding: 0 .5ex}\n",
       "</style>\n",
       "<ol class=list-inline><li>'fishing'</li><li>'pmpc'</li><li>'rickshaw'</li><li>'kadet'</li><li>'hspfi'</li><li>'babban'</li><li>'gona'</li><li>'inr'</li><li>'toilet'</li><li>'kgs'</li><li>'som'</li><li>'josé'</li><li>'interactuar'</li><li>'palm'</li><li>'aski'</li><li>'sanitary'</li></ol>\n"
      ],
      "text/latex": [
       "\\begin{enumerate*}\n",
       "\\item 'fishing'\n",
       "\\item 'pmpc'\n",
       "\\item 'rickshaw'\n",
       "\\item 'kadet'\n",
       "\\item 'hspfi'\n",
       "\\item 'babban'\n",
       "\\item 'gona'\n",
       "\\item 'inr'\n",
       "\\item 'toilet'\n",
       "\\item 'kgs'\n",
       "\\item 'som'\n",
       "\\item 'josé'\n",
       "\\item 'interactuar'\n",
       "\\item 'palm'\n",
       "\\item 'aski'\n",
       "\\item 'sanitary'\n",
       "\\end{enumerate*}\n"
      ],
      "text/markdown": [
       "1. 'fishing'\n",
       "2. 'pmpc'\n",
       "3. 'rickshaw'\n",
       "4. 'kadet'\n",
       "5. 'hspfi'\n",
       "6. 'babban'\n",
       "7. 'gona'\n",
       "8. 'inr'\n",
       "9. 'toilet'\n",
       "10. 'kgs'\n",
       "11. 'som'\n",
       "12. 'josé'\n",
       "13. 'interactuar'\n",
       "14. 'palm'\n",
       "15. 'aski'\n",
       "16. 'sanitary'\n",
       "\n",
       "\n"
      ],
      "text/plain": [
       " [1] \"fishing\"     \"pmpc\"        \"rickshaw\"    \"kadet\"       \"hspfi\"      \n",
       " [6] \"babban\"      \"gona\"        \"inr\"         \"toilet\"      \"kgs\"        \n",
       "[11] \"som\"         \"josé\"        \"interactuar\" \"palm\"        \"aski\"       \n",
       "[16] \"sanitary\"   "
      ]
     },
     "metadata": {},
     "output_type": "display_data"
    }
   ],
   "source": [
    "## Much less frequent terms now\n",
    "findFreqTerms(dtmw, lowfreq=100)"
   ]
  },
  {
   "cell_type": "markdown",
   "metadata": {},
   "source": [
    "## Visualizations of word frequencies"
   ]
  },
  {
   "cell_type": "markdown",
   "metadata": {},
   "source": [
    "These are just very simple visualizations of word frequencies. First the unfiltered but transformed corpus."
   ]
  },
  {
   "cell_type": "code",
   "execution_count": 22,
   "metadata": {},
   "outputs": [
    {
     "data": {
      "image/png": "[encoded data removed]",
      "text/plain": [
       "plot without title"
      ]
     },
     "metadata": {
      "image/png": {
       "height": 420,
       "width": 420
      }
     },
     "output_type": "display_data"
    }
   ],
   "source": [
    "## Simple visualization\n",
    "wordcloud(corp, max.words = 100, random.order = FALSE,\n",
    "          colors = brewer.pal(8, \"Dark2\"))"
   ]
  },
  {
   "cell_type": "markdown",
   "metadata": {},
   "source": [
    "Next the term-frequency filtered document-term matrix. Obviously this is very similar to the plot above. "
   ]
  },
  {
   "cell_type": "code",
   "execution_count": 23,
   "metadata": {},
   "outputs": [
    {
     "data": {
      "image/png": "[encoded data removed]",
      "text/plain": [
       "plot without title"
      ]
     },
     "metadata": {
      "image/png": {
       "height": 420,
       "width": 420
      }
     },
     "output_type": "display_data"
    }
   ],
   "source": [
    "## Counts from dtms\n",
    "counts <- sort(colSums(as.matrix(dtms)), decreasing = TRUE)\n",
    "counts <- data.frame(word = names(counts), freq = counts)\n",
    "wordcloud(words = counts$word, freq = counts$freq,\n",
    "          max.words = 100, random.order = FALSE,\n",
    "          colors = brewer.pal(8, \"Dark2\"))"
   ]
  },
  {
   "cell_type": "markdown",
   "metadata": {},
   "source": [
    "However, the frequency plot of the tfidf-filtered document-term matrix looks different. There are a lot more terms that disambiguate professions and investment goods."
   ]
  },
  {
   "cell_type": "code",
   "execution_count": 24,
   "metadata": {},
   "outputs": [
    {
     "data": {
      "image/png": "[encoded data removed]",
      "text/plain": [
       "plot without title"
      ]
     },
     "metadata": {
      "image/png": {
       "height": 420,
       "width": 420
      }
     },
     "output_type": "display_data"
    }
   ],
   "source": [
    "## Counts from dtmw\n",
    "counts <- sort(colSums(as.matrix(dtmw)), decreasing = TRUE)\n",
    "counts <- data.frame(word = names(counts), freq = counts)\n",
    "wordcloud(words = counts$word, freq = counts$freq,\n",
    "          max.words = 100, random.order = FALSE,\n",
    "          colors = brewer.pal(8, \"Dark2\"))"
   ]
  },
  {
   "cell_type": "markdown",
   "metadata": {},
   "source": [
    "## Dictionary methods: Inferring sentiment"
   ]
  },
  {
   "cell_type": "markdown",
   "metadata": {},
   "source": [
    "We are using a fixed mapping of terms to infer a sentiment score, and then convert it to discrete sentiment categories. Unsuprisingly, most loan descriptions are phrased to convey a positive message. "
   ]
  },
  {
   "cell_type": "code",
   "execution_count": 25,
   "metadata": {},
   "outputs": [
    {
     "data": {
      "text/plain": [
       "sentiment\n",
       "negative  neutral positive \n",
       "     108     1386     8505 "
      ]
     },
     "metadata": {},
     "output_type": "display_data"
    }
   ],
   "source": [
    "## Dictionary method: Sentiment analysis using dictionaries\n",
    "sentiment <- analyzeSentiment(dtms, language = \"english\")\n",
    "sentiment <- convertToDirection(sentiment$SentimentGI)\n",
    "\n",
    "## Potentially add back to original data for further analysis\n",
    "## loans$sentiment <- sentiment\n",
    "\n",
    "## look at sentiment distribution\n",
    "table(sentiment)"
   ]
  },
  {
   "cell_type": "markdown",
   "metadata": {},
   "source": [
    "## Unsupervised generative model: Topic model"
   ]
  },
  {
   "cell_type": "markdown",
   "metadata": {},
   "source": [
    "Next we are going to train an unsupervised topic model on the term-frequency filtered document term matrix. You will find that it is hard to find distinct topics, both due to the term filtering, and the fact that most loans are handed out by partner organizations who use a standard questionnaire to get basic information which is then translated to an english description. "
   ]
  },
  {
   "cell_type": "code",
   "execution_count": 26,
   "metadata": {},
   "outputs": [
    {
     "data": {
      "text/html": [
       "<table>\n",
       "<caption>A matrix: 10 × 5 of type chr</caption>\n",
       "<thead>\n",
       "\t<tr><th scope=col>Topic 1</th><th scope=col>Topic 2</th><th scope=col>Topic 3</th><th scope=col>Topic 4</th><th scope=col>Topic 5</th></tr>\n",
       "</thead>\n",
       "<tbody>\n",
       "\t<tr><td>business</td><td>business</td><td>family  </td><td>children</td><td>business</td></tr>\n",
       "\t<tr><td>buy     </td><td>years   </td><td>buy     </td><td>business</td><td>years   </td></tr>\n",
       "\t<tr><td>years   </td><td>children</td><td>years   </td><td>help    </td><td>future  </td></tr>\n",
       "\t<tr><td>children</td><td>income  </td><td>business</td><td>school  </td><td>also    </td></tr>\n",
       "\t<tr><td>old     </td><td>married </td><td>children</td><td>living  </td><td>can     </td></tr>\n",
       "\t<tr><td>family  </td><td>lives   </td><td>married </td><td>house   </td><td>old     </td></tr>\n",
       "\t<tr><td>income  </td><td>family  </td><td>sells   </td><td>married </td><td>work    </td></tr>\n",
       "\t<tr><td>sell    </td><td>old     </td><td>one     </td><td>two     </td><td>husband </td></tr>\n",
       "\t<tr><td>married </td><td>school  </td><td>husband </td><td>group   </td><td>sell    </td></tr>\n",
       "\t<tr><td>lives   </td><td>purchase</td><td>plans   </td><td>works   </td><td>expand  </td></tr>\n",
       "</tbody>\n",
       "</table>\n"
      ],
      "text/latex": [
       "A matrix: 10 × 5 of type chr\n",
       "\\begin{tabular}{lllll}\n",
       " Topic 1 & Topic 2 & Topic 3 & Topic 4 & Topic 5\\\\\n",
       "\\hline\n",
       "\t business & business & family   & children & business\\\\\n",
       "\t buy      & years    & buy      & business & years   \\\\\n",
       "\t years    & children & years    & help     & future  \\\\\n",
       "\t children & income   & business & school   & also    \\\\\n",
       "\t old      & married  & children & living   & can     \\\\\n",
       "\t family   & lives    & married  & house    & old     \\\\\n",
       "\t income   & family   & sells    & married  & work    \\\\\n",
       "\t sell     & old      & one      & two      & husband \\\\\n",
       "\t married  & school   & husband  & group    & sell    \\\\\n",
       "\t lives    & purchase & plans    & works    & expand  \\\\\n",
       "\\end{tabular}\n"
      ],
      "text/markdown": [
       "\n",
       "A matrix: 10 × 5 of type chr\n",
       "\n",
       "| Topic 1 | Topic 2 | Topic 3 | Topic 4 | Topic 5 |\n",
       "|---|---|---|---|---|\n",
       "| business | business | family   | children | business |\n",
       "| buy      | years    | buy      | business | years    |\n",
       "| years    | children | years    | help     | future   |\n",
       "| children | income   | business | school   | also     |\n",
       "| old      | married  | children | living   | can      |\n",
       "| family   | lives    | married  | house    | old      |\n",
       "| income   | family   | sells    | married  | work     |\n",
       "| sell     | old      | one      | two      | husband  |\n",
       "| married  | school   | husband  | group    | sell     |\n",
       "| lives    | purchase | plans    | works    | expand   |\n",
       "\n"
      ],
      "text/plain": [
       "      Topic 1  Topic 2  Topic 3  Topic 4  Topic 5 \n",
       " [1,] business business family   children business\n",
       " [2,] buy      years    buy      business years   \n",
       " [3,] years    children years    help     future  \n",
       " [4,] children income   business school   also    \n",
       " [5,] old      married  children living   can     \n",
       " [6,] family   lives    married  house    old     \n",
       " [7,] income   family   sells    married  work    \n",
       " [8,] sell     old      one      two      husband \n",
       " [9,] married  school   husband  group    sell    \n",
       "[10,] lives    purchase plans    works    expand  "
      ]
     },
     "metadata": {},
     "output_type": "display_data"
    },
    {
     "data": {
      "image/png": "[encoded data removed]",
      "text/plain": [
       "plot without title"
      ]
     },
     "metadata": {
      "image/png": {
       "height": 420,
       "width": 420
      }
     },
     "output_type": "display_data"
    }
   ],
   "source": [
    "## Unsupervised method: Topic model\n",
    "lda <- LDA(dtms, k = 5, control = list(seed = 100))\n",
    "## lda <- LDA(dtmw, k = 5, control = list(seed = 100))\n",
    "\n",
    "## Most likely topic for each document, could merge this to original data\n",
    "## topic <- topics(lda, 1)\n",
    "\n",
    "## Five most frequent terms for each topic\n",
    "terms(lda, 10)\n",
    "\n",
    "## Plot most frequent terms and associated probabilities by topic\n",
    "tpm <- tidy(lda, matrix = \"beta\")\n",
    "\n",
    "topterms <-\n",
    "    tpm %>%\n",
    "    group_by(topic) %>%\n",
    "    top_n(10, beta) %>%\n",
    "    ungroup() %>%\n",
    "    arrange(topic, -beta)\n",
    "\n",
    "topterms %>%\n",
    "    mutate(term = reorder(term, beta)) %>%\n",
    "    ggplot(aes(term, beta, fill = factor(topic))) +\n",
    "    geom_col(show.legend = FALSE) +\n",
    "    facet_wrap(~ topic, scales = \"free\") +\n",
    "    coord_flip()"
   ]
  },
  {
   "cell_type": "markdown",
   "metadata": {},
   "source": [
    "Instead, let us use the `loan use` statement, filtered by tfidf. These topics already look more distinct. You could tweak the filter and the number of topics further to arrive at a more meaningful result."
   ]
  },
  {
   "cell_type": "code",
   "execution_count": 27,
   "metadata": {},
   "outputs": [
    {
     "name": "stdout",
     "output_type": "stream",
     "text": [
      "<<DocumentTermMatrix (documents: 10000, terms: 4130)>>\n",
      "Non-/sparse entries: 57029/41242971\n",
      "Sparsity           : 100%\n",
      "Maximal term length: 30\n",
      "Weighting          : term frequency (tf)\n",
      "Sample             :\n",
      "        Terms\n",
      "Docs     additional business buy pay products purchase rice sell supplies water\n",
      "  165281          0        0   0   0        1       10    1    0        0     0\n",
      "  251885          0        0   0   0        0        1    0    0        0     0\n",
      "  284790          0        0   1   0        0        0    1    0        0     1\n",
      "  32203           0        0   1   0        0        0    1    0        0     0\n",
      "  323832          0        0   0   0        1        1    1    0        1     0\n",
      "  450012          0        1   1   0        2        0    1    0        0     0\n",
      "  453623          0        0   1   0        0        0    1    0        0     0\n",
      "  562708          0        0   0   0        0        1    0    0        0     0\n",
      "  631944          0        0   1   0        1        0    0    1        0     0\n",
      "  971878          0        0   1   0        0        0    1    0        0     0\n"
     ]
    },
    {
     "data": {
      "text/plain": [
       "   Min. 1st Qu.  Median    Mean 3rd Qu.    Max. \n",
       " 0.1829  1.2406  1.6610  1.8666  2.2146 13.2877 "
      ]
     },
     "metadata": {},
     "output_type": "display_data"
    }
   ],
   "source": [
    "## not working well due to standardized templates\n",
    "## let us try to use the `loanuse' statement text for the generative topic model \n",
    "\n",
    "# new data\n",
    "loanuse <- loans[, .(doc_id, loanuse)]\n",
    "setnames(loanuse, \"loanuse\", \"text\")\n",
    "\n",
    "# new dtm, this time do most of the transformations in one step\n",
    "dtmuse <- DocumentTermMatrix(Corpus(DataframeSource(loanuse)),\n",
    "                             control = list(weighting = weightTf,\n",
    "                                            language = \"english\",\n",
    "                                            tolower = TRUE,\n",
    "                                            removePunctuation = TRUE,\n",
    "                                            removeNumbers = TRUE,\n",
    "                                            stopwords = TRUE,\n",
    "                                            stemming = FALSE,\n",
    "                                            wordLengths = c(3, Inf)))\n",
    "inspect(dtmuse)\n",
    "\n",
    "# Recalculate weights\n",
    "termtfidf <- tapply(dtmuse$v/row_sums(dtmuse)[dtmuse$i], dtmuse$j, mean) *\n",
    "    log2(nDocs(dtmuse)/col_sums(dtmuse > 0))\n",
    "summary(termtfidf)\n",
    "\n",
    "## Filter by tf-idf\n",
    "## dim(dtmuse)\n",
    "dtmuse <- dtmuse[, (termtfidf >= 1.70)]\n",
    "dtmuse <- dtmuse[row_sums(dtmuse) > 0, ]\n",
    "## dim(dtmuse)"
   ]
  },
  {
   "cell_type": "code",
   "execution_count": 28,
   "metadata": {},
   "outputs": [
    {
     "data": {
      "text/html": [
       "<table>\n",
       "<caption>A matrix: 10 × 3 of type chr</caption>\n",
       "<thead>\n",
       "\t<tr><th scope=col>Topic 1</th><th scope=col>Topic 2</th><th scope=col>Topic 3</th></tr>\n",
       "</thead>\n",
       "<tbody>\n",
       "\t<tr><td>cattle </td><td>capital </td><td>cattle    </td></tr>\n",
       "\t<tr><td>capital</td><td>working </td><td>farmland  </td></tr>\n",
       "\t<tr><td>working</td><td>sanitary</td><td>tuition   </td></tr>\n",
       "\t<tr><td>poultry</td><td>goats   </td><td>renovate  </td></tr>\n",
       "\t<tr><td>tuition</td><td>tuition </td><td>cereals   </td></tr>\n",
       "\t<tr><td>sheep  </td><td>vehicle </td><td>car       </td></tr>\n",
       "\t<tr><td>cows   </td><td>poultry </td><td>calves    </td></tr>\n",
       "\t<tr><td>car    </td><td>cows    </td><td>foodstuffs</td></tr>\n",
       "\t<tr><td>cereals</td><td>computer</td><td>sanitary  </td></tr>\n",
       "\t<tr><td>chicks </td><td>farmland</td><td>chicks    </td></tr>\n",
       "</tbody>\n",
       "</table>\n"
      ],
      "text/latex": [
       "A matrix: 10 × 3 of type chr\n",
       "\\begin{tabular}{lll}\n",
       " Topic 1 & Topic 2 & Topic 3\\\\\n",
       "\\hline\n",
       "\t cattle  & capital  & cattle    \\\\\n",
       "\t capital & working  & farmland  \\\\\n",
       "\t working & sanitary & tuition   \\\\\n",
       "\t poultry & goats    & renovate  \\\\\n",
       "\t tuition & tuition  & cereals   \\\\\n",
       "\t sheep   & vehicle  & car       \\\\\n",
       "\t cows    & poultry  & calves    \\\\\n",
       "\t car     & cows     & foodstuffs\\\\\n",
       "\t cereals & computer & sanitary  \\\\\n",
       "\t chicks  & farmland & chicks    \\\\\n",
       "\\end{tabular}\n"
      ],
      "text/markdown": [
       "\n",
       "A matrix: 10 × 3 of type chr\n",
       "\n",
       "| Topic 1 | Topic 2 | Topic 3 |\n",
       "|---|---|---|\n",
       "| cattle  | capital  | cattle     |\n",
       "| capital | working  | farmland   |\n",
       "| working | sanitary | tuition    |\n",
       "| poultry | goats    | renovate   |\n",
       "| tuition | tuition  | cereals    |\n",
       "| sheep   | vehicle  | car        |\n",
       "| cows    | poultry  | calves     |\n",
       "| car     | cows     | foodstuffs |\n",
       "| cereals | computer | sanitary   |\n",
       "| chicks  | farmland | chicks     |\n",
       "\n"
      ],
      "text/plain": [
       "      Topic 1 Topic 2  Topic 3   \n",
       " [1,] cattle  capital  cattle    \n",
       " [2,] capital working  farmland  \n",
       " [3,] working sanitary tuition   \n",
       " [4,] poultry goats    renovate  \n",
       " [5,] tuition tuition  cereals   \n",
       " [6,] sheep   vehicle  car       \n",
       " [7,] cows    poultry  calves    \n",
       " [8,] car     cows     foodstuffs\n",
       " [9,] cereals computer sanitary  \n",
       "[10,] chicks  farmland chicks    "
      ]
     },
     "metadata": {},
     "output_type": "display_data"
    },
    {
     "data": {
      "image/png": "[encoded data removed]",
      "text/plain": [
       "plot without title"
      ]
     },
     "metadata": {
      "image/png": {
       "height": 420,
       "width": 420
      }
     },
     "output_type": "display_data"
    }
   ],
   "source": [
    "## Unsupervised method: Topic model, this time for loanuse statement\n",
    "lda <- LDA(dtmuse, k = 3, control = list(seed = 100))\n",
    "## str(lda)\n",
    "\n",
    "## Most likely topic for each document, could merge this to original data\n",
    "topic <- topics(lda, 1)\n",
    "## Five most frequent terms for each topic\n",
    "terms(lda, 10)\n",
    "\n",
    "## Plot most frequent terms and associated probabilities by topic\n",
    "tpm <- tidy(lda, matrix = \"beta\")\n",
    "\n",
    "topterms <-\n",
    "    tpm %>%\n",
    "    group_by(topic) %>%\n",
    "    top_n(10, beta) %>%\n",
    "    ungroup() %>%\n",
    "    arrange(topic, -beta)\n",
    "\n",
    "topterms %>%\n",
    "    mutate(term = reorder(term, beta)) %>%\n",
    "    ggplot(aes(term, beta, fill = factor(topic))) +\n",
    "    geom_col(show.legend = FALSE) +\n",
    "    facet_wrap(~ topic, scales = \"free\") +\n",
    "    coord_flip()\n"
   ]
  },
  {
   "cell_type": "markdown",
   "metadata": {},
   "source": [
    "Look at unique terms not appearing in other topics."
   ]
  },
  {
   "cell_type": "code",
   "execution_count": 29,
   "metadata": {},
   "outputs": [
    {
     "data": {
      "text/html": [
       "<dl>\n",
       "\t<dt>$`Topic 1`</dt>\n",
       "\t\t<dd><style>\n",
       ".list-inline {list-style: none; margin:0; padding: 0}\n",
       ".list-inline>li {display: inline-block}\n",
       ".list-inline>li:not(:last-child)::after {content: \"\\00b7\"; padding: 0 .5ex}\n",
       "</style>\n",
       "<ol class=list-inline><li>'cocoa'</li><li>'bales'</li><li>'repairing'</li><li>'medicine'</li><li>'ladies'</li><li>'fix'</li><li>'restock'</li><li>'welding'</li><li>'coconuts'</li><li>'provisions'</li><li>'forage'</li><li>'tractor'</li><li>'horticulture'</li><li>'refrigerator'</li><li>'baking'</li></ol>\n",
       "</dd>\n",
       "\t<dt>$`Topic 2`</dt>\n",
       "\t\t<dd><style>\n",
       ".list-inline {list-style: none; margin:0; padding: 0}\n",
       ".list-inline>li {display: inline-block}\n",
       ".list-inline>li:not(:last-child)::after {content: \"\\00b7\"; padding: 0 .5ex}\n",
       "</style>\n",
       "<ol class=list-inline><li>'goats'</li><li>'computer'</li><li>'open'</li><li>'room'</li><li>'medicines'</li><li>'clinic'</li><li>'baby'</li><li>'fattening'</li><li>'reselling'</li><li>'fodder'</li><li>'renovation'</li><li>'semester'</li><li>'tto'</li><li>'nipa'</li><li>'garments'</li><li>'coal'</li></ol>\n",
       "</dd>\n",
       "\t<dt>$`Topic 3`</dt>\n",
       "\t\t<dd><style>\n",
       ".list-inline {list-style: none; margin:0; padding: 0}\n",
       ".list-inline>li {display: inline-block}\n",
       ".list-inline>li:not(:last-child)::after {content: \"\\00b7\"; padding: 0 .5ex}\n",
       "</style>\n",
       "<ol class=list-inline><li>'foodstuffs'</li><li>'improvements'</li><li>'machines'</li><li>'kitchen'</li><li>'generator'</li><li>'son’s'</li><li>'timber'</li><li>'latrine'</li><li>'laptop'</li><li>'develop'</li><li>'plow'</li><li>'cart'</li><li>'phones'</li><li>'bowls'</li><li>'complete'</li><li>'plot'</li><li>'seasonal'</li></ol>\n",
       "</dd>\n",
       "</dl>\n"
      ],
      "text/latex": [
       "\\begin{description}\n",
       "\\item[\\$`Topic 1`] \\begin{enumerate*}\n",
       "\\item 'cocoa'\n",
       "\\item 'bales'\n",
       "\\item 'repairing'\n",
       "\\item 'medicine'\n",
       "\\item 'ladies'\n",
       "\\item 'fix'\n",
       "\\item 'restock'\n",
       "\\item 'welding'\n",
       "\\item 'coconuts'\n",
       "\\item 'provisions'\n",
       "\\item 'forage'\n",
       "\\item 'tractor'\n",
       "\\item 'horticulture'\n",
       "\\item 'refrigerator'\n",
       "\\item 'baking'\n",
       "\\end{enumerate*}\n",
       "\n",
       "\\item[\\$`Topic 2`] \\begin{enumerate*}\n",
       "\\item 'goats'\n",
       "\\item 'computer'\n",
       "\\item 'open'\n",
       "\\item 'room'\n",
       "\\item 'medicines'\n",
       "\\item 'clinic'\n",
       "\\item 'baby'\n",
       "\\item 'fattening'\n",
       "\\item 'reselling'\n",
       "\\item 'fodder'\n",
       "\\item 'renovation'\n",
       "\\item 'semester'\n",
       "\\item 'tto'\n",
       "\\item 'nipa'\n",
       "\\item 'garments'\n",
       "\\item 'coal'\n",
       "\\end{enumerate*}\n",
       "\n",
       "\\item[\\$`Topic 3`] \\begin{enumerate*}\n",
       "\\item 'foodstuffs'\n",
       "\\item 'improvements'\n",
       "\\item 'machines'\n",
       "\\item 'kitchen'\n",
       "\\item 'generator'\n",
       "\\item 'son’s'\n",
       "\\item 'timber'\n",
       "\\item 'latrine'\n",
       "\\item 'laptop'\n",
       "\\item 'develop'\n",
       "\\item 'plow'\n",
       "\\item 'cart'\n",
       "\\item 'phones'\n",
       "\\item 'bowls'\n",
       "\\item 'complete'\n",
       "\\item 'plot'\n",
       "\\item 'seasonal'\n",
       "\\end{enumerate*}\n",
       "\n",
       "\\end{description}\n"
      ],
      "text/markdown": [
       "$`Topic 1`\n",
       ":   1. 'cocoa'\n",
       "2. 'bales'\n",
       "3. 'repairing'\n",
       "4. 'medicine'\n",
       "5. 'ladies'\n",
       "6. 'fix'\n",
       "7. 'restock'\n",
       "8. 'welding'\n",
       "9. 'coconuts'\n",
       "10. 'provisions'\n",
       "11. 'forage'\n",
       "12. 'tractor'\n",
       "13. 'horticulture'\n",
       "14. 'refrigerator'\n",
       "15. 'baking'\n",
       "\n",
       "\n",
       "\n",
       "$`Topic 2`\n",
       ":   1. 'goats'\n",
       "2. 'computer'\n",
       "3. 'open'\n",
       "4. 'room'\n",
       "5. 'medicines'\n",
       "6. 'clinic'\n",
       "7. 'baby'\n",
       "8. 'fattening'\n",
       "9. 'reselling'\n",
       "10. 'fodder'\n",
       "11. 'renovation'\n",
       "12. 'semester'\n",
       "13. 'tto'\n",
       "14. 'nipa'\n",
       "15. 'garments'\n",
       "16. 'coal'\n",
       "\n",
       "\n",
       "\n",
       "$`Topic 3`\n",
       ":   1. 'foodstuffs'\n",
       "2. 'improvements'\n",
       "3. 'machines'\n",
       "4. 'kitchen'\n",
       "5. 'generator'\n",
       "6. 'son’s'\n",
       "7. 'timber'\n",
       "8. 'latrine'\n",
       "9. 'laptop'\n",
       "10. 'develop'\n",
       "11. 'plow'\n",
       "12. 'cart'\n",
       "13. 'phones'\n",
       "14. 'bowls'\n",
       "15. 'complete'\n",
       "16. 'plot'\n",
       "17. 'seasonal'\n",
       "\n",
       "\n",
       "\n",
       "\n",
       "\n"
      ],
      "text/plain": [
       "$`Topic 1`\n",
       " [1] \"cocoa\"        \"bales\"        \"repairing\"    \"medicine\"     \"ladies\"      \n",
       " [6] \"fix\"          \"restock\"      \"welding\"      \"coconuts\"     \"provisions\"  \n",
       "[11] \"forage\"       \"tractor\"      \"horticulture\" \"refrigerator\" \"baking\"      \n",
       "\n",
       "$`Topic 2`\n",
       " [1] \"goats\"      \"computer\"   \"open\"       \"room\"       \"medicines\" \n",
       " [6] \"clinic\"     \"baby\"       \"fattening\"  \"reselling\"  \"fodder\"    \n",
       "[11] \"renovation\" \"semester\"   \"tto\"        \"nipa\"       \"garments\"  \n",
       "[16] \"coal\"      \n",
       "\n",
       "$`Topic 3`\n",
       " [1] \"foodstuffs\"   \"improvements\" \"machines\"     \"kitchen\"      \"generator\"   \n",
       " [6] \"son’s\"        \"timber\"       \"latrine\"      \"laptop\"       \"develop\"     \n",
       "[11] \"plow\"         \"cart\"         \"phones\"       \"bowls\"        \"complete\"    \n",
       "[16] \"plot\"         \"seasonal\"    \n"
      ]
     },
     "metadata": {},
     "output_type": "display_data"
    }
   ],
   "source": [
    "freqterms <- terms(lda, 40)\n",
    "duplicates <- c(freqterms)[duplicated(c(freqterms))]\n",
    "distinctterms <- lapply(as.list(as.data.frame(freqterms)), function(x) x[!(x %in% duplicates)])\n",
    "distinctterms"
   ]
  },
  {
   "cell_type": "markdown",
   "metadata": {},
   "source": [
    "## Supervised methods: Data preparation"
   ]
  },
  {
   "cell_type": "markdown",
   "metadata": {},
   "source": [
    "The following cells transform and prep the data to be used as inputs for supervised methods. We split the data into a test and a training sample. The outcome we try to predict is whether the loan is obtained for a business proposition in the agricultural sector."
   ]
  },
  {
   "cell_type": "code",
   "execution_count": 30,
   "metadata": {},
   "outputs": [
    {
     "data": {
      "text/html": [
       "<style>\n",
       ".list-inline {list-style: none; margin:0; padding: 0}\n",
       ".list-inline>li {display: inline-block}\n",
       ".list-inline>li:not(:last-child)::after {content: \"\\00b7\"; padding: 0 .5ex}\n",
       "</style>\n",
       "<ol class=list-inline><li>9999</li><li>88</li></ol>\n"
      ],
      "text/latex": [
       "\\begin{enumerate*}\n",
       "\\item 9999\n",
       "\\item 88\n",
       "\\end{enumerate*}\n"
      ],
      "text/markdown": [
       "1. 9999\n",
       "2. 88\n",
       "\n",
       "\n"
      ],
      "text/plain": [
       "[1] 9999   88"
      ]
     },
     "metadata": {},
     "output_type": "display_data"
    }
   ],
   "source": [
    "## Supervised methods: Prep data\n",
    "## Convert the sparse term-document matrix to a standard data frame\n",
    "bag <- as.data.frame(as.matrix(dtms))\n",
    "dim(bag)"
   ]
  },
  {
   "cell_type": "code",
   "execution_count": 31,
   "metadata": {},
   "outputs": [
    {
     "data": {
      "text/html": [
       "<style>\n",
       ".list-inline {list-style: none; margin:0; padding: 0}\n",
       ".list-inline>li {display: inline-block}\n",
       ".list-inline>li:not(:last-child)::after {content: \"\\00b7\"; padding: 0 .5ex}\n",
       "</style>\n",
       "<ol class=list-inline><li>9999</li><li>88</li></ol>\n"
      ],
      "text/latex": [
       "\\begin{enumerate*}\n",
       "\\item 9999\n",
       "\\item 88\n",
       "\\end{enumerate*}\n"
      ],
      "text/markdown": [
       "1. 9999\n",
       "2. 88\n",
       "\n",
       "\n"
      ],
      "text/plain": [
       "[1] 9999   88"
      ]
     },
     "metadata": {},
     "output_type": "display_data"
    }
   ],
   "source": [
    "## Convert token counts to simple binary indicators\n",
    "bag.bin <- as.data.frame(sapply(bag, function(x) as.numeric(x > 0)))\n",
    "dim(bag.bin)"
   ]
  },
  {
   "cell_type": "code",
   "execution_count": 32,
   "metadata": {},
   "outputs": [
    {
     "data": {
      "text/plain": [
       "\n",
       "   0    1 \n",
       "7510 2489 "
      ]
     },
     "metadata": {},
     "output_type": "display_data"
    }
   ],
   "source": [
    "## Add names to rows\n",
    "bag$doc_id <- rownames(as.matrix(dtms))\n",
    "bag.bin$doc_id <- rownames(as.matrix(dtms))\n",
    "\n",
    "## Add outcomes from the original data: Predict agricultural sector\n",
    "loans$agsector <- as.numeric(loans$sectorname==\"Agriculture\")\n",
    "bag <- merge(bag, loans[, .(agsector, loanamount, doc_id)], by = \"doc_id\")\n",
    "bag.bin <- merge(bag.bin, loans[, .(agsector, loanamount, doc_id)], by = \"doc_id\")\n",
    "                            \n",
    "# How many people want a loan in the agricultural sector?                            \n",
    "table(bag$agsector)"
   ]
  },
  {
   "cell_type": "code",
   "execution_count": 33,
   "metadata": {},
   "outputs": [],
   "source": [
    "## Partition data in test and training sample\n",
    "set.seed(100)\n",
    "testids <- sample(floor(nrow(bag)/3))\n",
    "xtrain <- as.matrix(bag[-testids, !(names(bag) %in% c(\"agsector\", \"loanamount\", \"doc_id\"))])\n",
    "xtest  <- as.matrix(bag[ testids, !(names(bag) %in% c(\"agsector\", \"loanamount\", \"doc_id\"))])\n",
    "xtrain.bin <- as.matrix(bag.bin[-testids, !(names(bag) %in% c(\"agsector\", \"loanamount\", \"doc_id\"))])\n",
    "xtest.bin  <- as.matrix(bag.bin[ testids, !(names(bag) %in% c(\"agsector\", \"loanamount\", \"doc_id\"))])\n",
    "ytrain <- as.factor(bag[-testids,  \"agsector\"])\n",
    "ytest  <- as.factor(bag[ testids,  \"agsector\"])"
   ]
  },
  {
   "cell_type": "markdown",
   "metadata": {},
   "source": [
    "## Supervised generative model: Naive Bayes classifier"
   ]
  },
  {
   "cell_type": "markdown",
   "metadata": {},
   "source": [
    "### With binary token indicators"
   ]
  },
  {
   "cell_type": "markdown",
   "metadata": {},
   "source": [
    "Naive Bayes is a simple model relying on a conditional independence assumption of the token counts. It often performs acceptable. In this case it does not perform very well, possibly because we filtered the input token data to aggressively. Among other things, there is no need to remove stopwords here, and it may not improve performance. You can feed the unfiltered data or try different transformations and see whether this improves matters. However, Naive Bayes may also be not well suited for this setting."
   ]
  },
  {
   "cell_type": "code",
   "execution_count": 34,
   "metadata": {},
   "outputs": [
    {
     "data": {
      "text/html": [
       "<style>\n",
       ".dl-inline {width: auto; margin:0; padding: 0}\n",
       ".dl-inline>dt, .dl-inline>dd {float: none; width: auto; display: inline-block}\n",
       ".dl-inline>dt::after {content: \":\\0020\"; padding-right: .5ex}\n",
       ".dl-inline>dt:not(:first-of-type) {padding-left: .5ex}\n",
       "</style><dl class=dl-inline><dt>0</dt><dd>2645</dd><dt>1</dt><dd>688</dd></dl>\n"
      ],
      "text/latex": [
       "\\begin{description*}\n",
       "\\item[0] 2645\n",
       "\\item[1] 688\n",
       "\\end{description*}\n"
      ],
      "text/markdown": [
       "0\n",
       ":   26451\n",
       ":   688\n",
       "\n"
      ],
      "text/plain": [
       "   0    1 \n",
       "2645  688 "
      ]
     },
     "metadata": {},
     "output_type": "display_data"
    }
   ],
   "source": [
    "## Supervised generative model: Naive Bayes\n",
    "## naive_bayes package requires transforming everything to factors and using binary indicators, not counts.\n",
    "xtrain.factor <- as.data.frame(lapply(as.data.frame(xtrain.bin), as.factor))\n",
    "xtest.factor <- as.data.frame(lapply(as.data.frame(xtest.bin), as.factor))\n",
    "nbclassifier <- naive_bayes(xtrain.factor, ytrain, laplace = 1)\n",
    "nbpred <- predict(nbclassifier, xtest.factor)\n",
    "summary(nbpred)"
   ]
  },
  {
   "cell_type": "code",
   "execution_count": 35,
   "metadata": {},
   "outputs": [
    {
     "data": {
      "text/html": [
       "0.74"
      ],
      "text/latex": [
       "0.74"
      ],
      "text/markdown": [
       "0.74"
      ],
      "text/plain": [
       "[1] 0.74"
      ]
     },
     "metadata": {},
     "output_type": "display_data"
    },
    {
     "data": {
      "text/plain": [
       "Confusion Matrix and Statistics\n",
       "\n",
       "          Reference\n",
       "Prediction    0    1\n",
       "         0 2116  529\n",
       "         1  337  351\n",
       "                                         \n",
       "               Accuracy : 0.7402         \n",
       "                 95% CI : (0.7249, 0.755)\n",
       "    No Information Rate : 0.736          \n",
       "    P-Value [Acc > NIR] : 0.2987         \n",
       "                                         \n",
       "                  Kappa : 0.2811         \n",
       "                                         \n",
       " Mcnemar's Test P-Value : 8.558e-11      \n",
       "                                         \n",
       "            Sensitivity : 0.8626         \n",
       "            Specificity : 0.3989         \n",
       "         Pos Pred Value : 0.8000         \n",
       "         Neg Pred Value : 0.5102         \n",
       "             Prevalence : 0.7360         \n",
       "         Detection Rate : 0.6349         \n",
       "   Detection Prevalence : 0.7936         \n",
       "      Balanced Accuracy : 0.6307         \n",
       "                                         \n",
       "       'Positive' Class : 0              \n",
       "                                         "
      ]
     },
     "metadata": {},
     "output_type": "display_data"
    }
   ],
   "source": [
    "## Performance statistics: Classification rate\n",
    "round(1-mean(as.numeric(nbpred != ytest)), 2)\n",
    "\n",
    "## Performance statistics: Confusion matrix (\n",
    "## table(nbpred, ytest)\n",
    "confusionMatrix(nbpred, ytest)"
   ]
  },
  {
   "cell_type": "markdown",
   "metadata": {},
   "source": [
    "#### Tuning the laplace smoothing parameter\n",
    "\n",
    "There isn't really much scope for tuning with naive bayes."
   ]
  },
  {
   "cell_type": "code",
   "execution_count": 51,
   "metadata": {},
   "outputs": [
    {
     "data": {
      "text/plain": [
       "Naive Bayes \n",
       "\n",
       "6666 samples\n",
       "  88 predictor\n",
       "   2 classes: '0', '1' \n",
       "\n",
       "No pre-processing\n",
       "Resampling: Cross-Validated (10 fold) \n",
       "Summary of sample sizes: 5999, 5999, 6000, 5999, 6000, 5999, ... \n",
       "Resampling results across tuning parameters:\n",
       "\n",
       "  laplace  Accuracy   Kappa    \n",
       "  0.0      0.7814233  0.3490710\n",
       "  0.1      0.7812733  0.3487546\n",
       "  0.2      0.7811234  0.3481584\n",
       "  0.3      0.7812733  0.3488020\n",
       "  0.4      0.7814233  0.3493837\n",
       "  0.5      0.7809735  0.3478648\n",
       "  0.6      0.7811234  0.3481529\n",
       "  0.7      0.7814233  0.3494069\n",
       "  0.8      0.7817231  0.3499746\n",
       "  0.9      0.7817231  0.3499746\n",
       "  1.0      0.7818733  0.3502567\n",
       "\n",
       "Tuning parameter 'usekernel' was held constant at a value of TRUE\n",
       "\n",
       "Tuning parameter 'adjust' was held constant at a value of 1\n",
       "Accuracy was used to select the optimal model using the largest value.\n",
       "The final values used for the model were laplace = 1, usekernel = TRUE\n",
       " and adjust = 1."
      ]
     },
     "metadata": {},
     "output_type": "display_data"
    },
    {
     "name": "stdout",
     "output_type": "stream",
     "text": [
      "\n",
      "================================== Naive Bayes ================================== \n",
      " \n",
      "- Call: naive_bayes.default(x = x, y = y, laplace = param$laplace, usekernel = TRUE,      adjust = param$adjust) \n",
      "- Laplace: 1 \n",
      "- Classes: 2 \n",
      "- Samples: 6666 \n",
      "- Features: 88 \n",
      "- Conditional distributions: \n",
      "    - Bernoulli: 88\n",
      "- Prior probabilities: \n",
      "    - 0: 0.7586\n",
      "    - 1: 0.2414\n",
      "\n",
      "--------------------------------------------------------------------------------- \n"
     ]
    },
    {
     "data": {
      "text/html": [
       "0.74017401740174"
      ],
      "text/latex": [
       "0.74017401740174"
      ],
      "text/markdown": [
       "0.74017401740174"
      ],
      "text/plain": [
       "[1] 0.740174"
      ]
     },
     "metadata": {},
     "output_type": "display_data"
    },
    {
     "data": {
      "text/plain": [
       "Confusion Matrix and Statistics\n",
       "\n",
       "          Reference\n",
       "Prediction    0    1\n",
       "         0 2116  529\n",
       "         1  337  351\n",
       "                                         \n",
       "               Accuracy : 0.7402         \n",
       "                 95% CI : (0.7249, 0.755)\n",
       "    No Information Rate : 0.736          \n",
       "    P-Value [Acc > NIR] : 0.2987         \n",
       "                                         \n",
       "                  Kappa : 0.2811         \n",
       "                                         \n",
       " Mcnemar's Test P-Value : 8.558e-11      \n",
       "                                         \n",
       "            Sensitivity : 0.8626         \n",
       "            Specificity : 0.3989         \n",
       "         Pos Pred Value : 0.8000         \n",
       "         Neg Pred Value : 0.5102         \n",
       "             Prevalence : 0.7360         \n",
       "         Detection Rate : 0.6349         \n",
       "   Detection Prevalence : 0.7936         \n",
       "      Balanced Accuracy : 0.6307         \n",
       "                                         \n",
       "       'Positive' Class : 0              \n",
       "                                         "
      ]
     },
     "metadata": {},
     "output_type": "display_data"
    }
   ],
   "source": [
    "## parameter grid\n",
    "nb.grid <- expand.grid(\n",
    "  laplace = seq(0, 1, 0.1),\n",
    "  adjust = 1,\n",
    "  usekernel = TRUE\n",
    ")\n",
    "\n",
    "## use k-fold cv to tune the laplace smoothing parameter\n",
    "nbclassifier <- train(\n",
    "  xtrain.factor, ytrain,\n",
    "  method = \"naive_bayes\",\n",
    "  trControl = trainControl(method = \"cv\", number = 10),\n",
    "  tuneGrid = nb.grid\n",
    ")\n",
    "\n",
    "nbclassifier\n",
    "summary(nbclassifier)"
   ]
  },
  {
   "cell_type": "code",
   "execution_count": 52,
   "metadata": {},
   "outputs": [
    {
     "data": {
      "text/html": [
       "0.74017401740174"
      ],
      "text/latex": [
       "0.74017401740174"
      ],
      "text/markdown": [
       "0.74017401740174"
      ],
      "text/plain": [
       "[1] 0.740174"
      ]
     },
     "metadata": {},
     "output_type": "display_data"
    },
    {
     "data": {
      "text/plain": [
       "Confusion Matrix and Statistics\n",
       "\n",
       "          Reference\n",
       "Prediction    0    1\n",
       "         0 2116  529\n",
       "         1  337  351\n",
       "                                         \n",
       "               Accuracy : 0.7402         \n",
       "                 95% CI : (0.7249, 0.755)\n",
       "    No Information Rate : 0.736          \n",
       "    P-Value [Acc > NIR] : 0.2987         \n",
       "                                         \n",
       "                  Kappa : 0.2811         \n",
       "                                         \n",
       " Mcnemar's Test P-Value : 8.558e-11      \n",
       "                                         \n",
       "            Sensitivity : 0.8626         \n",
       "            Specificity : 0.3989         \n",
       "         Pos Pred Value : 0.8000         \n",
       "         Neg Pred Value : 0.5102         \n",
       "             Prevalence : 0.7360         \n",
       "         Detection Rate : 0.6349         \n",
       "   Detection Prevalence : 0.7936         \n",
       "      Balanced Accuracy : 0.6307         \n",
       "                                         \n",
       "       'Positive' Class : 0              \n",
       "                                         "
      ]
     },
     "metadata": {},
     "output_type": "display_data"
    }
   ],
   "source": [
    "nbpred <- predict(nbclassifier, xtest.factor)\n",
    "1-mean(as.numeric(nbpred != ytest))\n",
    "confusionMatrix(nbpred, ytest)"
   ]
  },
  {
   "cell_type": "markdown",
   "metadata": {},
   "source": [
    "### With token counts"
   ]
  },
  {
   "cell_type": "markdown",
   "metadata": {},
   "source": [
    "Binary features perform slightly better."
   ]
  },
  {
   "cell_type": "code",
   "execution_count": 36,
   "metadata": {},
   "outputs": [],
   "source": [
    "## fastNaiveBayes is the better package (supports multinomial distribution, for non-binary feature counts)\n",
    "## fnb.detect_distribution(xtrain)\n",
    "\n",
    "nbclassifier <- fastNaiveBayes(xtrain, ytrain)\n",
    "## nbclassifier <- multinomial_naive_bayes(xtrain, ytrain)"
   ]
  },
  {
   "cell_type": "code",
   "execution_count": 37,
   "metadata": {},
   "outputs": [
    {
     "data": {
      "text/html": [
       "0.74"
      ],
      "text/latex": [
       "0.74"
      ],
      "text/markdown": [
       "0.74"
      ],
      "text/plain": [
       "[1] 0.74"
      ]
     },
     "metadata": {},
     "output_type": "display_data"
    },
    {
     "data": {
      "text/plain": [
       "Confusion Matrix and Statistics\n",
       "\n",
       "          Reference\n",
       "Prediction    0    1\n",
       "         0 2116  529\n",
       "         1  337  351\n",
       "                                         \n",
       "               Accuracy : 0.7402         \n",
       "                 95% CI : (0.7249, 0.755)\n",
       "    No Information Rate : 0.736          \n",
       "    P-Value [Acc > NIR] : 0.2987         \n",
       "                                         \n",
       "                  Kappa : 0.2811         \n",
       "                                         \n",
       " Mcnemar's Test P-Value : 8.558e-11      \n",
       "                                         \n",
       "            Sensitivity : 0.8626         \n",
       "            Specificity : 0.3989         \n",
       "         Pos Pred Value : 0.8000         \n",
       "         Neg Pred Value : 0.5102         \n",
       "             Prevalence : 0.7360         \n",
       "         Detection Rate : 0.6349         \n",
       "   Detection Prevalence : 0.7936         \n",
       "      Balanced Accuracy : 0.6307         \n",
       "                                         \n",
       "       'Positive' Class : 0              \n",
       "                                         "
      ]
     },
     "metadata": {},
     "output_type": "display_data"
    }
   ],
   "source": [
    "## Performance statistics: Classification rate\n",
    "round(1-mean(as.numeric(nbpred != ytest)), 2)\n",
    "\n",
    "## Performance statistics: Confusion matrix (\n",
    "## table(nbpred, ytest)\n",
    "confusionMatrix(nbpred, ytest)"
   ]
  },
  {
   "cell_type": "markdown",
   "metadata": {},
   "source": [
    "## Supervised text regression: L<sub>1</sub> penalized logistic classifier"
   ]
  },
  {
   "cell_type": "markdown",
   "metadata": {},
   "source": [
    "Looking at the misclassification rate and the confusion matrix, the model performs better than naive bayes in predicting the agricultural sector. However, looking at precision and recall, the model again does poorly in getting the true condition outcomes right, leading to a large number of false negatives."
   ]
  },
  {
   "cell_type": "markdown",
   "metadata": {},
   "source": [
    "### With binary token indicators"
   ]
  },
  {
   "cell_type": "code",
   "execution_count": 38,
   "metadata": {},
   "outputs": [
    {
     "data": {
      "text/html": [
       "<style>\n",
       ".dl-inline {width: auto; margin:0; padding: 0}\n",
       ".dl-inline>dt, .dl-inline>dd {float: none; width: auto; display: inline-block}\n",
       ".dl-inline>dt::after {content: \":\\0020\"; padding-right: .5ex}\n",
       ".dl-inline>dt:not(:first-of-type) {padding-left: .5ex}\n",
       "</style><dl class=dl-inline><dt>0</dt><dd>2898</dd><dt>1</dt><dd>435</dd></dl>\n"
      ],
      "text/latex": [
       "\\begin{description*}\n",
       "\\item[0] 2898\n",
       "\\item[1] 435\n",
       "\\end{description*}\n"
      ],
      "text/markdown": [
       "0\n",
       ":   28981\n",
       ":   435\n",
       "\n"
      ],
      "text/plain": [
       "   0    1 \n",
       "2898  435 "
      ]
     },
     "metadata": {},
     "output_type": "display_data"
    }
   ],
   "source": [
    "## Supervised text regression: L1 penalized logistic regression\n",
    "l1classifier <- cv.glmnet(xtrain.bin, ytrain, alpha = 1, family = \"binomial\")\n",
    "l1pred <- as.factor(predict(l1classifier, xtest.bin, s = \"lambda.min\", type = \"class\"))\n",
    "summary(l1pred)"
   ]
  },
  {
   "cell_type": "code",
   "execution_count": 39,
   "metadata": {},
   "outputs": [
    {
     "data": {
      "text/html": [
       "0.79"
      ],
      "text/latex": [
       "0.79"
      ],
      "text/markdown": [
       "0.79"
      ],
      "text/plain": [
       "[1] 0.79"
      ]
     },
     "metadata": {},
     "output_type": "display_data"
    },
    {
     "data": {
      "text/plain": [
       "Confusion Matrix and Statistics\n",
       "\n",
       "          Reference\n",
       "Prediction    0    1\n",
       "         0 2322  576\n",
       "         1  131  304\n",
       "                                          \n",
       "               Accuracy : 0.7879          \n",
       "                 95% CI : (0.7736, 0.8017)\n",
       "    No Information Rate : 0.736           \n",
       "    P-Value [Acc > NIR] : 2.047e-12       \n",
       "                                          \n",
       "                  Kappa : 0.3486          \n",
       "                                          \n",
       " Mcnemar's Test P-Value : < 2.2e-16       \n",
       "                                          \n",
       "            Sensitivity : 0.9466          \n",
       "            Specificity : 0.3455          \n",
       "         Pos Pred Value : 0.8012          \n",
       "         Neg Pred Value : 0.6989          \n",
       "             Prevalence : 0.7360          \n",
       "         Detection Rate : 0.6967          \n",
       "   Detection Prevalence : 0.8695          \n",
       "      Balanced Accuracy : 0.6460          \n",
       "                                          \n",
       "       'Positive' Class : 0               \n",
       "                                          "
      ]
     },
     "metadata": {},
     "output_type": "display_data"
    }
   ],
   "source": [
    "## Performance statistics: Classification rate\n",
    "round(1-mean(as.numeric(l1pred != ytest)), 2)\n",
    "\n",
    "## Performance statistics: Confusion matrix\n",
    "caret::confusionMatrix(l1pred, ytest)"
   ]
  },
  {
   "cell_type": "markdown",
   "metadata": {},
   "source": [
    "### With token counts"
   ]
  },
  {
   "cell_type": "markdown",
   "metadata": {},
   "source": [
    "If you check, the model with feature counts does better than the binary model, but only marginally."
   ]
  },
  {
   "cell_type": "code",
   "execution_count": 40,
   "metadata": {},
   "outputs": [
    {
     "data": {
      "text/html": [
       "<style>\n",
       ".dl-inline {width: auto; margin:0; padding: 0}\n",
       ".dl-inline>dt, .dl-inline>dd {float: none; width: auto; display: inline-block}\n",
       ".dl-inline>dt::after {content: \":\\0020\"; padding-right: .5ex}\n",
       ".dl-inline>dt:not(:first-of-type) {padding-left: .5ex}\n",
       "</style><dl class=dl-inline><dt>0</dt><dd>2924</dd><dt>1</dt><dd>409</dd></dl>\n"
      ],
      "text/latex": [
       "\\begin{description*}\n",
       "\\item[0] 2924\n",
       "\\item[1] 409\n",
       "\\end{description*}\n"
      ],
      "text/markdown": [
       "0\n",
       ":   29241\n",
       ":   409\n",
       "\n"
      ],
      "text/plain": [
       "   0    1 \n",
       "2924  409 "
      ]
     },
     "metadata": {},
     "output_type": "display_data"
    }
   ],
   "source": [
    "## Supervised text regression: L1 penalized logistic regression\n",
    "l1classifier <- cv.glmnet(xtrain, ytrain, alpha = 1, family = \"binomial\")\n",
    "l1pred <- as.factor(predict(l1classifier, xtest, s = \"lambda.min\", type = \"class\"))\n",
    "summary(l1pred)"
   ]
  },
  {
   "cell_type": "code",
   "execution_count": 41,
   "metadata": {},
   "outputs": [
    {
     "data": {
      "text/html": [
       "0.79"
      ],
      "text/latex": [
       "0.79"
      ],
      "text/markdown": [
       "0.79"
      ],
      "text/plain": [
       "[1] 0.79"
      ]
     },
     "metadata": {},
     "output_type": "display_data"
    },
    {
     "data": {
      "text/plain": [
       "Confusion Matrix and Statistics\n",
       "\n",
       "          Reference\n",
       "Prediction    0    1\n",
       "         0 2340  584\n",
       "         1  113  296\n",
       "                                          \n",
       "               Accuracy : 0.7909          \n",
       "                 95% CI : (0.7767, 0.8046)\n",
       "    No Information Rate : 0.736           \n",
       "    P-Value [Acc > NIR] : 1.013e-13       \n",
       "                                          \n",
       "                  Kappa : 0.3504          \n",
       "                                          \n",
       " Mcnemar's Test P-Value : < 2.2e-16       \n",
       "                                          \n",
       "            Sensitivity : 0.9539          \n",
       "            Specificity : 0.3364          \n",
       "         Pos Pred Value : 0.8003          \n",
       "         Neg Pred Value : 0.7237          \n",
       "             Prevalence : 0.7360          \n",
       "         Detection Rate : 0.7021          \n",
       "   Detection Prevalence : 0.8773          \n",
       "      Balanced Accuracy : 0.6451          \n",
       "                                          \n",
       "       'Positive' Class : 0               \n",
       "                                          "
      ]
     },
     "metadata": {},
     "output_type": "display_data"
    }
   ],
   "source": [
    "## Performance statistics: Classification rate\n",
    "round(1-mean(as.numeric(l1pred != ytest)), 2)\n",
    "\n",
    "## Performance statistics: Confusion matrix\n",
    "caret::confusionMatrix(l1pred, ytest)"
   ]
  },
  {
   "cell_type": "markdown",
   "metadata": {},
   "source": [
    "This also trains a logistic lasso estimator, weighting the penalty factor for each input token by the token's standard deviation. Results do not really differ compared to just standardizing (no surprise)."
   ]
  },
  {
   "cell_type": "code",
   "execution_count": 42,
   "metadata": {},
   "outputs": [
    {
     "data": {
      "text/html": [
       "<style>\n",
       ".dl-inline {width: auto; margin:0; padding: 0}\n",
       ".dl-inline>dt, .dl-inline>dd {float: none; width: auto; display: inline-block}\n",
       ".dl-inline>dt::after {content: \":\\0020\"; padding-right: .5ex}\n",
       ".dl-inline>dt:not(:first-of-type) {padding-left: .5ex}\n",
       "</style><dl class=dl-inline><dt>0</dt><dd>2914</dd><dt>1</dt><dd>419</dd></dl>\n"
      ],
      "text/latex": [
       "\\begin{description*}\n",
       "\\item[0] 2914\n",
       "\\item[1] 419\n",
       "\\end{description*}\n"
      ],
      "text/markdown": [
       "0\n",
       ":   29141\n",
       ":   419\n",
       "\n"
      ],
      "text/plain": [
       "   0    1 \n",
       "2914  419 "
      ]
     },
     "metadata": {},
     "output_type": "display_data"
    }
   ],
   "source": [
    "## L1 logistic classifier using rare feature upweighting\n",
    "# l1classifier <- cv.glmnet(xtrain, ytrain, alpha = 1, family = \"binomial\")\n",
    "## L1 logistic classifier using rare feature upweighting\n",
    "sdweights <- apply(xtrain, 2, sd)\n",
    "l1classifier <- cv.glmnet(xtrain, ytrain, alpha = 1, family = \"binomial\",\n",
    "                          standardize = FALSE, penalty.factor  = sdweights)\n",
    "l1pred <- as.factor(predict(l1classifier, xtest, s = \"lambda.min\", type = \"class\",\n",
    "                            penalty.factor  = sdweights))\n",
    "summary(l1pred)"
   ]
  },
  {
   "cell_type": "code",
   "execution_count": 43,
   "metadata": {},
   "outputs": [
    {
     "data": {
      "text/html": [
       "0.79"
      ],
      "text/latex": [
       "0.79"
      ],
      "text/markdown": [
       "0.79"
      ],
      "text/plain": [
       "[1] 0.79"
      ]
     },
     "metadata": {},
     "output_type": "display_data"
    },
    {
     "data": {
      "text/plain": [
       "Confusion Matrix and Statistics\n",
       "\n",
       "          Reference\n",
       "Prediction    0    1\n",
       "         0 2338  576\n",
       "         1  115  304\n",
       "                                          \n",
       "               Accuracy : 0.7927          \n",
       "                 95% CI : (0.7785, 0.8063)\n",
       "    No Information Rate : 0.736           \n",
       "    P-Value [Acc > NIR] : 1.532e-14       \n",
       "                                          \n",
       "                  Kappa : 0.3588          \n",
       "                                          \n",
       " Mcnemar's Test P-Value : < 2.2e-16       \n",
       "                                          \n",
       "            Sensitivity : 0.9531          \n",
       "            Specificity : 0.3455          \n",
       "         Pos Pred Value : 0.8023          \n",
       "         Neg Pred Value : 0.7255          \n",
       "             Prevalence : 0.7360          \n",
       "         Detection Rate : 0.7015          \n",
       "   Detection Prevalence : 0.8743          \n",
       "      Balanced Accuracy : 0.6493          \n",
       "                                          \n",
       "       'Positive' Class : 0               \n",
       "                                          "
      ]
     },
     "metadata": {},
     "output_type": "display_data"
    }
   ],
   "source": [
    "## Performance statistics: Classification rate\n",
    "round(1-mean(as.numeric(l1pred != ytest)), 2)\n",
    "## Performance statistics: Confusion matrix\n",
    "caret::confusionMatrix(l1pred, ytest)"
   ]
  },
  {
   "cell_type": "markdown",
   "metadata": {},
   "source": [
    "## Remarks and additions"
   ]
  },
  {
   "cell_type": "code",
   "execution_count": null,
   "metadata": {},
   "outputs": [],
   "source": [
    "## How would you go about improving performce for the classifiers?\n",
    "\n",
    "\n",
    "\n",
    "\n"
   ]
  },
  {
   "cell_type": "markdown",
   "metadata": {},
   "source": [
    "## (Addendum: Regression example: L<sub>1</sub> penalized linear regression)"
   ]
  },
  {
   "cell_type": "code",
   "execution_count": 45,
   "metadata": {},
   "outputs": [],
   "source": [
    "## Further example: Predict Loan Amount\n",
    "## Supervised text regression: L1 penalized linear regression\n",
    "\n",
    "## Rebuild outcome vectors\n",
    "#ytrain <- as.matrix(bag[-testids,  \"loanamount\"])\n",
    "#ytest  <- as.matrix(bag[ testids,  \"loanamount\"])\n",
    "\n",
    "## Estimate and predict\n",
    "#l1predictor <- cv.glmnet(xtrain, ytrain, alpha = 1, family = \"gaussian\")\n",
    "#l1pred <- predict(l1predictor, xtest, s = \"lambda.min\", type = \"response\")\n",
    "\n",
    "## RMSE\n",
    "#round(sqrt(mean((l1pred - ytest)^2)), 2)\n",
    "#postResample(l1pred, ytest)"
   ]
  }
 ],
 "metadata": {
  "kernelspec": {
   "display_name": "R",
   "language": "R",
   "name": "ir"
  },
  "language_info": {
   "codemirror_mode": "r",
   "file_extension": ".r",
   "mimetype": "text/x-r-source",
   "name": "R",
   "pygments_lexer": "r",
   "version": "4.0.2"
  }
 },
 "nbformat": 4,
 "nbformat_minor": 2
}
